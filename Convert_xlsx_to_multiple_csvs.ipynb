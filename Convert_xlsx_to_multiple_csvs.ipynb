{
 "cells": [
  {
   "cell_type": "code",
   "execution_count": 1,
   "metadata": {
    "scrolled": true
   },
   "outputs": [],
   "source": [
    "import pandas as pd\n",
    "excel_file = '/Users/uczhn/Documents/AZURE_DATA_SCIENCE_PYTHON/Data/set1_csv_dummy.xlsx'\n",
    "all_sheet= pd.read_excel(excel_file, sheet_name = None)\n",
    "sheets = all_sheet.keys()\n",
    "for sheet_name in sheets:\n",
    "    sheet = pd.read_excel(excel_file,sheet_name=sheet_name)\n",
    "    sheet.to_csv(\"/Users/uczhn/Documents/AZURE_DATA_SCIENCE_PYTHON/Data/%s.csv\" % sheet_name, index=False)"
   ]
  },
  {
   "cell_type": "code",
   "execution_count": 20,
   "metadata": {
    "collapsed": true
   },
   "outputs": [
    {
     "name": "stdout",
     "output_type": "stream",
     "text": [
      "Requirement already satisfied: pyodbc in /Users/uczhn/opt/anaconda3/lib/python3.8/site-packages (4.0.0-unsupported)\n",
      "\u001b[33mWARNING: You are using pip version 20.2.4; however, version 20.3.1 is available.\n",
      "You should consider upgrading via the '/Users/uczhn/opt/anaconda3/bin/python -m pip install --upgrade pip' command.\u001b[0m\n",
      "Note: you may need to restart the kernel to use updated packages.\n"
     ]
    }
   ],
   "source": []
  },
  {
   "cell_type": "code",
   "execution_count": null,
   "metadata": {},
   "outputs": [],
   "source": []
  }
 ],
 "metadata": {
  "kernelspec": {
   "display_name": "Python 3",
   "language": "python",
   "name": "python3"
  },
  "language_info": {
   "codemirror_mode": {
    "name": "ipython",
    "version": 3
   },
   "file_extension": ".py",
   "mimetype": "text/x-python",
   "name": "python",
   "nbconvert_exporter": "python",
   "pygments_lexer": "ipython3",
   "version": "3.8.3"
  }
 },
 "nbformat": 4,
 "nbformat_minor": 4
}
