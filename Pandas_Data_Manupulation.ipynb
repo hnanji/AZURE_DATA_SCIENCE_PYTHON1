{
 "cells": [
  {
   "cell_type": "markdown",
   "metadata": {},
   "source": [
    "Lesson 1\n",
    "https://nbviewer.jupyter.org/urls/bitbucket.org/hrojas/learn-pandas/raw/master/lessons/01%20-%20Lesson.ipynb"
   ]
  },
  {
   "cell_type": "code",
   "execution_count": null,
   "metadata": {},
   "outputs": [],
   "source": [
    "\n",
    "# importing the libraries needed\n",
    "import pandas as pd\n",
    "import matplotlib.pyplot as plt\n",
    "import sys\n",
    "from pandas import read_csv, DataFrame"
   ]
  },
  {
   "cell_type": "markdown",
   "metadata": {},
   "source": [
    "create a data set to use"
   ]
  },
  {
   "cell_type": "code",
   "execution_count": null,
   "metadata": {},
   "outputs": [],
   "source": [
    "names= ['bob','jessica','mary','john','mel']\n",
    "births = [966,155,77,578,973]"
   ]
  },
  {
   "cell_type": "code",
   "execution_count": 53,
   "metadata": {},
   "outputs": [],
   "source": [
    "# we can use the zip function to merge the two list"
   ]
  },
  {
   "cell_type": "code",
   "execution_count": null,
   "metadata": {},
   "outputs": [],
   "source": [
    "dataset = list(zip(names, births))\n",
    "dataset"
   ]
  },
  {
   "cell_type": "code",
   "execution_count": null,
   "metadata": {},
   "outputs": [],
   "source": [
    "# We now will use the pandas library to export this data set into a data frame, df\n",
    "df = pd.DataFrame(data=dataset, columns=['name','births'])\n",
    "df"
   ]
  },
  {
   "cell_type": "code",
   "execution_count": 9,
   "metadata": {},
   "outputs": [],
   "source": [
    "# Export the dataframe to a csv file using to_csv function, file will be saved in the same area as notebook except otherwise specified\n",
    "df.to_csv('/Users/uczhn/Documents/AZURE_DATA_SCIENCE_PYTHON/Data/births.csv', index = False, header= False)"
   ]
  },
  {
   "cell_type": "code",
   "execution_count": 10,
   "metadata": {},
   "outputs": [],
   "source": [
    "df.to_csv('/Users/uczhn/Documents/AZURE_DATA_SCIENCE_PYTHON/Data/births1.csv')"
   ]
  },
  {
   "cell_type": "markdown",
   "metadata": {},
   "source": [
    "Import data"
   ]
  },
  {
   "cell_type": "code",
   "execution_count": 58,
   "metadata": {},
   "outputs": [],
   "source": [
    "#check docstring of read_csv function\n",
    "#read_csv?"
   ]
  },
  {
   "cell_type": "code",
   "execution_count": null,
   "metadata": {},
   "outputs": [],
   "source": [
    "# file can be read in as in two ways \n",
    "# 1\n",
    "df1 = pd. read_csv('/Users/uczhn/Documents/AZURE_DATA_SCIENCE_PYTHON/Data/births.csv')\n",
    "#or we dan define the path if the path is very long\n",
    "location = r'/Users/uczhn/Documents/AZURE_DATA_SCIENCE_PYTHON/Data/births.csv'\n",
    "df2 = pd.read_csv(location)"
   ]
  },
  {
   "cell_type": "code",
   "execution_count": null,
   "metadata": {},
   "outputs": [],
   "source": [
    "# the column names are not imported\n",
    "print(df2)"
   ]
  },
  {
   "cell_type": "code",
   "execution_count": 13,
   "metadata": {},
   "outputs": [],
   "source": [
    "# to ensure the colums names are imported, you must speficify it using the names arguments\n",
    "df3 = pd.read_csv(location, names=['name','birth'])"
   ]
  },
  {
   "cell_type": "code",
   "execution_count": 14,
   "metadata": {},
   "outputs": [
    {
     "data": {
      "text/html": [
       "<div>\n",
       "<style scoped>\n",
       "    .dataframe tbody tr th:only-of-type {\n",
       "        vertical-align: middle;\n",
       "    }\n",
       "\n",
       "    .dataframe tbody tr th {\n",
       "        vertical-align: top;\n",
       "    }\n",
       "\n",
       "    .dataframe thead th {\n",
       "        text-align: right;\n",
       "    }\n",
       "</style>\n",
       "<table border=\"1\" class=\"dataframe\">\n",
       "  <thead>\n",
       "    <tr style=\"text-align: right;\">\n",
       "      <th></th>\n",
       "      <th>name</th>\n",
       "      <th>birth</th>\n",
       "    </tr>\n",
       "  </thead>\n",
       "  <tbody>\n",
       "    <tr>\n",
       "      <th>0</th>\n",
       "      <td>bob</td>\n",
       "      <td>966</td>\n",
       "    </tr>\n",
       "    <tr>\n",
       "      <th>1</th>\n",
       "      <td>jessica</td>\n",
       "      <td>155</td>\n",
       "    </tr>\n",
       "    <tr>\n",
       "      <th>2</th>\n",
       "      <td>mary</td>\n",
       "      <td>77</td>\n",
       "    </tr>\n",
       "    <tr>\n",
       "      <th>3</th>\n",
       "      <td>john</td>\n",
       "      <td>578</td>\n",
       "    </tr>\n",
       "    <tr>\n",
       "      <th>4</th>\n",
       "      <td>mel</td>\n",
       "      <td>973</td>\n",
       "    </tr>\n",
       "  </tbody>\n",
       "</table>\n",
       "</div>"
      ],
      "text/plain": [
       "      name  birth\n",
       "0      bob    966\n",
       "1  jessica    155\n",
       "2     mary     77\n",
       "3     john    578\n",
       "4      mel    973"
      ]
     },
     "execution_count": 14,
     "metadata": {},
     "output_type": "execute_result"
    }
   ],
   "source": [
    "df3"
   ]
  },
  {
   "cell_type": "markdown",
   "metadata": {},
   "source": [
    "Prepare data\n"
   ]
  },
  {
   "cell_type": "code",
   "execution_count": 63,
   "metadata": {},
   "outputs": [
    {
     "data": {
      "text/plain": [
       "name     object\n",
       "birth     int64\n",
       "dtype: object"
      ]
     },
     "execution_count": 63,
     "metadata": {},
     "output_type": "execute_result"
    }
   ],
   "source": [
    "# we need to check each colums if the data is of the right format\n",
    "# we can check whole data frame or columns wise\n",
    "df3.dtypes"
   ]
  },
  {
   "cell_type": "code",
   "execution_count": 64,
   "metadata": {},
   "outputs": [
    {
     "data": {
      "text/plain": [
       "dtype('O')"
      ]
     },
     "execution_count": 64,
     "metadata": {},
     "output_type": "execute_result"
    }
   ],
   "source": [
    "#colum wise\n",
    "df3.name.dtypes"
   ]
  },
  {
   "cell_type": "code",
   "execution_count": 65,
   "metadata": {},
   "outputs": [
    {
     "data": {
      "text/plain": [
       "dtype('int64')"
      ]
     },
     "execution_count": 65,
     "metadata": {},
     "output_type": "execute_result"
    }
   ],
   "source": [
    "#column wise\n",
    "df3.birth.dtypes"
   ]
  },
  {
   "cell_type": "markdown",
   "metadata": {},
   "source": [
    "Analyze data"
   ]
  },
  {
   "cell_type": "code",
   "execution_count": 66,
   "metadata": {},
   "outputs": [
    {
     "data": {
      "text/plain": [
       "973"
      ]
     },
     "execution_count": 66,
     "metadata": {},
     "output_type": "execute_result"
    }
   ],
   "source": [
    "# find the birth name that occures the most, ie max\n",
    "df3['birth'].max()"
   ]
  },
  {
   "cell_type": "code",
   "execution_count": 67,
   "metadata": {},
   "outputs": [
    {
     "data": {
      "text/plain": [
       "77"
      ]
     },
     "execution_count": 67,
     "metadata": {},
     "output_type": "execute_result"
    }
   ],
   "source": [
    "# find the birth name that occurs the least, ie min\n",
    "df3['birth'].min()"
   ]
  },
  {
   "cell_type": "code",
   "execution_count": 15,
   "metadata": {},
   "outputs": [],
   "source": [
    "# data can be sorted accoring to a specified column\n",
    "Sorted_data = df3.sort_values(['birth'], ascending = False)"
   ]
  },
  {
   "cell_type": "code",
   "execution_count": 69,
   "metadata": {},
   "outputs": [
    {
     "data": {
      "text/html": [
       "<div>\n",
       "<style scoped>\n",
       "    .dataframe tbody tr th:only-of-type {\n",
       "        vertical-align: middle;\n",
       "    }\n",
       "\n",
       "    .dataframe tbody tr th {\n",
       "        vertical-align: top;\n",
       "    }\n",
       "\n",
       "    .dataframe thead th {\n",
       "        text-align: right;\n",
       "    }\n",
       "</style>\n",
       "<table border=\"1\" class=\"dataframe\">\n",
       "  <thead>\n",
       "    <tr style=\"text-align: right;\">\n",
       "      <th></th>\n",
       "      <th>name</th>\n",
       "      <th>birth</th>\n",
       "    </tr>\n",
       "  </thead>\n",
       "  <tbody>\n",
       "    <tr>\n",
       "      <th>4</th>\n",
       "      <td>mel</td>\n",
       "      <td>973</td>\n",
       "    </tr>\n",
       "  </tbody>\n",
       "</table>\n",
       "</div>"
      ],
      "text/plain": [
       "  name  birth\n",
       "4  mel    973"
      ]
     },
     "execution_count": 69,
     "metadata": {},
     "output_type": "execute_result"
    }
   ],
   "source": [
    "# after sorting the data, the top value, ie max can be viewed using the head function\n",
    "Sorted_data. head(1)"
   ]
  },
  {
   "cell_type": "code",
   "execution_count": 70,
   "metadata": {},
   "outputs": [
    {
     "data": {
      "text/plain": [
       "[0    False\n",
       " 1    False\n",
       " 2    False\n",
       " 3    False\n",
       " 4     True\n",
       " Name: birth, dtype: bool]"
      ]
     },
     "execution_count": 70,
     "metadata": {},
     "output_type": "execute_result"
    }
   ],
   "source": [
    "# max could be found as follows. this will return true or false\n",
    "[df3['birth']==df3['birth'].max()]"
   ]
  },
  {
   "cell_type": "code",
   "execution_count": 71,
   "metadata": {},
   "outputs": [
    {
     "data": {
      "text/plain": [
       "4    mel\n",
       "Name: name, dtype: object"
      ]
     },
     "execution_count": 71,
     "metadata": {},
     "output_type": "execute_result"
    }
   ],
   "source": [
    "#this will select the name of the person with max value\n",
    "df3['name'][df3['birth'] == df3['birth'].max()]"
   ]
  },
  {
   "cell_type": "code",
   "execution_count": 16,
   "metadata": {},
   "outputs": [],
   "source": [
    "# Name associated with the maximum value\n",
    "MaxName = df3['name'][df3['birth'] == df3['birth'].max()].values"
   ]
  },
  {
   "cell_type": "code",
   "execution_count": 17,
   "metadata": {},
   "outputs": [
    {
     "data": {
      "text/plain": [
       "array(['mel'], dtype=object)"
      ]
     },
     "execution_count": 17,
     "metadata": {},
     "output_type": "execute_result"
    }
   ],
   "source": [
    "MaxName"
   ]
  },
  {
   "cell_type": "code",
   "execution_count": null,
   "metadata": {},
   "outputs": [],
   "source": []
  },
  {
   "cell_type": "markdown",
   "metadata": {},
   "source": [
    "Lesson 2"
   ]
  },
  {
   "cell_type": "code",
   "execution_count": 18,
   "metadata": {},
   "outputs": [],
   "source": [
    "# these steps just create another data set consiting of 1,000 baby names and the number of births recorded for that year (1880\n",
    "names = ['Bob','Jessica','Mary','John','Mel']\n"
   ]
  },
  {
   "cell_type": "code",
   "execution_count": 19,
   "metadata": {},
   "outputs": [],
   "source": [
    "from numpy import random\n"
   ]
  },
  {
   "cell_type": "code",
   "execution_count": 20,
   "metadata": {},
   "outputs": [],
   "source": [
    "random.seed(500)"
   ]
  },
  {
   "cell_type": "code",
   "execution_count": 22,
   "metadata": {
    "collapsed": true
   },
   "outputs": [
    {
     "data": {
      "text/plain": [
       "['Bob',\n",
       " 'John',\n",
       " 'Mary',\n",
       " 'Mel',\n",
       " 'John',\n",
       " 'John',\n",
       " 'Jessica',\n",
       " 'Bob',\n",
       " 'John',\n",
       " 'Jessica',\n",
       " 'Mel',\n",
       " 'Mel',\n",
       " 'Jessica',\n",
       " 'Mary',\n",
       " 'John',\n",
       " 'Mel',\n",
       " 'Mary',\n",
       " 'Mary',\n",
       " 'Jessica',\n",
       " 'Mel',\n",
       " 'Bob',\n",
       " 'Jessica',\n",
       " 'Bob',\n",
       " 'Mary',\n",
       " 'Mel',\n",
       " 'Jessica',\n",
       " 'John',\n",
       " 'Mary',\n",
       " 'Mel',\n",
       " 'Mel',\n",
       " 'Mary',\n",
       " 'John',\n",
       " 'Jessica',\n",
       " 'Jessica',\n",
       " 'Mary',\n",
       " 'Mary',\n",
       " 'John',\n",
       " 'Jessica',\n",
       " 'Mary',\n",
       " 'John',\n",
       " 'Mel',\n",
       " 'Mel',\n",
       " 'Jessica',\n",
       " 'Mel',\n",
       " 'John',\n",
       " 'Mary',\n",
       " 'Mel',\n",
       " 'Mel',\n",
       " 'Bob',\n",
       " 'Jessica',\n",
       " 'Mel',\n",
       " 'Mary',\n",
       " 'Mary',\n",
       " 'Bob',\n",
       " 'Mel',\n",
       " 'Mel',\n",
       " 'John',\n",
       " 'Mary',\n",
       " 'Jessica',\n",
       " 'Mary',\n",
       " 'Mel',\n",
       " 'Mary',\n",
       " 'Mary',\n",
       " 'Mary',\n",
       " 'Mary',\n",
       " 'John',\n",
       " 'Mary',\n",
       " 'Mel',\n",
       " 'Mel',\n",
       " 'Jessica',\n",
       " 'Mary',\n",
       " 'Mary',\n",
       " 'Bob',\n",
       " 'Mel',\n",
       " 'Mel',\n",
       " 'Mel',\n",
       " 'Bob',\n",
       " 'Bob',\n",
       " 'John',\n",
       " 'Mary',\n",
       " 'Mel',\n",
       " 'Bob',\n",
       " 'Bob',\n",
       " 'Jessica',\n",
       " 'Bob',\n",
       " 'Bob',\n",
       " 'John',\n",
       " 'Mel',\n",
       " 'Bob',\n",
       " 'Bob',\n",
       " 'Mel',\n",
       " 'Jessica',\n",
       " 'Jessica',\n",
       " 'Bob',\n",
       " 'Mary',\n",
       " 'John',\n",
       " 'John',\n",
       " 'Mel',\n",
       " 'John',\n",
       " 'Mary',\n",
       " 'John',\n",
       " 'Mel',\n",
       " 'John',\n",
       " 'Jessica',\n",
       " 'Jessica',\n",
       " 'Mel',\n",
       " 'Jessica',\n",
       " 'Mel',\n",
       " 'Bob',\n",
       " 'Jessica',\n",
       " 'Bob',\n",
       " 'Mary',\n",
       " 'Mel',\n",
       " 'Jessica',\n",
       " 'Mary',\n",
       " 'Mel',\n",
       " 'Mary',\n",
       " 'John',\n",
       " 'Mary',\n",
       " 'Jessica',\n",
       " 'Jessica',\n",
       " 'Mel',\n",
       " 'Mel',\n",
       " 'Jessica',\n",
       " 'Bob',\n",
       " 'Bob',\n",
       " 'John',\n",
       " 'Mary',\n",
       " 'John',\n",
       " 'Bob',\n",
       " 'Mary',\n",
       " 'Mel',\n",
       " 'Mary',\n",
       " 'Bob',\n",
       " 'Mary',\n",
       " 'Mary',\n",
       " 'John',\n",
       " 'Bob',\n",
       " 'Mel',\n",
       " 'Bob',\n",
       " 'Mel',\n",
       " 'Mary',\n",
       " 'Jessica',\n",
       " 'Jessica',\n",
       " 'Bob',\n",
       " 'Bob',\n",
       " 'Mel',\n",
       " 'Mary',\n",
       " 'Mary',\n",
       " 'Mary',\n",
       " 'Mary',\n",
       " 'Mary',\n",
       " 'Mary',\n",
       " 'John',\n",
       " 'Jessica',\n",
       " 'Mel',\n",
       " 'Mary',\n",
       " 'Mary',\n",
       " 'Mel',\n",
       " 'Bob',\n",
       " 'John',\n",
       " 'Mary',\n",
       " 'Bob',\n",
       " 'Bob',\n",
       " 'Mel',\n",
       " 'Jessica',\n",
       " 'John',\n",
       " 'Mary',\n",
       " 'Mary',\n",
       " 'Jessica',\n",
       " 'John',\n",
       " 'Jessica',\n",
       " 'John',\n",
       " 'Mary',\n",
       " 'Mel',\n",
       " 'Jessica',\n",
       " 'Bob',\n",
       " 'Mel',\n",
       " 'Jessica',\n",
       " 'John',\n",
       " 'Jessica',\n",
       " 'Bob',\n",
       " 'Mary',\n",
       " 'Mary',\n",
       " 'John',\n",
       " 'Mel',\n",
       " 'Mary',\n",
       " 'Jessica',\n",
       " 'Jessica',\n",
       " 'Mary',\n",
       " 'John',\n",
       " 'Mary',\n",
       " 'Mel',\n",
       " 'Jessica',\n",
       " 'Mel',\n",
       " 'Mary',\n",
       " 'Bob',\n",
       " 'Mary',\n",
       " 'Mary',\n",
       " 'Bob',\n",
       " 'Mary',\n",
       " 'Jessica',\n",
       " 'John',\n",
       " 'Mary',\n",
       " 'Bob',\n",
       " 'Mary',\n",
       " 'John',\n",
       " 'Bob',\n",
       " 'John',\n",
       " 'Mary',\n",
       " 'John',\n",
       " 'Mel',\n",
       " 'Mary',\n",
       " 'Mary',\n",
       " 'John',\n",
       " 'John',\n",
       " 'Jessica',\n",
       " 'John',\n",
       " 'Bob',\n",
       " 'Bob',\n",
       " 'John',\n",
       " 'Bob',\n",
       " 'Mary',\n",
       " 'Mel',\n",
       " 'John',\n",
       " 'Mel',\n",
       " 'Jessica',\n",
       " 'Jessica',\n",
       " 'Bob',\n",
       " 'John',\n",
       " 'Jessica',\n",
       " 'John',\n",
       " 'Mary',\n",
       " 'Mel',\n",
       " 'Mel',\n",
       " 'Mel',\n",
       " 'Jessica',\n",
       " 'Mary',\n",
       " 'Mary',\n",
       " 'Jessica',\n",
       " 'Bob',\n",
       " 'Bob',\n",
       " 'Jessica',\n",
       " 'Mary',\n",
       " 'Jessica',\n",
       " 'Jessica',\n",
       " 'Mary',\n",
       " 'Bob',\n",
       " 'Jessica',\n",
       " 'Bob',\n",
       " 'John',\n",
       " 'Mary',\n",
       " 'John',\n",
       " 'Mel',\n",
       " 'Mel',\n",
       " 'John',\n",
       " 'John',\n",
       " 'Mel',\n",
       " 'Mel',\n",
       " 'John',\n",
       " 'Bob',\n",
       " 'Mary',\n",
       " 'John',\n",
       " 'Jessica',\n",
       " 'Bob',\n",
       " 'Mel',\n",
       " 'Bob',\n",
       " 'Jessica',\n",
       " 'Mary',\n",
       " 'John',\n",
       " 'John',\n",
       " 'John',\n",
       " 'Jessica',\n",
       " 'Mel',\n",
       " 'Jessica',\n",
       " 'Jessica',\n",
       " 'Mel',\n",
       " 'Jessica',\n",
       " 'John',\n",
       " 'Mary',\n",
       " 'Jessica',\n",
       " 'John',\n",
       " 'Jessica',\n",
       " 'Jessica',\n",
       " 'Mel',\n",
       " 'Mary',\n",
       " 'Bob',\n",
       " 'Mel',\n",
       " 'Mel',\n",
       " 'John',\n",
       " 'Mary',\n",
       " 'Bob',\n",
       " 'Bob',\n",
       " 'Jessica',\n",
       " 'Jessica',\n",
       " 'Mel',\n",
       " 'John',\n",
       " 'John',\n",
       " 'Mel',\n",
       " 'Jessica',\n",
       " 'John',\n",
       " 'Mary',\n",
       " 'Jessica',\n",
       " 'Bob',\n",
       " 'Jessica',\n",
       " 'Mary',\n",
       " 'Jessica',\n",
       " 'Jessica',\n",
       " 'Bob',\n",
       " 'John',\n",
       " 'Bob',\n",
       " 'Mel',\n",
       " 'Mel',\n",
       " 'John',\n",
       " 'John',\n",
       " 'Bob',\n",
       " 'John',\n",
       " 'Mary',\n",
       " 'Mary',\n",
       " 'Jessica',\n",
       " 'Mary',\n",
       " 'Mel',\n",
       " 'John',\n",
       " 'Mary',\n",
       " 'Mary',\n",
       " 'Mel',\n",
       " 'Jessica',\n",
       " 'Bob',\n",
       " 'Mary',\n",
       " 'Mary',\n",
       " 'Mary',\n",
       " 'Mary',\n",
       " 'Jessica',\n",
       " 'Bob',\n",
       " 'Mel',\n",
       " 'Jessica',\n",
       " 'Mary',\n",
       " 'Bob',\n",
       " 'Mel',\n",
       " 'Mel',\n",
       " 'Mel',\n",
       " 'John',\n",
       " 'Mary',\n",
       " 'Bob',\n",
       " 'Mary',\n",
       " 'Mel',\n",
       " 'John',\n",
       " 'Bob',\n",
       " 'Mel',\n",
       " 'Mary',\n",
       " 'Mary',\n",
       " 'Mel',\n",
       " 'John',\n",
       " 'Jessica',\n",
       " 'Jessica',\n",
       " 'Mary',\n",
       " 'Bob',\n",
       " 'Mary',\n",
       " 'Bob',\n",
       " 'Mel',\n",
       " 'Mel',\n",
       " 'Mary',\n",
       " 'Mary',\n",
       " 'Jessica',\n",
       " 'Bob',\n",
       " 'Jessica',\n",
       " 'Jessica',\n",
       " 'Mary',\n",
       " 'Bob',\n",
       " 'John',\n",
       " 'John',\n",
       " 'Jessica',\n",
       " 'Jessica',\n",
       " 'Mel',\n",
       " 'Bob',\n",
       " 'Mel',\n",
       " 'John',\n",
       " 'Bob',\n",
       " 'Jessica',\n",
       " 'Jessica',\n",
       " 'Jessica',\n",
       " 'John',\n",
       " 'Jessica',\n",
       " 'Mel',\n",
       " 'John',\n",
       " 'Mary',\n",
       " 'Mel',\n",
       " 'Mary',\n",
       " 'Bob',\n",
       " 'Mary',\n",
       " 'Jessica',\n",
       " 'Jessica',\n",
       " 'Mel',\n",
       " 'Mary',\n",
       " 'John',\n",
       " 'Jessica',\n",
       " 'Jessica',\n",
       " 'John',\n",
       " 'Jessica',\n",
       " 'Mel',\n",
       " 'Bob',\n",
       " 'Jessica',\n",
       " 'John',\n",
       " 'Bob',\n",
       " 'Mel',\n",
       " 'John',\n",
       " 'Mel',\n",
       " 'Mel',\n",
       " 'Mary',\n",
       " 'Mary',\n",
       " 'Jessica',\n",
       " 'Mel',\n",
       " 'Mel',\n",
       " 'Mel',\n",
       " 'Mel',\n",
       " 'Mel',\n",
       " 'Mary',\n",
       " 'Bob',\n",
       " 'Mel',\n",
       " 'John',\n",
       " 'Mary',\n",
       " 'John',\n",
       " 'John',\n",
       " 'Jessica',\n",
       " 'John',\n",
       " 'Jessica',\n",
       " 'Bob',\n",
       " 'Mary',\n",
       " 'Jessica',\n",
       " 'Jessica',\n",
       " 'John',\n",
       " 'Jessica',\n",
       " 'Mary',\n",
       " 'Mel',\n",
       " 'Bob',\n",
       " 'Bob',\n",
       " 'Bob',\n",
       " 'Jessica',\n",
       " 'Bob',\n",
       " 'Mary',\n",
       " 'Bob',\n",
       " 'Mary',\n",
       " 'Jessica',\n",
       " 'Mary',\n",
       " 'Mel',\n",
       " 'Mel',\n",
       " 'Mary',\n",
       " 'John',\n",
       " 'Mel',\n",
       " 'Bob',\n",
       " 'Jessica',\n",
       " 'John',\n",
       " 'Mel',\n",
       " 'Jessica',\n",
       " 'Mary',\n",
       " 'Jessica',\n",
       " 'Mel',\n",
       " 'Jessica',\n",
       " 'Jessica',\n",
       " 'Mary',\n",
       " 'Jessica',\n",
       " 'John',\n",
       " 'Mary',\n",
       " 'Bob',\n",
       " 'Jessica',\n",
       " 'Mel',\n",
       " 'John',\n",
       " 'Mel',\n",
       " 'Mel',\n",
       " 'Mary',\n",
       " 'Bob',\n",
       " 'Mel',\n",
       " 'Mel',\n",
       " 'Mary',\n",
       " 'John',\n",
       " 'Mary',\n",
       " 'Jessica',\n",
       " 'Mary',\n",
       " 'Mary',\n",
       " 'Mel',\n",
       " 'Mary',\n",
       " 'John',\n",
       " 'Mel',\n",
       " 'Bob',\n",
       " 'Bob',\n",
       " 'Mel',\n",
       " 'Mary',\n",
       " 'Mary',\n",
       " 'Mel',\n",
       " 'Jessica',\n",
       " 'Mel',\n",
       " 'Mary',\n",
       " 'John',\n",
       " 'Bob',\n",
       " 'Mel',\n",
       " 'Mel',\n",
       " 'John',\n",
       " 'Bob',\n",
       " 'Bob',\n",
       " 'John',\n",
       " 'Mary',\n",
       " 'Jessica',\n",
       " 'Jessica',\n",
       " 'Mary',\n",
       " 'John',\n",
       " 'Mary',\n",
       " 'John',\n",
       " 'Mel',\n",
       " 'Mel',\n",
       " 'Bob',\n",
       " 'John',\n",
       " 'Mary',\n",
       " 'Mel',\n",
       " 'John',\n",
       " 'Mary',\n",
       " 'Mel',\n",
       " 'Bob',\n",
       " 'Mary',\n",
       " 'Bob',\n",
       " 'Bob',\n",
       " 'Jessica',\n",
       " 'Jessica',\n",
       " 'John',\n",
       " 'Mel',\n",
       " 'Bob',\n",
       " 'Jessica',\n",
       " 'Bob',\n",
       " 'Bob',\n",
       " 'Mary',\n",
       " 'Mel',\n",
       " 'John',\n",
       " 'John',\n",
       " 'Mary',\n",
       " 'Mel',\n",
       " 'Mary',\n",
       " 'Bob',\n",
       " 'Bob',\n",
       " 'John',\n",
       " 'Mary',\n",
       " 'Mel',\n",
       " 'Jessica',\n",
       " 'Bob',\n",
       " 'Mel',\n",
       " 'John',\n",
       " 'Jessica',\n",
       " 'Mary',\n",
       " 'Mary',\n",
       " 'Mary',\n",
       " 'Mary',\n",
       " 'Mel',\n",
       " 'Jessica',\n",
       " 'Mary',\n",
       " 'John',\n",
       " 'Mel',\n",
       " 'Jessica',\n",
       " 'Bob',\n",
       " 'Jessica',\n",
       " 'Mel',\n",
       " 'Jessica',\n",
       " 'Jessica',\n",
       " 'John',\n",
       " 'Mel',\n",
       " 'Mel',\n",
       " 'Bob',\n",
       " 'Mary',\n",
       " 'John',\n",
       " 'Jessica',\n",
       " 'Bob',\n",
       " 'Mary',\n",
       " 'Bob',\n",
       " 'Mary',\n",
       " 'Mary',\n",
       " 'John',\n",
       " 'Mel',\n",
       " 'John',\n",
       " 'Mel',\n",
       " 'Bob',\n",
       " 'Bob',\n",
       " 'Bob',\n",
       " 'John',\n",
       " 'Mary',\n",
       " 'Mary',\n",
       " 'John',\n",
       " 'Bob',\n",
       " 'Bob',\n",
       " 'John',\n",
       " 'Mary',\n",
       " 'Bob',\n",
       " 'Mel',\n",
       " 'Bob',\n",
       " 'John',\n",
       " 'Bob',\n",
       " 'Jessica',\n",
       " 'Mary',\n",
       " 'Bob',\n",
       " 'Mary',\n",
       " 'John',\n",
       " 'Bob',\n",
       " 'Jessica',\n",
       " 'Bob',\n",
       " 'Bob',\n",
       " 'Bob',\n",
       " 'Mel',\n",
       " 'Jessica',\n",
       " 'Mel',\n",
       " 'Jessica',\n",
       " 'Jessica',\n",
       " 'Mary',\n",
       " 'John',\n",
       " 'Jessica',\n",
       " 'Mel',\n",
       " 'John',\n",
       " 'Mary',\n",
       " 'Mary',\n",
       " 'Jessica',\n",
       " 'Mary',\n",
       " 'Mel',\n",
       " 'John',\n",
       " 'Bob',\n",
       " 'Mel',\n",
       " 'John',\n",
       " 'Jessica',\n",
       " 'Bob',\n",
       " 'John',\n",
       " 'John',\n",
       " 'Bob',\n",
       " 'Jessica',\n",
       " 'Jessica',\n",
       " 'Mel',\n",
       " 'Bob',\n",
       " 'Mary',\n",
       " 'Jessica',\n",
       " 'Mel',\n",
       " 'Jessica',\n",
       " 'John',\n",
       " 'Mel',\n",
       " 'John',\n",
       " 'John',\n",
       " 'Mary',\n",
       " 'Mel',\n",
       " 'Bob',\n",
       " 'John',\n",
       " 'Jessica',\n",
       " 'Mary',\n",
       " 'Mary',\n",
       " 'Jessica',\n",
       " 'John',\n",
       " 'Jessica',\n",
       " 'Mary',\n",
       " 'Mel',\n",
       " 'Bob',\n",
       " 'Jessica',\n",
       " 'Mel',\n",
       " 'Mel',\n",
       " 'Jessica',\n",
       " 'Mary',\n",
       " 'Jessica',\n",
       " 'Jessica',\n",
       " 'Bob',\n",
       " 'Mel',\n",
       " 'Bob',\n",
       " 'Bob',\n",
       " 'John',\n",
       " 'Mary',\n",
       " 'John',\n",
       " 'Jessica',\n",
       " 'Bob',\n",
       " 'Mel',\n",
       " 'Mel',\n",
       " 'Mel',\n",
       " 'Jessica',\n",
       " 'Mel',\n",
       " 'Jessica',\n",
       " 'John',\n",
       " 'John',\n",
       " 'John',\n",
       " 'Jessica',\n",
       " 'Mel',\n",
       " 'John',\n",
       " 'Mary',\n",
       " 'Mary',\n",
       " 'Bob',\n",
       " 'Bob',\n",
       " 'Mel',\n",
       " 'Jessica',\n",
       " 'Jessica',\n",
       " 'John',\n",
       " 'Mel',\n",
       " 'Mary',\n",
       " 'Mary',\n",
       " 'Jessica',\n",
       " 'Mel',\n",
       " 'Jessica',\n",
       " 'Bob',\n",
       " 'Jessica',\n",
       " 'Jessica',\n",
       " 'Mary',\n",
       " 'Mary',\n",
       " 'Mary',\n",
       " 'Bob',\n",
       " 'Mary',\n",
       " 'Mel',\n",
       " 'John',\n",
       " 'Bob',\n",
       " 'John',\n",
       " 'John',\n",
       " 'Mel',\n",
       " 'Mary',\n",
       " 'Jessica',\n",
       " 'Mel',\n",
       " 'Mel',\n",
       " 'Bob',\n",
       " 'Mel',\n",
       " 'John',\n",
       " 'Bob',\n",
       " 'Mary',\n",
       " 'Mel',\n",
       " 'Mary',\n",
       " 'John',\n",
       " 'John',\n",
       " 'John',\n",
       " 'John',\n",
       " 'Bob',\n",
       " 'Mel',\n",
       " 'Bob',\n",
       " 'John',\n",
       " 'Jessica',\n",
       " 'Mary',\n",
       " 'Mary',\n",
       " 'Bob',\n",
       " 'Mel',\n",
       " 'John',\n",
       " 'Bob',\n",
       " 'John',\n",
       " 'Bob',\n",
       " 'Jessica',\n",
       " 'Jessica',\n",
       " 'John',\n",
       " 'Jessica',\n",
       " 'Mel',\n",
       " 'Mel',\n",
       " 'Bob',\n",
       " 'Mary',\n",
       " 'Bob',\n",
       " 'Mary',\n",
       " 'Mel',\n",
       " 'Mary',\n",
       " 'Jessica',\n",
       " 'Bob',\n",
       " 'Bob',\n",
       " 'Bob',\n",
       " 'Bob',\n",
       " 'Bob',\n",
       " 'Bob',\n",
       " 'Mary',\n",
       " 'Jessica',\n",
       " 'Mel',\n",
       " 'Jessica',\n",
       " 'John',\n",
       " 'Mel',\n",
       " 'John',\n",
       " 'John',\n",
       " 'Mary',\n",
       " 'Mel',\n",
       " 'Jessica',\n",
       " 'John',\n",
       " 'Mel',\n",
       " 'Jessica',\n",
       " 'Jessica',\n",
       " 'Bob',\n",
       " 'Mary',\n",
       " 'Mel',\n",
       " 'Mary',\n",
       " 'Mel',\n",
       " 'Jessica',\n",
       " 'Mel',\n",
       " 'Bob',\n",
       " 'Mary',\n",
       " 'Mel',\n",
       " 'Bob',\n",
       " 'Jessica',\n",
       " 'Mary',\n",
       " 'Mel',\n",
       " 'Mary',\n",
       " 'Mary',\n",
       " 'Bob',\n",
       " 'Mel',\n",
       " 'Bob',\n",
       " 'Mary',\n",
       " 'Bob',\n",
       " 'Jessica',\n",
       " 'John',\n",
       " 'Bob',\n",
       " 'Jessica',\n",
       " 'John',\n",
       " 'Mary',\n",
       " 'Jessica',\n",
       " 'John',\n",
       " 'Bob',\n",
       " 'Bob',\n",
       " 'Mary',\n",
       " 'John',\n",
       " 'Mel',\n",
       " 'Bob',\n",
       " 'Mel',\n",
       " 'Mel',\n",
       " 'John',\n",
       " 'Mel',\n",
       " 'John',\n",
       " 'Mary',\n",
       " 'Bob',\n",
       " 'Mel',\n",
       " 'Mary',\n",
       " 'Jessica',\n",
       " 'John',\n",
       " 'Mary',\n",
       " 'Mary',\n",
       " 'Jessica',\n",
       " 'Bob',\n",
       " 'Jessica',\n",
       " 'Mel',\n",
       " 'Mel',\n",
       " 'Mel',\n",
       " 'Mary',\n",
       " 'Jessica',\n",
       " 'Mary',\n",
       " 'Bob',\n",
       " 'Mel',\n",
       " 'Bob',\n",
       " 'Bob',\n",
       " 'Bob',\n",
       " 'Mary',\n",
       " 'John',\n",
       " 'Mary',\n",
       " 'John',\n",
       " 'Jessica',\n",
       " 'Jessica',\n",
       " 'John',\n",
       " 'Jessica',\n",
       " 'Jessica',\n",
       " 'Bob',\n",
       " 'Mary',\n",
       " 'John',\n",
       " 'Mary',\n",
       " 'Bob',\n",
       " 'Jessica',\n",
       " 'Bob',\n",
       " 'Bob',\n",
       " 'Mel',\n",
       " 'Bob',\n",
       " 'Bob',\n",
       " 'Mary',\n",
       " 'Jessica',\n",
       " 'Bob',\n",
       " 'Jessica',\n",
       " 'Mel',\n",
       " 'John',\n",
       " 'Jessica',\n",
       " 'Jessica',\n",
       " 'Jessica',\n",
       " 'Bob',\n",
       " 'John',\n",
       " 'Mel',\n",
       " 'John',\n",
       " 'Jessica',\n",
       " 'Jessica',\n",
       " 'Mary',\n",
       " 'John',\n",
       " 'John',\n",
       " 'Bob',\n",
       " 'Mel',\n",
       " 'John',\n",
       " 'Mel',\n",
       " 'Mary',\n",
       " 'Mel',\n",
       " 'Jessica',\n",
       " 'Bob',\n",
       " 'John',\n",
       " 'John',\n",
       " 'Bob',\n",
       " 'Jessica',\n",
       " 'John',\n",
       " 'John',\n",
       " 'Bob',\n",
       " 'Mel',\n",
       " 'Mel',\n",
       " 'Mel',\n",
       " 'Mary',\n",
       " 'Mary',\n",
       " 'Mary',\n",
       " 'Mel',\n",
       " 'Mel',\n",
       " 'John',\n",
       " 'Mary',\n",
       " 'Jessica',\n",
       " 'Mary',\n",
       " 'Jessica',\n",
       " 'Mel',\n",
       " 'Jessica',\n",
       " 'Jessica',\n",
       " 'Jessica',\n",
       " 'Bob',\n",
       " 'Mary',\n",
       " 'Mary',\n",
       " 'Bob',\n",
       " 'Bob',\n",
       " 'Mel',\n",
       " 'John',\n",
       " 'Mary',\n",
       " 'Bob',\n",
       " 'Mel',\n",
       " 'Mary',\n",
       " 'Mary',\n",
       " 'Mary',\n",
       " 'Jessica',\n",
       " 'Mary',\n",
       " 'Bob',\n",
       " 'Mary',\n",
       " 'Mary',\n",
       " 'Jessica',\n",
       " 'Mel',\n",
       " 'Mary',\n",
       " 'Jessica',\n",
       " 'Bob',\n",
       " 'Jessica',\n",
       " 'Mary',\n",
       " 'Mel',\n",
       " 'Bob',\n",
       " 'Mel',\n",
       " 'John',\n",
       " 'Jessica',\n",
       " 'Jessica',\n",
       " 'Mary',\n",
       " 'Mel',\n",
       " 'John',\n",
       " 'Bob',\n",
       " 'Jessica',\n",
       " 'Jessica',\n",
       " 'Mel',\n",
       " 'John',\n",
       " 'Mel',\n",
       " 'Mary',\n",
       " 'Bob',\n",
       " 'John',\n",
       " 'Mel',\n",
       " 'Jessica',\n",
       " 'Mel',\n",
       " 'Bob',\n",
       " 'Bob',\n",
       " 'Mel',\n",
       " 'Bob',\n",
       " 'Jessica',\n",
       " 'Jessica',\n",
       " 'Bob',\n",
       " 'Jessica',\n",
       " 'Jessica',\n",
       " 'Bob',\n",
       " 'John',\n",
       " 'Mel',\n",
       " 'Mary',\n",
       " 'Mary',\n",
       " 'Bob',\n",
       " 'Mary',\n",
       " 'Mel',\n",
       " 'John',\n",
       " 'Mary',\n",
       " 'Mel',\n",
       " 'Jessica',\n",
       " 'Jessica',\n",
       " 'Bob',\n",
       " 'John',\n",
       " 'Mary',\n",
       " 'Mary',\n",
       " 'Mel',\n",
       " 'Mary',\n",
       " 'Mel',\n",
       " 'Mel',\n",
       " 'Mary',\n",
       " 'Mel',\n",
       " 'Jessica',\n",
       " 'Jessica',\n",
       " 'John',\n",
       " 'Jessica',\n",
       " 'Mary',\n",
       " 'Mary',\n",
       " 'John',\n",
       " 'Bob',\n",
       " 'Bob',\n",
       " 'John',\n",
       " 'John',\n",
       " 'Bob',\n",
       " 'Mel',\n",
       " 'Mel',\n",
       " 'John',\n",
       " 'John',\n",
       " 'John',\n",
       " 'Mel',\n",
       " 'Mary',\n",
       " 'Mary',\n",
       " 'Jessica']"
      ]
     },
     "execution_count": 22,
     "metadata": {},
     "output_type": "execute_result"
    }
   ],
   "source": [
    "random_names = [names[random.randint(low=0,high=len(names))] for i in range(1000)]\n",
    "random_names"
   ]
  },
  {
   "cell_type": "code",
   "execution_count": 25,
   "metadata": {},
   "outputs": [],
   "source": [
    "births = [random.randint(low=0,high=1000) for i in range(1000)]"
   ]
  },
  {
   "cell_type": "code",
   "execution_count": 80,
   "metadata": {},
   "outputs": [],
   "source": [
    "BabyDataSet = list(zip(random_names,births) )\n"
   ]
  },
  {
   "cell_type": "code",
   "execution_count": 81,
   "metadata": {},
   "outputs": [],
   "source": [
    "df = pd.DataFrame(data = BabyDataSet, columns=['Names', 'Births'])"
   ]
  },
  {
   "cell_type": "code",
   "execution_count": 82,
   "metadata": {},
   "outputs": [
    {
     "data": {
      "text/html": [
       "<div>\n",
       "<style scoped>\n",
       "    .dataframe tbody tr th:only-of-type {\n",
       "        vertical-align: middle;\n",
       "    }\n",
       "\n",
       "    .dataframe tbody tr th {\n",
       "        vertical-align: top;\n",
       "    }\n",
       "\n",
       "    .dataframe thead th {\n",
       "        text-align: right;\n",
       "    }\n",
       "</style>\n",
       "<table border=\"1\" class=\"dataframe\">\n",
       "  <thead>\n",
       "    <tr style=\"text-align: right;\">\n",
       "      <th></th>\n",
       "      <th>Names</th>\n",
       "      <th>Births</th>\n",
       "    </tr>\n",
       "  </thead>\n",
       "  <tbody>\n",
       "    <tr>\n",
       "      <th>0</th>\n",
       "      <td>Mary</td>\n",
       "      <td>968</td>\n",
       "    </tr>\n",
       "    <tr>\n",
       "      <th>1</th>\n",
       "      <td>Jessica</td>\n",
       "      <td>155</td>\n",
       "    </tr>\n",
       "    <tr>\n",
       "      <th>2</th>\n",
       "      <td>Jessica</td>\n",
       "      <td>77</td>\n",
       "    </tr>\n",
       "    <tr>\n",
       "      <th>3</th>\n",
       "      <td>Bob</td>\n",
       "      <td>578</td>\n",
       "    </tr>\n",
       "    <tr>\n",
       "      <th>4</th>\n",
       "      <td>Jessica</td>\n",
       "      <td>973</td>\n",
       "    </tr>\n",
       "    <tr>\n",
       "      <th>5</th>\n",
       "      <td>Jessica</td>\n",
       "      <td>124</td>\n",
       "    </tr>\n",
       "    <tr>\n",
       "      <th>6</th>\n",
       "      <td>Jessica</td>\n",
       "      <td>155</td>\n",
       "    </tr>\n",
       "    <tr>\n",
       "      <th>7</th>\n",
       "      <td>Mary</td>\n",
       "      <td>403</td>\n",
       "    </tr>\n",
       "    <tr>\n",
       "      <th>8</th>\n",
       "      <td>Mary</td>\n",
       "      <td>199</td>\n",
       "    </tr>\n",
       "    <tr>\n",
       "      <th>9</th>\n",
       "      <td>Mary</td>\n",
       "      <td>191</td>\n",
       "    </tr>\n",
       "  </tbody>\n",
       "</table>\n",
       "</div>"
      ],
      "text/plain": [
       "     Names  Births\n",
       "0     Mary     968\n",
       "1  Jessica     155\n",
       "2  Jessica      77\n",
       "3      Bob     578\n",
       "4  Jessica     973\n",
       "5  Jessica     124\n",
       "6  Jessica     155\n",
       "7     Mary     403\n",
       "8     Mary     199\n",
       "9     Mary     191"
      ]
     },
     "execution_count": 82,
     "metadata": {},
     "output_type": "execute_result"
    }
   ],
   "source": [
    "# this looks at the content of the df , first 10 rows\n",
    "df[:10]"
   ]
  },
  {
   "cell_type": "code",
   "execution_count": 83,
   "metadata": {},
   "outputs": [],
   "source": []
  },
  {
   "cell_type": "markdown",
   "metadata": {},
   "source": [
    "# check directory "
   ]
  },
  {
   "cell_type": "code",
   "execution_count": 28,
   "metadata": {},
   "outputs": [],
   "source": [
    "import os"
   ]
  },
  {
   "cell_type": "code",
   "execution_count": 29,
   "metadata": {},
   "outputs": [
    {
     "data": {
      "text/plain": [
       "'/Users/uczhn/Documents/AZURE_DATA_SCIENCE_PYTHON'"
      ]
     },
     "execution_count": 29,
     "metadata": {},
     "output_type": "execute_result"
    }
   ],
   "source": [
    "os.getcwd()"
   ]
  },
  {
   "cell_type": "markdown",
   "metadata": {},
   "source": [
    "Unique values"
   ]
  },
  {
   "cell_type": "code",
   "execution_count": 31,
   "metadata": {},
   "outputs": [
    {
     "data": {
      "text/plain": [
       "array(['bob', 'jessica', 'mary', 'john', 'mel'], dtype=object)"
      ]
     },
     "execution_count": 31,
     "metadata": {},
     "output_type": "execute_result"
    }
   ],
   "source": [
    "# we can use unique property of the dataframe to find all the unique records\n",
    "df['name'].unique()"
   ]
  },
  {
   "cell_type": "markdown",
   "metadata": {},
   "source": [
    "# we can actually print the unique values like so"
   ]
  },
  {
   "cell_type": "code",
   "execution_count": 92,
   "metadata": {},
   "outputs": [
    {
     "name": "stdout",
     "output_type": "stream",
     "text": [
      "Mary\n",
      "Jessica\n",
      "Bob\n",
      "John\n",
      "Mel\n"
     ]
    }
   ],
   "source": [
    "for x in df['name'].unique():\n",
    "   print(x)"
   ]
  },
  {
   "cell_type": "markdown",
   "metadata": {},
   "source": [
    "# we can drop duplicate values using the drop_duplicate() function"
   ]
  },
  {
   "cell_type": "code",
   "execution_count": 93,
   "metadata": {},
   "outputs": [],
   "source": [
    "\n",
    "df_unique = df.drop_duplicates()"
   ]
  },
  {
   "cell_type": "markdown",
   "metadata": {},
   "source": [
    "Describe \n"
   ]
  },
  {
   "cell_type": "code",
   "execution_count": null,
   "metadata": {},
   "outputs": [],
   "source": []
  },
  {
   "cell_type": "code",
   "execution_count": null,
   "metadata": {},
   "outputs": [],
   "source": []
  },
  {
   "cell_type": "markdown",
   "metadata": {},
   "source": [
    "# Value_counts()"
   ]
  },
  {
   "cell_type": "code",
   "execution_count": null,
   "metadata": {},
   "outputs": [],
   "source": []
  },
  {
   "cell_type": "markdown",
   "metadata": {},
   "source": [
    "Aggregrate data using groupby function"
   ]
  },
  {
   "cell_type": "markdown",
   "metadata": {},
   "source": [
    "Lesson 3"
   ]
  },
  {
   "cell_type": "code",
   "execution_count": 33,
   "metadata": {},
   "outputs": [],
   "source": [
    "# Import libraries\n",
    "import pandas as pd\n",
    "import matplotlib.pyplot as plt\n",
    "import numpy.random as np\n",
    "import sys\n",
    "import matplotlib"
   ]
  },
  {
   "cell_type": "code",
   "execution_count": 34,
   "metadata": {},
   "outputs": [],
   "source": [
    "# We will be creating our own test data for analysis\n",
    "# set seed\n",
    "np.seed(111)\n",
    "\n",
    "# Function to generate test data\n",
    "def CreateDataSet(Number=1):\n",
    "    \n",
    "    Output = []\n",
    "    \n",
    "    for i in range(Number):\n",
    "        \n",
    "        # Create a weekly (mondays) date range\n",
    "        rng = pd.date_range(start='1/1/2009', end='12/31/2012', freq='W-MON')\n",
    "        \n",
    "        # Create random data\n",
    "        data = np.randint(low=25,high=1000,size=len(rng))\n",
    "        \n",
    "        # Status pool\n",
    "        status = [1,2,3]\n",
    "        \n",
    "        # Make a random list of statuses\n",
    "        random_status = [status[np.randint(low=0,high=len(status))] for i in range(len(rng))]\n",
    "        \n",
    "        # State pool\n",
    "        states = ['GA','FL','fl','NY','NJ','TX']\n",
    "        \n",
    "        # Make a random list of states \n",
    "        random_states = [states[np.randint(low=0,high=len(states))] for i in range(len(rng))]\n",
    "    \n",
    "        Output.extend(zip(random_states, random_status, data, rng))\n",
    "        \n",
    "    return Output\n"
   ]
  },
  {
   "cell_type": "code",
   "execution_count": 35,
   "metadata": {},
   "outputs": [],
   "source": [
    "# we can  now use the function above to create a dataset\n",
    "dataset = CreateDataSet(4)\n",
    "df = pd.DataFrame(data=dataset, columns=['State','Status','CustomerCount','StatusDate'])\n",
    "#df.info()"
   ]
  },
  {
   "cell_type": "markdown",
   "metadata": {},
   "source": [
    "Write and read the data set"
   ]
  },
  {
   "cell_type": "code",
   "execution_count": null,
   "metadata": {},
   "outputs": [],
   "source": []
  },
  {
   "cell_type": "markdown",
   "metadata": {},
   "source": [
    "Learn direct: https://www.learndatasci.com/tutorials/python-pandas-tutorial-complete-introduction-for-beginners/"
   ]
  },
  {
   "cell_type": "markdown",
   "metadata": {},
   "source": [
    "# Handling duplicates"
   ]
  },
  {
   "cell_type": "code",
   "execution_count": null,
   "metadata": {},
   "outputs": [],
   "source": [
    "# always good to check you aren't aggregating duplicate rows.\n",
    "# use drop_duplicates() to get rid of duplicate information and returns a new df, this function takes arguments like keep, last etc\n",
    "# new_df = m_df.drop_duplicates()"
   ]
  },
  {
   "cell_type": "markdown",
   "metadata": {},
   "source": [
    "Renaming columns with more suitable names"
   ]
  },
  {
   "cell_type": "code",
   "execution_count": null,
   "metadata": {},
   "outputs": [],
   "source": [
    "# check colums names\n",
    "m_df.columns"
   ]
  },
  {
   "cell_type": "code",
   "execution_count": null,
   "metadata": {},
   "outputs": [],
   "source": [
    "# we can rename some columns names\n",
    "m_df.rename(columns={'Runtime (Minutes)':'Runtime', 'Revenue (Millions)':'Revenue'}, inplace = True)"
   ]
  },
  {
   "cell_type": "code",
   "execution_count": null,
   "metadata": {},
   "outputs": [],
   "source": [
    "# the columns names can be changed from upper to lower cases like so\n",
    "m_df.columns = ['rank', 'genre', 'description', 'director', 'actors', 'year', 'runtime', \n",
    "                     'rating', 'votes', 'revenue_millions', 'metascore'] "
   ]
  },
  {
   "cell_type": "code",
   "execution_count": null,
   "metadata": {},
   "outputs": [],
   "source": [
    "# a more sensible way to change to lower case would be  like so\n",
    "m_df.columns = [col.upper() for col in m_df]"
   ]
  },
  {
   "cell_type": "code",
   "execution_count": null,
   "metadata": {},
   "outputs": [],
   "source": [
    "m_df.columns = [col.lower() for col in m_df]"
   ]
  },
  {
   "cell_type": "markdown",
   "metadata": {},
   "source": [
    "# How to work with missing values"
   ]
  },
  {
   "cell_type": "code",
   "execution_count": null,
   "metadata": {},
   "outputs": [],
   "source": [
    "# this checks which cell in data frame has null values\n",
    "m_df.isnull()"
   ]
  },
  {
   "cell_type": "code",
   "execution_count": null,
   "metadata": {},
   "outputs": [],
   "source": [
    "# this checks which column in data frame has null values an d returns a DF\n",
    "m_df.isnull()"
   ]
  },
  {
   "cell_type": "code",
   "execution_count": null,
   "metadata": {},
   "outputs": [],
   "source": [
    "# to count which the number of nulls in each columns\n",
    "m_df.isnull().sum()"
   ]
  },
  {
   "cell_type": "code",
   "execution_count": null,
   "metadata": {},
   "outputs": [],
   "source": [
    "# to drop missing values, use this, this will return a new DF without altering the original one\n",
    "m_df.dropna()"
   ]
  },
  {
   "cell_type": "markdown",
   "metadata": {},
   "source": [
    " # we can drop just colunms with missing values by just setting the axis =1"
   ]
  },
  {
   "cell_type": "code",
   "execution_count": null,
   "metadata": {},
   "outputs": [],
   "source": [
    "\n",
    "m_df.dropna(axis=1)"
   ]
  },
  {
   "cell_type": "markdown",
   "metadata": {},
   "source": [
    "# Imputation"
   ]
  },
  {
   "cell_type": "code",
   "execution_count": null,
   "metadata": {},
   "outputs": [],
   "source": [
    "# this calculates the mean of non missing values in the column\n",
    "m_df['Revenue (Millions)'].mean()"
   ]
  },
  {
   "cell_type": "code",
   "execution_count": null,
   "metadata": {},
   "outputs": [],
   "source": [
    "#this calculates the mean values for that colummn and replace the missing values with the mean\n",
    "m_df.fillna(m_df['Revenue (Millions)'].mean()) "
   ]
  },
  {
   "cell_type": "markdown",
   "metadata": {},
   "source": [
    "# inplace = True,"
   ]
  },
  {
   "cell_type": "code",
   "execution_count": null,
   "metadata": {},
   "outputs": [],
   "source": [
    "# the original dF is not affected, but if we use inplace = True, the original dF will be affected"
   ]
  },
  {
   "cell_type": "code",
   "execution_count": null,
   "metadata": {},
   "outputs": [],
   "source": [
    "#this calculates the mean values for that colummn and replace the missing values with the mean\n",
    "m_df.fillna(m_df['Revenue (Millions)'].mean(), inplace = True) "
   ]
  },
  {
   "cell_type": "code",
   "execution_count": null,
   "metadata": {},
   "outputs": [],
   "source": [
    "m_df.isnull().sum()"
   ]
  },
  {
   "cell_type": "markdown",
   "metadata": {},
   "source": [
    "The imputation can be made more granular by calculating the mean of say Gender and  replacing it with that for males or females only"
   ]
  },
  {
   "cell_type": "markdown",
   "metadata": {},
   "source": [
    "Describe"
   ]
  },
  {
   "cell_type": "code",
   "execution_count": null,
   "metadata": {},
   "outputs": [],
   "source": [
    "#describe gives a summary statistics for each continuous variable in the data fram\n",
    "m_df.describe()"
   ]
  },
  {
   "cell_type": "code",
   "execution_count": null,
   "metadata": {},
   "outputs": [],
   "source": [
    "# the statisticics can be exported to a df like so\n",
    "data = m_df.describe()"
   ]
  },
  {
   "cell_type": "code",
   "execution_count": null,
   "metadata": {},
   "outputs": [],
   "source": [
    "# describe can also be used on categorical variables to produce counts of rows, unique count of category, top category and its frequency\n",
    "m_df['Genre'].describe()"
   ]
  },
  {
   "cell_type": "code",
   "execution_count": null,
   "metadata": {},
   "outputs": [],
   "source": [
    "# value count produces a count of each cartegory in the columns\n",
    "m_df['Genre']. value_counts()"
   ]
  },
  {
   "cell_type": "markdown",
   "metadata": {},
   "source": [
    "# DataFrame slicing, selecting, extracting\n"
   ]
  },
  {
   "cell_type": "code",
   "execution_count": null,
   "metadata": {},
   "outputs": [],
   "source": [
    "m_df"
   ]
  },
  {
   "cell_type": "code",
   "execution_count": null,
   "metadata": {},
   "outputs": [],
   "source": [
    "# we can extrtact just a column and check its status\n",
    "genre_col = m_df['Genre']"
   ]
  },
  {
   "cell_type": "code",
   "execution_count": null,
   "metadata": {},
   "outputs": [],
   "source": [
    "# check attributes of the columns\n",
    "type(genre_col)"
   ]
  },
  {
   "cell_type": "code",
   "execution_count": null,
   "metadata": {},
   "outputs": [],
   "source": [
    "# to extract the colums as a df, you need to pass the colums names\n",
    "genre_col = m_df[['Genre']] # N.B double square brackets"
   ]
  },
  {
   "cell_type": "code",
   "execution_count": null,
   "metadata": {},
   "outputs": [],
   "source": [
    "genre_col"
   ]
  },
  {
   "cell_type": "code",
   "execution_count": null,
   "metadata": {},
   "outputs": [],
   "source": [
    "# we can select as many colums as we like\n",
    "subset = m_df[['Genre', 'Rank']]"
   ]
  },
  {
   "cell_type": "code",
   "execution_count": null,
   "metadata": {},
   "outputs": [],
   "source": [
    "subset.head()"
   ]
  },
  {
   "cell_type": "markdown",
   "metadata": {},
   "source": [
    "# Extracting rows only"
   ]
  },
  {
   "cell_type": "markdown",
   "metadata": {},
   "source": [
    "\n",
    "# use .loc if rows are indexed by names\n",
    "# use .iloc if rows are index by numbers"
   ]
  },
  {
   "cell_type": "code",
   "execution_count": null,
   "metadata": {},
   "outputs": [],
   "source": [
    "prom = m_df.loc['Sing']"
   ]
  },
  {
   "cell_type": "code",
   "execution_count": null,
   "metadata": {},
   "outputs": [],
   "source": [
    "# if the rows were indexed using numbers, then use\n",
    "# prom = m_df.iloc[1]  # 1 for the first row\n",
    "# NB when slicing using index, the object at the end of the index is not included"
   ]
  },
  {
   "cell_type": "code",
   "execution_count": null,
   "metadata": {},
   "outputs": [],
   "source": [
    "# for multiple rows\n",
    "prom = m_df.loc['Sing': 'Passengers']"
   ]
  },
  {
   "cell_type": "code",
   "execution_count": null,
   "metadata": {},
   "outputs": [],
   "source": [
    "prom"
   ]
  },
  {
   "cell_type": "markdown",
   "metadata": {},
   "source": [
    "# Conditional selections"
   ]
  },
  {
   "cell_type": "markdown",
   "metadata": {},
   "source": [
    "To do that, we take a column from the DataFrame and apply a Boolean condition to it"
   ]
  },
  {
   "cell_type": "code",
   "execution_count": null,
   "metadata": {},
   "outputs": [],
   "source": []
  },
  {
   "cell_type": "code",
   "execution_count": null,
   "metadata": {},
   "outputs": [],
   "source": []
  },
  {
   "cell_type": "code",
   "execution_count": null,
   "metadata": {},
   "outputs": [],
   "source": [
    "# show only films by Ridley Scott or films with a rating greater than or equal to 8.0\n",
    "ridley_df = (m_df['Director'] == \"Ridley Scott\")  # this returns a series of true for films directed and false for films not directed"
   ]
  },
  {
   "cell_type": "code",
   "execution_count": null,
   "metadata": {},
   "outputs": [],
   "source": [
    "ridley_df"
   ]
  },
  {
   "cell_type": "code",
   "execution_count": null,
   "metadata": {},
   "outputs": [],
   "source": [
    "# To return the rows where that condition is True we have to pass this operation into the DataFrame:\n",
    "ridley_df = m_df[m_df['Director'] == \"Ridley Scott\"]"
   ]
  },
  {
   "cell_type": "code",
   "execution_count": null,
   "metadata": {},
   "outputs": [],
   "source": [
    "ridley_df"
   ]
  },
  {
   "cell_type": "code",
   "execution_count": null,
   "metadata": {},
   "outputs": [],
   "source": [
    "# conditional selections using numerical values\n",
    "ridley_df1 =  m_df[m_df['Rating'] >=8.6]"
   ]
  },
  {
   "cell_type": "code",
   "execution_count": null,
   "metadata": {},
   "outputs": [],
   "source": [
    "ridley_df1"
   ]
  },
  {
   "cell_type": "code",
   "execution_count": null,
   "metadata": {},
   "outputs": [],
   "source": [
    "# conditions using logical operators | for \"or\" and & for \"and\n",
    "\n",
    "ridley_df2 = m_df[(m_df['Director'] == \"Ridley Scott\") & (m_df['Rating'] <8.6)] # group evaluations with parentheses"
   ]
  },
  {
   "cell_type": "code",
   "execution_count": null,
   "metadata": {},
   "outputs": [],
   "source": [
    "ridley_df2"
   ]
  },
  {
   "cell_type": "markdown",
   "metadata": {},
   "source": [
    "# Applying functions\n"
   ]
  },
  {
   "cell_type": "code",
   "execution_count": null,
   "metadata": {},
   "outputs": [],
   "source": [
    "# create a function that returns good after a certain threshold, otherwise returns bad\n",
    "\n",
    "def rating_fnc(x):\n",
    "  if x > 8.0:\n",
    "    return \"good\"\n",
    "  else:\n",
    "    return \"bad\"\n"
   ]
  },
  {
   "cell_type": "code",
   "execution_count": null,
   "metadata": {},
   "outputs": [],
   "source": [
    "# this creates a colums, Rating_cat in the data set with either good of bad\n",
    "\n",
    "m_df[\"Rating_cat\"] = m_df[\"Rating\"].apply(rating_fnc)"
   ]
  },
  {
   "cell_type": "code",
   "execution_count": null,
   "metadata": {},
   "outputs": [],
   "source": [
    "m_df"
   ]
  },
  {
   "cell_type": "code",
   "execution_count": null,
   "metadata": {},
   "outputs": [],
   "source": [
    "# the lamda function achieves the same result\n",
    "m_df[\"Rating_cat1\"] = m_df[\"Rating\"].apply(lambda x: 'GOOD' if x > 8.0 else 'BAD')\n"
   ]
  },
  {
   "cell_type": "code",
   "execution_count": null,
   "metadata": {},
   "outputs": [],
   "source": [
    "m_df"
   ]
  },
  {
   "cell_type": "markdown",
   "metadata": {},
   "source": [
    "Lesson 3 continuation "
   ]
  },
  {
   "cell_type": "code",
   "execution_count": 1,
   "metadata": {},
   "outputs": [],
   "source": [
    "import pandas as pd\n",
    "location = r'C:\\Users\\Elenor\\Lesson3.xlsx'\n",
    "df = pd.read_excel(location, 0, index_col='StatusDate')\n"
   ]
  },
  {
   "cell_type": "code",
   "execution_count": 2,
   "metadata": {
    "collapsed": true
   },
   "outputs": [
    {
     "data": {
      "text/plain": [
       "State            object\n",
       "Status            int64\n",
       "CustomerCount     int64\n",
       "dtype: object"
      ]
     },
     "execution_count": 2,
     "metadata": {},
     "output_type": "execute_result"
    }
   ],
   "source": [
    "df.dtypes"
   ]
  },
  {
   "cell_type": "code",
   "execution_count": 11,
   "metadata": {
    "collapsed": true
   },
   "outputs": [
    {
     "data": {
      "text/plain": [
       "Index(['State', 'Status', 'CustomerCount'], dtype='object')"
      ]
     },
     "execution_count": 11,
     "metadata": {},
     "output_type": "execute_result"
    }
   ],
   "source": [
    "# this checks the index and the columns\n",
    "df.columns"
   ]
  },
  {
   "cell_type": "code",
   "execution_count": 4,
   "metadata": {
    "collapsed": true
   },
   "outputs": [
    {
     "data": {
      "text/html": [
       "<div>\n",
       "<style scoped>\n",
       "    .dataframe tbody tr th:only-of-type {\n",
       "        vertical-align: middle;\n",
       "    }\n",
       "\n",
       "    .dataframe tbody tr th {\n",
       "        vertical-align: top;\n",
       "    }\n",
       "\n",
       "    .dataframe thead th {\n",
       "        text-align: right;\n",
       "    }\n",
       "</style>\n",
       "<table border=\"1\" class=\"dataframe\">\n",
       "  <thead>\n",
       "    <tr style=\"text-align: right;\">\n",
       "      <th></th>\n",
       "      <th>State</th>\n",
       "      <th>Status</th>\n",
       "      <th>CustomerCount</th>\n",
       "    </tr>\n",
       "    <tr>\n",
       "      <th>StatusDate</th>\n",
       "      <th></th>\n",
       "      <th></th>\n",
       "      <th></th>\n",
       "    </tr>\n",
       "  </thead>\n",
       "  <tbody>\n",
       "    <tr>\n",
       "      <th>2009-01-05</th>\n",
       "      <td>GA</td>\n",
       "      <td>1</td>\n",
       "      <td>877</td>\n",
       "    </tr>\n",
       "    <tr>\n",
       "      <th>2009-01-12</th>\n",
       "      <td>FL</td>\n",
       "      <td>1</td>\n",
       "      <td>901</td>\n",
       "    </tr>\n",
       "    <tr>\n",
       "      <th>2009-01-19</th>\n",
       "      <td>fl</td>\n",
       "      <td>3</td>\n",
       "      <td>749</td>\n",
       "    </tr>\n",
       "    <tr>\n",
       "      <th>2009-01-26</th>\n",
       "      <td>FL</td>\n",
       "      <td>3</td>\n",
       "      <td>111</td>\n",
       "    </tr>\n",
       "    <tr>\n",
       "      <th>2009-02-02</th>\n",
       "      <td>GA</td>\n",
       "      <td>1</td>\n",
       "      <td>300</td>\n",
       "    </tr>\n",
       "    <tr>\n",
       "      <th>2009-02-09</th>\n",
       "      <td>FL</td>\n",
       "      <td>2</td>\n",
       "      <td>706</td>\n",
       "    </tr>\n",
       "    <tr>\n",
       "      <th>2009-02-16</th>\n",
       "      <td>TX</td>\n",
       "      <td>3</td>\n",
       "      <td>347</td>\n",
       "    </tr>\n",
       "    <tr>\n",
       "      <th>2009-02-23</th>\n",
       "      <td>fl</td>\n",
       "      <td>2</td>\n",
       "      <td>143</td>\n",
       "    </tr>\n",
       "    <tr>\n",
       "      <th>2009-03-02</th>\n",
       "      <td>FL</td>\n",
       "      <td>3</td>\n",
       "      <td>833</td>\n",
       "    </tr>\n",
       "    <tr>\n",
       "      <th>2009-03-09</th>\n",
       "      <td>NY</td>\n",
       "      <td>1</td>\n",
       "      <td>992</td>\n",
       "    </tr>\n",
       "    <tr>\n",
       "      <th>2009-03-16</th>\n",
       "      <td>fl</td>\n",
       "      <td>2</td>\n",
       "      <td>978</td>\n",
       "    </tr>\n",
       "    <tr>\n",
       "      <th>2009-03-23</th>\n",
       "      <td>TX</td>\n",
       "      <td>2</td>\n",
       "      <td>32</td>\n",
       "    </tr>\n",
       "    <tr>\n",
       "      <th>2009-03-30</th>\n",
       "      <td>GA</td>\n",
       "      <td>2</td>\n",
       "      <td>293</td>\n",
       "    </tr>\n",
       "    <tr>\n",
       "      <th>2009-04-06</th>\n",
       "      <td>fl</td>\n",
       "      <td>1</td>\n",
       "      <td>291</td>\n",
       "    </tr>\n",
       "    <tr>\n",
       "      <th>2009-04-13</th>\n",
       "      <td>fl</td>\n",
       "      <td>3</td>\n",
       "      <td>474</td>\n",
       "    </tr>\n",
       "    <tr>\n",
       "      <th>2009-04-20</th>\n",
       "      <td>NJ</td>\n",
       "      <td>2</td>\n",
       "      <td>905</td>\n",
       "    </tr>\n",
       "    <tr>\n",
       "      <th>2009-04-27</th>\n",
       "      <td>NJ</td>\n",
       "      <td>1</td>\n",
       "      <td>753</td>\n",
       "    </tr>\n",
       "    <tr>\n",
       "      <th>2009-05-04</th>\n",
       "      <td>GA</td>\n",
       "      <td>3</td>\n",
       "      <td>309</td>\n",
       "    </tr>\n",
       "    <tr>\n",
       "      <th>2009-05-11</th>\n",
       "      <td>fl</td>\n",
       "      <td>2</td>\n",
       "      <td>295</td>\n",
       "    </tr>\n",
       "    <tr>\n",
       "      <th>2009-05-18</th>\n",
       "      <td>NY</td>\n",
       "      <td>3</td>\n",
       "      <td>443</td>\n",
       "    </tr>\n",
       "    <tr>\n",
       "      <th>2009-05-25</th>\n",
       "      <td>TX</td>\n",
       "      <td>1</td>\n",
       "      <td>46</td>\n",
       "    </tr>\n",
       "    <tr>\n",
       "      <th>2009-06-01</th>\n",
       "      <td>GA</td>\n",
       "      <td>3</td>\n",
       "      <td>591</td>\n",
       "    </tr>\n",
       "    <tr>\n",
       "      <th>2009-06-08</th>\n",
       "      <td>FL</td>\n",
       "      <td>2</td>\n",
       "      <td>737</td>\n",
       "    </tr>\n",
       "    <tr>\n",
       "      <th>2009-06-15</th>\n",
       "      <td>NJ</td>\n",
       "      <td>3</td>\n",
       "      <td>62</td>\n",
       "    </tr>\n",
       "    <tr>\n",
       "      <th>2009-06-22</th>\n",
       "      <td>GA</td>\n",
       "      <td>3</td>\n",
       "      <td>997</td>\n",
       "    </tr>\n",
       "    <tr>\n",
       "      <th>2009-06-29</th>\n",
       "      <td>GA</td>\n",
       "      <td>3</td>\n",
       "      <td>767</td>\n",
       "    </tr>\n",
       "    <tr>\n",
       "      <th>2009-07-06</th>\n",
       "      <td>fl</td>\n",
       "      <td>1</td>\n",
       "      <td>723</td>\n",
       "    </tr>\n",
       "    <tr>\n",
       "      <th>2009-07-13</th>\n",
       "      <td>fl</td>\n",
       "      <td>2</td>\n",
       "      <td>293</td>\n",
       "    </tr>\n",
       "    <tr>\n",
       "      <th>2009-07-20</th>\n",
       "      <td>FL</td>\n",
       "      <td>1</td>\n",
       "      <td>710</td>\n",
       "    </tr>\n",
       "    <tr>\n",
       "      <th>2009-07-27</th>\n",
       "      <td>NJ</td>\n",
       "      <td>1</td>\n",
       "      <td>990</td>\n",
       "    </tr>\n",
       "    <tr>\n",
       "      <th>...</th>\n",
       "      <td>...</td>\n",
       "      <td>...</td>\n",
       "      <td>...</td>\n",
       "    </tr>\n",
       "    <tr>\n",
       "      <th>2012-06-11</th>\n",
       "      <td>FL</td>\n",
       "      <td>3</td>\n",
       "      <td>100</td>\n",
       "    </tr>\n",
       "    <tr>\n",
       "      <th>2012-06-18</th>\n",
       "      <td>fl</td>\n",
       "      <td>1</td>\n",
       "      <td>669</td>\n",
       "    </tr>\n",
       "    <tr>\n",
       "      <th>2012-06-25</th>\n",
       "      <td>fl</td>\n",
       "      <td>2</td>\n",
       "      <td>348</td>\n",
       "    </tr>\n",
       "    <tr>\n",
       "      <th>2012-07-02</th>\n",
       "      <td>fl</td>\n",
       "      <td>3</td>\n",
       "      <td>336</td>\n",
       "    </tr>\n",
       "    <tr>\n",
       "      <th>2012-07-09</th>\n",
       "      <td>NJ</td>\n",
       "      <td>3</td>\n",
       "      <td>393</td>\n",
       "    </tr>\n",
       "    <tr>\n",
       "      <th>2012-07-16</th>\n",
       "      <td>FL</td>\n",
       "      <td>3</td>\n",
       "      <td>210</td>\n",
       "    </tr>\n",
       "    <tr>\n",
       "      <th>2012-07-23</th>\n",
       "      <td>FL</td>\n",
       "      <td>3</td>\n",
       "      <td>363</td>\n",
       "    </tr>\n",
       "    <tr>\n",
       "      <th>2012-07-30</th>\n",
       "      <td>fl</td>\n",
       "      <td>3</td>\n",
       "      <td>995</td>\n",
       "    </tr>\n",
       "    <tr>\n",
       "      <th>2012-08-06</th>\n",
       "      <td>TX</td>\n",
       "      <td>1</td>\n",
       "      <td>178</td>\n",
       "    </tr>\n",
       "    <tr>\n",
       "      <th>2012-08-13</th>\n",
       "      <td>NJ</td>\n",
       "      <td>3</td>\n",
       "      <td>26</td>\n",
       "    </tr>\n",
       "    <tr>\n",
       "      <th>2012-08-20</th>\n",
       "      <td>TX</td>\n",
       "      <td>1</td>\n",
       "      <td>248</td>\n",
       "    </tr>\n",
       "    <tr>\n",
       "      <th>2012-08-27</th>\n",
       "      <td>NY</td>\n",
       "      <td>2</td>\n",
       "      <td>74</td>\n",
       "    </tr>\n",
       "    <tr>\n",
       "      <th>2012-09-03</th>\n",
       "      <td>FL</td>\n",
       "      <td>3</td>\n",
       "      <td>46</td>\n",
       "    </tr>\n",
       "    <tr>\n",
       "      <th>2012-09-10</th>\n",
       "      <td>fl</td>\n",
       "      <td>3</td>\n",
       "      <td>920</td>\n",
       "    </tr>\n",
       "    <tr>\n",
       "      <th>2012-09-17</th>\n",
       "      <td>NJ</td>\n",
       "      <td>2</td>\n",
       "      <td>623</td>\n",
       "    </tr>\n",
       "    <tr>\n",
       "      <th>2012-09-24</th>\n",
       "      <td>TX</td>\n",
       "      <td>3</td>\n",
       "      <td>784</td>\n",
       "    </tr>\n",
       "    <tr>\n",
       "      <th>2012-10-01</th>\n",
       "      <td>fl</td>\n",
       "      <td>3</td>\n",
       "      <td>924</td>\n",
       "    </tr>\n",
       "    <tr>\n",
       "      <th>2012-10-08</th>\n",
       "      <td>fl</td>\n",
       "      <td>1</td>\n",
       "      <td>716</td>\n",
       "    </tr>\n",
       "    <tr>\n",
       "      <th>2012-10-15</th>\n",
       "      <td>fl</td>\n",
       "      <td>3</td>\n",
       "      <td>428</td>\n",
       "    </tr>\n",
       "    <tr>\n",
       "      <th>2012-10-22</th>\n",
       "      <td>NJ</td>\n",
       "      <td>1</td>\n",
       "      <td>955</td>\n",
       "    </tr>\n",
       "    <tr>\n",
       "      <th>2012-10-29</th>\n",
       "      <td>GA</td>\n",
       "      <td>2</td>\n",
       "      <td>380</td>\n",
       "    </tr>\n",
       "    <tr>\n",
       "      <th>2012-11-05</th>\n",
       "      <td>fl</td>\n",
       "      <td>2</td>\n",
       "      <td>105</td>\n",
       "    </tr>\n",
       "    <tr>\n",
       "      <th>2012-11-12</th>\n",
       "      <td>NJ</td>\n",
       "      <td>3</td>\n",
       "      <td>772</td>\n",
       "    </tr>\n",
       "    <tr>\n",
       "      <th>2012-11-19</th>\n",
       "      <td>FL</td>\n",
       "      <td>2</td>\n",
       "      <td>390</td>\n",
       "    </tr>\n",
       "    <tr>\n",
       "      <th>2012-11-26</th>\n",
       "      <td>FL</td>\n",
       "      <td>3</td>\n",
       "      <td>513</td>\n",
       "    </tr>\n",
       "    <tr>\n",
       "      <th>2012-12-03</th>\n",
       "      <td>NY</td>\n",
       "      <td>2</td>\n",
       "      <td>122</td>\n",
       "    </tr>\n",
       "    <tr>\n",
       "      <th>2012-12-10</th>\n",
       "      <td>TX</td>\n",
       "      <td>2</td>\n",
       "      <td>887</td>\n",
       "    </tr>\n",
       "    <tr>\n",
       "      <th>2012-12-17</th>\n",
       "      <td>TX</td>\n",
       "      <td>2</td>\n",
       "      <td>988</td>\n",
       "    </tr>\n",
       "    <tr>\n",
       "      <th>2012-12-24</th>\n",
       "      <td>GA</td>\n",
       "      <td>3</td>\n",
       "      <td>946</td>\n",
       "    </tr>\n",
       "    <tr>\n",
       "      <th>2012-12-31</th>\n",
       "      <td>FL</td>\n",
       "      <td>2</td>\n",
       "      <td>970</td>\n",
       "    </tr>\n",
       "  </tbody>\n",
       "</table>\n",
       "<p>836 rows × 3 columns</p>\n",
       "</div>"
      ],
      "text/plain": [
       "           State  Status  CustomerCount\n",
       "StatusDate                             \n",
       "2009-01-05    GA       1            877\n",
       "2009-01-12    FL       1            901\n",
       "2009-01-19    fl       3            749\n",
       "2009-01-26    FL       3            111\n",
       "2009-02-02    GA       1            300\n",
       "2009-02-09    FL       2            706\n",
       "2009-02-16    TX       3            347\n",
       "2009-02-23    fl       2            143\n",
       "2009-03-02    FL       3            833\n",
       "2009-03-09    NY       1            992\n",
       "2009-03-16    fl       2            978\n",
       "2009-03-23    TX       2             32\n",
       "2009-03-30    GA       2            293\n",
       "2009-04-06    fl       1            291\n",
       "2009-04-13    fl       3            474\n",
       "2009-04-20    NJ       2            905\n",
       "2009-04-27    NJ       1            753\n",
       "2009-05-04    GA       3            309\n",
       "2009-05-11    fl       2            295\n",
       "2009-05-18    NY       3            443\n",
       "2009-05-25    TX       1             46\n",
       "2009-06-01    GA       3            591\n",
       "2009-06-08    FL       2            737\n",
       "2009-06-15    NJ       3             62\n",
       "2009-06-22    GA       3            997\n",
       "2009-06-29    GA       3            767\n",
       "2009-07-06    fl       1            723\n",
       "2009-07-13    fl       2            293\n",
       "2009-07-20    FL       1            710\n",
       "2009-07-27    NJ       1            990\n",
       "...          ...     ...            ...\n",
       "2012-06-11    FL       3            100\n",
       "2012-06-18    fl       1            669\n",
       "2012-06-25    fl       2            348\n",
       "2012-07-02    fl       3            336\n",
       "2012-07-09    NJ       3            393\n",
       "2012-07-16    FL       3            210\n",
       "2012-07-23    FL       3            363\n",
       "2012-07-30    fl       3            995\n",
       "2012-08-06    TX       1            178\n",
       "2012-08-13    NJ       3             26\n",
       "2012-08-20    TX       1            248\n",
       "2012-08-27    NY       2             74\n",
       "2012-09-03    FL       3             46\n",
       "2012-09-10    fl       3            920\n",
       "2012-09-17    NJ       2            623\n",
       "2012-09-24    TX       3            784\n",
       "2012-10-01    fl       3            924\n",
       "2012-10-08    fl       1            716\n",
       "2012-10-15    fl       3            428\n",
       "2012-10-22    NJ       1            955\n",
       "2012-10-29    GA       2            380\n",
       "2012-11-05    fl       2            105\n",
       "2012-11-12    NJ       3            772\n",
       "2012-11-19    FL       2            390\n",
       "2012-11-26    FL       3            513\n",
       "2012-12-03    NY       2            122\n",
       "2012-12-10    TX       2            887\n",
       "2012-12-17    TX       2            988\n",
       "2012-12-24    GA       3            946\n",
       "2012-12-31    FL       2            970\n",
       "\n",
       "[836 rows x 3 columns]"
      ]
     },
     "execution_count": 4,
     "metadata": {},
     "output_type": "execute_result"
    }
   ],
   "source": [
    "df"
   ]
  },
  {
   "cell_type": "markdown",
   "metadata": {},
   "source": [
    "\n",
    "Prepare Data\n"
   ]
  },
  {
   "cell_type": "code",
   "execution_count": 6,
   "metadata": {},
   "outputs": [],
   "source": [
    "# changing names to upper cases for all records in state\n",
    "df['State'] = df.State.apply(lambda x: x.upper())"
   ]
  },
  {
   "cell_type": "code",
   "execution_count": 14,
   "metadata": {
    "collapsed": true
   },
   "outputs": [
    {
     "name": "stderr",
     "output_type": "stream",
     "text": [
      "C:\\Users\\Elenor\\Anaconda3\\lib\\site-packages\\ipykernel_launcher.py:1: SettingWithCopyWarning: \n",
      "A value is trying to be set on a copy of a slice from a DataFrame\n",
      "\n",
      "See the caveats in the documentation: http://pandas.pydata.org/pandas-docs/stable/indexing.html#indexing-view-versus-copy\n",
      "  \"\"\"Entry point for launching an IPython kernel.\n"
     ]
    }
   ],
   "source": [
    "# for al observations in the state columns that is == NJ, replace ity with T\n",
    "df.State[df.State=='T']= 'NJ'"
   ]
  },
  {
   "cell_type": "markdown",
   "metadata": {},
   "source": [
    "Lesson 4"
   ]
  },
  {
   "cell_type": "code",
   "execution_count": 37,
   "metadata": {},
   "outputs": [],
   "source": [
    "# Import libraries\n",
    "import pandas as pd\n",
    "import sys"
   ]
  },
  {
   "cell_type": "code",
   "execution_count": 38,
   "metadata": {},
   "outputs": [],
   "source": [
    "d = [0,1,2,3,4,5,6,7,8,9]"
   ]
  },
  {
   "cell_type": "code",
   "execution_count": 40,
   "metadata": {
    "scrolled": true
   },
   "outputs": [
    {
     "data": {
      "text/html": [
       "<div>\n",
       "<style scoped>\n",
       "    .dataframe tbody tr th:only-of-type {\n",
       "        vertical-align: middle;\n",
       "    }\n",
       "\n",
       "    .dataframe tbody tr th {\n",
       "        vertical-align: top;\n",
       "    }\n",
       "\n",
       "    .dataframe thead th {\n",
       "        text-align: right;\n",
       "    }\n",
       "</style>\n",
       "<table border=\"1\" class=\"dataframe\">\n",
       "  <thead>\n",
       "    <tr style=\"text-align: right;\">\n",
       "      <th></th>\n",
       "      <th>0</th>\n",
       "    </tr>\n",
       "  </thead>\n",
       "  <tbody>\n",
       "    <tr>\n",
       "      <th>0</th>\n",
       "      <td>0</td>\n",
       "    </tr>\n",
       "    <tr>\n",
       "      <th>1</th>\n",
       "      <td>1</td>\n",
       "    </tr>\n",
       "    <tr>\n",
       "      <th>2</th>\n",
       "      <td>2</td>\n",
       "    </tr>\n",
       "    <tr>\n",
       "      <th>3</th>\n",
       "      <td>3</td>\n",
       "    </tr>\n",
       "    <tr>\n",
       "      <th>4</th>\n",
       "      <td>4</td>\n",
       "    </tr>\n",
       "    <tr>\n",
       "      <th>5</th>\n",
       "      <td>5</td>\n",
       "    </tr>\n",
       "    <tr>\n",
       "      <th>6</th>\n",
       "      <td>6</td>\n",
       "    </tr>\n",
       "    <tr>\n",
       "      <th>7</th>\n",
       "      <td>7</td>\n",
       "    </tr>\n",
       "    <tr>\n",
       "      <th>8</th>\n",
       "      <td>8</td>\n",
       "    </tr>\n",
       "    <tr>\n",
       "      <th>9</th>\n",
       "      <td>9</td>\n",
       "    </tr>\n",
       "  </tbody>\n",
       "</table>\n",
       "</div>"
      ],
      "text/plain": [
       "   0\n",
       "0  0\n",
       "1  1\n",
       "2  2\n",
       "3  3\n",
       "4  4\n",
       "5  5\n",
       "6  6\n",
       "7  7\n",
       "8  8\n",
       "9  9"
      ]
     },
     "execution_count": 40,
     "metadata": {},
     "output_type": "execute_result"
    }
   ],
   "source": [
    "d_f = pd.DataFrame(d)\n",
    "d_f"
   ]
  },
  {
   "cell_type": "code",
   "execution_count": 41,
   "metadata": {},
   "outputs": [],
   "source": [
    "d_f.columns= ['rev']"
   ]
  },
  {
   "cell_type": "code",
   "execution_count": 42,
   "metadata": {},
   "outputs": [
    {
     "data": {
      "text/html": [
       "<div>\n",
       "<style scoped>\n",
       "    .dataframe tbody tr th:only-of-type {\n",
       "        vertical-align: middle;\n",
       "    }\n",
       "\n",
       "    .dataframe tbody tr th {\n",
       "        vertical-align: top;\n",
       "    }\n",
       "\n",
       "    .dataframe thead th {\n",
       "        text-align: right;\n",
       "    }\n",
       "</style>\n",
       "<table border=\"1\" class=\"dataframe\">\n",
       "  <thead>\n",
       "    <tr style=\"text-align: right;\">\n",
       "      <th></th>\n",
       "      <th>rev</th>\n",
       "      <th>newcol</th>\n",
       "    </tr>\n",
       "  </thead>\n",
       "  <tbody>\n",
       "    <tr>\n",
       "      <th>0</th>\n",
       "      <td>0</td>\n",
       "      <td>5</td>\n",
       "    </tr>\n",
       "    <tr>\n",
       "      <th>1</th>\n",
       "      <td>1</td>\n",
       "      <td>5</td>\n",
       "    </tr>\n",
       "    <tr>\n",
       "      <th>2</th>\n",
       "      <td>2</td>\n",
       "      <td>5</td>\n",
       "    </tr>\n",
       "    <tr>\n",
       "      <th>3</th>\n",
       "      <td>3</td>\n",
       "      <td>5</td>\n",
       "    </tr>\n",
       "    <tr>\n",
       "      <th>4</th>\n",
       "      <td>4</td>\n",
       "      <td>5</td>\n",
       "    </tr>\n",
       "    <tr>\n",
       "      <th>5</th>\n",
       "      <td>5</td>\n",
       "      <td>5</td>\n",
       "    </tr>\n",
       "    <tr>\n",
       "      <th>6</th>\n",
       "      <td>6</td>\n",
       "      <td>5</td>\n",
       "    </tr>\n",
       "    <tr>\n",
       "      <th>7</th>\n",
       "      <td>7</td>\n",
       "      <td>5</td>\n",
       "    </tr>\n",
       "    <tr>\n",
       "      <th>8</th>\n",
       "      <td>8</td>\n",
       "      <td>5</td>\n",
       "    </tr>\n",
       "    <tr>\n",
       "      <th>9</th>\n",
       "      <td>9</td>\n",
       "      <td>5</td>\n",
       "    </tr>\n",
       "  </tbody>\n",
       "</table>\n",
       "</div>"
      ],
      "text/plain": [
       "   rev  newcol\n",
       "0    0       5\n",
       "1    1       5\n",
       "2    2       5\n",
       "3    3       5\n",
       "4    4       5\n",
       "5    5       5\n",
       "6    6       5\n",
       "7    7       5\n",
       "8    8       5\n",
       "9    9       5"
      ]
     },
     "execution_count": 42,
     "metadata": {},
     "output_type": "execute_result"
    }
   ],
   "source": [
    "# we can add a columns\n",
    "d_f['newcol'] = 5\n",
    "d_f"
   ]
  },
  {
   "cell_type": "code",
   "execution_count": 44,
   "metadata": {},
   "outputs": [
    {
     "data": {
      "text/html": [
       "<div>\n",
       "<style scoped>\n",
       "    .dataframe tbody tr th:only-of-type {\n",
       "        vertical-align: middle;\n",
       "    }\n",
       "\n",
       "    .dataframe tbody tr th {\n",
       "        vertical-align: top;\n",
       "    }\n",
       "\n",
       "    .dataframe thead th {\n",
       "        text-align: right;\n",
       "    }\n",
       "</style>\n",
       "<table border=\"1\" class=\"dataframe\">\n",
       "  <thead>\n",
       "    <tr style=\"text-align: right;\">\n",
       "      <th></th>\n",
       "      <th>rev</th>\n",
       "      <th>newcol</th>\n",
       "      <th>newname</th>\n",
       "    </tr>\n",
       "  </thead>\n",
       "  <tbody>\n",
       "    <tr>\n",
       "      <th>0</th>\n",
       "      <td>0</td>\n",
       "      <td>5</td>\n",
       "      <td>harry</td>\n",
       "    </tr>\n",
       "    <tr>\n",
       "      <th>1</th>\n",
       "      <td>1</td>\n",
       "      <td>5</td>\n",
       "      <td>harry</td>\n",
       "    </tr>\n",
       "    <tr>\n",
       "      <th>2</th>\n",
       "      <td>2</td>\n",
       "      <td>5</td>\n",
       "      <td>harry</td>\n",
       "    </tr>\n",
       "    <tr>\n",
       "      <th>3</th>\n",
       "      <td>3</td>\n",
       "      <td>5</td>\n",
       "      <td>harry</td>\n",
       "    </tr>\n",
       "    <tr>\n",
       "      <th>4</th>\n",
       "      <td>4</td>\n",
       "      <td>5</td>\n",
       "      <td>harry</td>\n",
       "    </tr>\n",
       "    <tr>\n",
       "      <th>5</th>\n",
       "      <td>5</td>\n",
       "      <td>5</td>\n",
       "      <td>harry</td>\n",
       "    </tr>\n",
       "    <tr>\n",
       "      <th>6</th>\n",
       "      <td>6</td>\n",
       "      <td>5</td>\n",
       "      <td>harry</td>\n",
       "    </tr>\n",
       "    <tr>\n",
       "      <th>7</th>\n",
       "      <td>7</td>\n",
       "      <td>5</td>\n",
       "      <td>harry</td>\n",
       "    </tr>\n",
       "    <tr>\n",
       "      <th>8</th>\n",
       "      <td>8</td>\n",
       "      <td>5</td>\n",
       "      <td>harry</td>\n",
       "    </tr>\n",
       "    <tr>\n",
       "      <th>9</th>\n",
       "      <td>9</td>\n",
       "      <td>5</td>\n",
       "      <td>harry</td>\n",
       "    </tr>\n",
       "  </tbody>\n",
       "</table>\n",
       "</div>"
      ],
      "text/plain": [
       "   rev  newcol newname\n",
       "0    0       5   harry\n",
       "1    1       5   harry\n",
       "2    2       5   harry\n",
       "3    3       5   harry\n",
       "4    4       5   harry\n",
       "5    5       5   harry\n",
       "6    6       5   harry\n",
       "7    7       5   harry\n",
       "8    8       5   harry\n",
       "9    9       5   harry"
      ]
     },
     "execution_count": 44,
     "metadata": {},
     "output_type": "execute_result"
    }
   ],
   "source": [
    "d_f['newname'] = 'harry'\n",
    "d_f"
   ]
  },
  {
   "cell_type": "code",
   "execution_count": 45,
   "metadata": {},
   "outputs": [],
   "source": [
    "# we cn modify the new column\n",
    "d_f['newcol']= d_f['newcol'] + 1"
   ]
  },
  {
   "cell_type": "code",
   "execution_count": 46,
   "metadata": {},
   "outputs": [
    {
     "data": {
      "text/html": [
       "<div>\n",
       "<style scoped>\n",
       "    .dataframe tbody tr th:only-of-type {\n",
       "        vertical-align: middle;\n",
       "    }\n",
       "\n",
       "    .dataframe tbody tr th {\n",
       "        vertical-align: top;\n",
       "    }\n",
       "\n",
       "    .dataframe thead th {\n",
       "        text-align: right;\n",
       "    }\n",
       "</style>\n",
       "<table border=\"1\" class=\"dataframe\">\n",
       "  <thead>\n",
       "    <tr style=\"text-align: right;\">\n",
       "      <th></th>\n",
       "      <th>rev</th>\n",
       "      <th>newcol</th>\n",
       "      <th>newname</th>\n",
       "    </tr>\n",
       "  </thead>\n",
       "  <tbody>\n",
       "    <tr>\n",
       "      <th>0</th>\n",
       "      <td>0</td>\n",
       "      <td>6</td>\n",
       "      <td>harry</td>\n",
       "    </tr>\n",
       "    <tr>\n",
       "      <th>1</th>\n",
       "      <td>1</td>\n",
       "      <td>6</td>\n",
       "      <td>harry</td>\n",
       "    </tr>\n",
       "    <tr>\n",
       "      <th>2</th>\n",
       "      <td>2</td>\n",
       "      <td>6</td>\n",
       "      <td>harry</td>\n",
       "    </tr>\n",
       "    <tr>\n",
       "      <th>3</th>\n",
       "      <td>3</td>\n",
       "      <td>6</td>\n",
       "      <td>harry</td>\n",
       "    </tr>\n",
       "    <tr>\n",
       "      <th>4</th>\n",
       "      <td>4</td>\n",
       "      <td>6</td>\n",
       "      <td>harry</td>\n",
       "    </tr>\n",
       "    <tr>\n",
       "      <th>5</th>\n",
       "      <td>5</td>\n",
       "      <td>6</td>\n",
       "      <td>harry</td>\n",
       "    </tr>\n",
       "    <tr>\n",
       "      <th>6</th>\n",
       "      <td>6</td>\n",
       "      <td>6</td>\n",
       "      <td>harry</td>\n",
       "    </tr>\n",
       "    <tr>\n",
       "      <th>7</th>\n",
       "      <td>7</td>\n",
       "      <td>6</td>\n",
       "      <td>harry</td>\n",
       "    </tr>\n",
       "    <tr>\n",
       "      <th>8</th>\n",
       "      <td>8</td>\n",
       "      <td>6</td>\n",
       "      <td>harry</td>\n",
       "    </tr>\n",
       "    <tr>\n",
       "      <th>9</th>\n",
       "      <td>9</td>\n",
       "      <td>6</td>\n",
       "      <td>harry</td>\n",
       "    </tr>\n",
       "  </tbody>\n",
       "</table>\n",
       "</div>"
      ],
      "text/plain": [
       "   rev  newcol newname\n",
       "0    0       6   harry\n",
       "1    1       6   harry\n",
       "2    2       6   harry\n",
       "3    3       6   harry\n",
       "4    4       6   harry\n",
       "5    5       6   harry\n",
       "6    6       6   harry\n",
       "7    7       6   harry\n",
       "8    8       6   harry\n",
       "9    9       6   harry"
      ]
     },
     "execution_count": 46,
     "metadata": {},
     "output_type": "execute_result"
    }
   ],
   "source": [
    "d_f"
   ]
  },
  {
   "cell_type": "code",
   "execution_count": 47,
   "metadata": {},
   "outputs": [],
   "source": [
    "# we can del a columns\n",
    "del d_f['newname']"
   ]
  },
  {
   "cell_type": "code",
   "execution_count": 48,
   "metadata": {},
   "outputs": [],
   "source": [
    "# we can create new columss\n",
    "d_f['test'] = 3"
   ]
  },
  {
   "cell_type": "code",
   "execution_count": 49,
   "metadata": {},
   "outputs": [],
   "source": [
    "d_f['col']= d_f['rev']"
   ]
  },
  {
   "cell_type": "code",
   "execution_count": 50,
   "metadata": {},
   "outputs": [
    {
     "data": {
      "text/html": [
       "<div>\n",
       "<style scoped>\n",
       "    .dataframe tbody tr th:only-of-type {\n",
       "        vertical-align: middle;\n",
       "    }\n",
       "\n",
       "    .dataframe tbody tr th {\n",
       "        vertical-align: top;\n",
       "    }\n",
       "\n",
       "    .dataframe thead th {\n",
       "        text-align: right;\n",
       "    }\n",
       "</style>\n",
       "<table border=\"1\" class=\"dataframe\">\n",
       "  <thead>\n",
       "    <tr style=\"text-align: right;\">\n",
       "      <th></th>\n",
       "      <th>rev</th>\n",
       "      <th>newcol</th>\n",
       "      <th>test</th>\n",
       "      <th>col</th>\n",
       "    </tr>\n",
       "  </thead>\n",
       "  <tbody>\n",
       "    <tr>\n",
       "      <th>0</th>\n",
       "      <td>0</td>\n",
       "      <td>6</td>\n",
       "      <td>3</td>\n",
       "      <td>0</td>\n",
       "    </tr>\n",
       "    <tr>\n",
       "      <th>1</th>\n",
       "      <td>1</td>\n",
       "      <td>6</td>\n",
       "      <td>3</td>\n",
       "      <td>1</td>\n",
       "    </tr>\n",
       "    <tr>\n",
       "      <th>2</th>\n",
       "      <td>2</td>\n",
       "      <td>6</td>\n",
       "      <td>3</td>\n",
       "      <td>2</td>\n",
       "    </tr>\n",
       "    <tr>\n",
       "      <th>3</th>\n",
       "      <td>3</td>\n",
       "      <td>6</td>\n",
       "      <td>3</td>\n",
       "      <td>3</td>\n",
       "    </tr>\n",
       "    <tr>\n",
       "      <th>4</th>\n",
       "      <td>4</td>\n",
       "      <td>6</td>\n",
       "      <td>3</td>\n",
       "      <td>4</td>\n",
       "    </tr>\n",
       "    <tr>\n",
       "      <th>5</th>\n",
       "      <td>5</td>\n",
       "      <td>6</td>\n",
       "      <td>3</td>\n",
       "      <td>5</td>\n",
       "    </tr>\n",
       "    <tr>\n",
       "      <th>6</th>\n",
       "      <td>6</td>\n",
       "      <td>6</td>\n",
       "      <td>3</td>\n",
       "      <td>6</td>\n",
       "    </tr>\n",
       "    <tr>\n",
       "      <th>7</th>\n",
       "      <td>7</td>\n",
       "      <td>6</td>\n",
       "      <td>3</td>\n",
       "      <td>7</td>\n",
       "    </tr>\n",
       "    <tr>\n",
       "      <th>8</th>\n",
       "      <td>8</td>\n",
       "      <td>6</td>\n",
       "      <td>3</td>\n",
       "      <td>8</td>\n",
       "    </tr>\n",
       "    <tr>\n",
       "      <th>9</th>\n",
       "      <td>9</td>\n",
       "      <td>6</td>\n",
       "      <td>3</td>\n",
       "      <td>9</td>\n",
       "    </tr>\n",
       "  </tbody>\n",
       "</table>\n",
       "</div>"
      ],
      "text/plain": [
       "   rev  newcol  test  col\n",
       "0    0       6     3    0\n",
       "1    1       6     3    1\n",
       "2    2       6     3    2\n",
       "3    3       6     3    3\n",
       "4    4       6     3    4\n",
       "5    5       6     3    5\n",
       "6    6       6     3    6\n",
       "7    7       6     3    7\n",
       "8    8       6     3    8\n",
       "9    9       6     3    9"
      ]
     },
     "execution_count": 50,
     "metadata": {},
     "output_type": "execute_result"
    }
   ],
   "source": [
    "d_f"
   ]
  },
  {
   "cell_type": "code",
   "execution_count": 51,
   "metadata": {},
   "outputs": [
    {
     "data": {
      "text/html": [
       "<div>\n",
       "<style scoped>\n",
       "    .dataframe tbody tr th:only-of-type {\n",
       "        vertical-align: middle;\n",
       "    }\n",
       "\n",
       "    .dataframe tbody tr th {\n",
       "        vertical-align: top;\n",
       "    }\n",
       "\n",
       "    .dataframe thead th {\n",
       "        text-align: right;\n",
       "    }\n",
       "</style>\n",
       "<table border=\"1\" class=\"dataframe\">\n",
       "  <thead>\n",
       "    <tr style=\"text-align: right;\">\n",
       "      <th></th>\n",
       "      <th>rev</th>\n",
       "      <th>newcol</th>\n",
       "      <th>test</th>\n",
       "      <th>col</th>\n",
       "    </tr>\n",
       "  </thead>\n",
       "  <tbody>\n",
       "    <tr>\n",
       "      <th>a</th>\n",
       "      <td>0</td>\n",
       "      <td>6</td>\n",
       "      <td>3</td>\n",
       "      <td>0</td>\n",
       "    </tr>\n",
       "    <tr>\n",
       "      <th>b</th>\n",
       "      <td>1</td>\n",
       "      <td>6</td>\n",
       "      <td>3</td>\n",
       "      <td>1</td>\n",
       "    </tr>\n",
       "    <tr>\n",
       "      <th>c</th>\n",
       "      <td>2</td>\n",
       "      <td>6</td>\n",
       "      <td>3</td>\n",
       "      <td>2</td>\n",
       "    </tr>\n",
       "    <tr>\n",
       "      <th>d</th>\n",
       "      <td>3</td>\n",
       "      <td>6</td>\n",
       "      <td>3</td>\n",
       "      <td>3</td>\n",
       "    </tr>\n",
       "    <tr>\n",
       "      <th>e</th>\n",
       "      <td>4</td>\n",
       "      <td>6</td>\n",
       "      <td>3</td>\n",
       "      <td>4</td>\n",
       "    </tr>\n",
       "    <tr>\n",
       "      <th>f</th>\n",
       "      <td>5</td>\n",
       "      <td>6</td>\n",
       "      <td>3</td>\n",
       "      <td>5</td>\n",
       "    </tr>\n",
       "    <tr>\n",
       "      <th>g</th>\n",
       "      <td>6</td>\n",
       "      <td>6</td>\n",
       "      <td>3</td>\n",
       "      <td>6</td>\n",
       "    </tr>\n",
       "    <tr>\n",
       "      <th>h</th>\n",
       "      <td>7</td>\n",
       "      <td>6</td>\n",
       "      <td>3</td>\n",
       "      <td>7</td>\n",
       "    </tr>\n",
       "    <tr>\n",
       "      <th>i</th>\n",
       "      <td>8</td>\n",
       "      <td>6</td>\n",
       "      <td>3</td>\n",
       "      <td>8</td>\n",
       "    </tr>\n",
       "    <tr>\n",
       "      <th>j</th>\n",
       "      <td>9</td>\n",
       "      <td>6</td>\n",
       "      <td>3</td>\n",
       "      <td>9</td>\n",
       "    </tr>\n",
       "  </tbody>\n",
       "</table>\n",
       "</div>"
      ],
      "text/plain": [
       "   rev  newcol  test  col\n",
       "a    0       6     3    0\n",
       "b    1       6     3    1\n",
       "c    2       6     3    2\n",
       "d    3       6     3    3\n",
       "e    4       6     3    4\n",
       "f    5       6     3    5\n",
       "g    6       6     3    6\n",
       "h    7       6     3    7\n",
       "i    8       6     3    8\n",
       "j    9       6     3    9"
      ]
     },
     "execution_count": 51,
     "metadata": {},
     "output_type": "execute_result"
    }
   ],
   "source": [
    "# If we wanted, we could change the name of the index\n",
    "i = ['a','b','c','d','e','f','g','h','i','j']\n",
    "d_f.index = i\n",
    "d_f"
   ]
  },
  {
   "cell_type": "code",
   "execution_count": 52,
   "metadata": {},
   "outputs": [
    {
     "data": {
      "text/html": [
       "<div>\n",
       "<style scoped>\n",
       "    .dataframe tbody tr th:only-of-type {\n",
       "        vertical-align: middle;\n",
       "    }\n",
       "\n",
       "    .dataframe tbody tr th {\n",
       "        vertical-align: top;\n",
       "    }\n",
       "\n",
       "    .dataframe thead th {\n",
       "        text-align: right;\n",
       "    }\n",
       "</style>\n",
       "<table border=\"1\" class=\"dataframe\">\n",
       "  <thead>\n",
       "    <tr style=\"text-align: right;\">\n",
       "      <th></th>\n",
       "      <th>rev</th>\n",
       "      <th>newcol</th>\n",
       "      <th>test</th>\n",
       "      <th>col</th>\n",
       "    </tr>\n",
       "  </thead>\n",
       "  <tbody>\n",
       "    <tr>\n",
       "      <th>a</th>\n",
       "      <td>0</td>\n",
       "      <td>6</td>\n",
       "      <td>3</td>\n",
       "      <td>0</td>\n",
       "    </tr>\n",
       "    <tr>\n",
       "      <th>b</th>\n",
       "      <td>1</td>\n",
       "      <td>6</td>\n",
       "      <td>3</td>\n",
       "      <td>1</td>\n",
       "    </tr>\n",
       "    <tr>\n",
       "      <th>c</th>\n",
       "      <td>2</td>\n",
       "      <td>6</td>\n",
       "      <td>3</td>\n",
       "      <td>2</td>\n",
       "    </tr>\n",
       "    <tr>\n",
       "      <th>d</th>\n",
       "      <td>3</td>\n",
       "      <td>6</td>\n",
       "      <td>3</td>\n",
       "      <td>3</td>\n",
       "    </tr>\n",
       "  </tbody>\n",
       "</table>\n",
       "</div>"
      ],
      "text/plain": [
       "   rev  newcol  test  col\n",
       "a    0       6     3    0\n",
       "b    1       6     3    1\n",
       "c    2       6     3    2\n",
       "d    3       6     3    3"
      ]
     },
     "execution_count": 52,
     "metadata": {},
     "output_type": "execute_result"
    }
   ],
   "source": [
    "# using loc to select pieces of data, recal loc is for letter index\n",
    "d_f.loc['a':'d']"
   ]
  },
  {
   "cell_type": "code",
   "execution_count": 53,
   "metadata": {},
   "outputs": [
    {
     "data": {
      "text/html": [
       "<div>\n",
       "<style scoped>\n",
       "    .dataframe tbody tr th:only-of-type {\n",
       "        vertical-align: middle;\n",
       "    }\n",
       "\n",
       "    .dataframe tbody tr th {\n",
       "        vertical-align: top;\n",
       "    }\n",
       "\n",
       "    .dataframe thead th {\n",
       "        text-align: right;\n",
       "    }\n",
       "</style>\n",
       "<table border=\"1\" class=\"dataframe\">\n",
       "  <thead>\n",
       "    <tr style=\"text-align: right;\">\n",
       "      <th></th>\n",
       "      <th>rev</th>\n",
       "      <th>newcol</th>\n",
       "      <th>test</th>\n",
       "      <th>col</th>\n",
       "    </tr>\n",
       "  </thead>\n",
       "  <tbody>\n",
       "    <tr>\n",
       "      <th>a</th>\n",
       "      <td>0</td>\n",
       "      <td>6</td>\n",
       "      <td>3</td>\n",
       "      <td>0</td>\n",
       "    </tr>\n",
       "    <tr>\n",
       "      <th>b</th>\n",
       "      <td>1</td>\n",
       "      <td>6</td>\n",
       "      <td>3</td>\n",
       "      <td>1</td>\n",
       "    </tr>\n",
       "    <tr>\n",
       "      <th>c</th>\n",
       "      <td>2</td>\n",
       "      <td>6</td>\n",
       "      <td>3</td>\n",
       "      <td>2</td>\n",
       "    </tr>\n",
       "  </tbody>\n",
       "</table>\n",
       "</div>"
      ],
      "text/plain": [
       "   rev  newcol  test  col\n",
       "a    0       6     3    0\n",
       "b    1       6     3    1\n",
       "c    2       6     3    2"
      ]
     },
     "execution_count": 53,
     "metadata": {},
     "output_type": "execute_result"
    }
   ],
   "source": [
    "# ising iloc for intergers\n",
    "d_f[0:3] # recal that the last interger is not included"
   ]
  },
  {
   "cell_type": "code",
   "execution_count": 54,
   "metadata": {},
   "outputs": [
    {
     "data": {
      "text/html": [
       "<div>\n",
       "<style scoped>\n",
       "    .dataframe tbody tr th:only-of-type {\n",
       "        vertical-align: middle;\n",
       "    }\n",
       "\n",
       "    .dataframe tbody tr th {\n",
       "        vertical-align: top;\n",
       "    }\n",
       "\n",
       "    .dataframe thead th {\n",
       "        text-align: right;\n",
       "    }\n",
       "</style>\n",
       "<table border=\"1\" class=\"dataframe\">\n",
       "  <thead>\n",
       "    <tr style=\"text-align: right;\">\n",
       "      <th></th>\n",
       "      <th>test</th>\n",
       "      <th>col</th>\n",
       "    </tr>\n",
       "  </thead>\n",
       "  <tbody>\n",
       "    <tr>\n",
       "      <th>a</th>\n",
       "      <td>3</td>\n",
       "      <td>0</td>\n",
       "    </tr>\n",
       "    <tr>\n",
       "      <th>b</th>\n",
       "      <td>3</td>\n",
       "      <td>1</td>\n",
       "    </tr>\n",
       "    <tr>\n",
       "      <th>c</th>\n",
       "      <td>3</td>\n",
       "      <td>2</td>\n",
       "    </tr>\n",
       "    <tr>\n",
       "      <th>d</th>\n",
       "      <td>3</td>\n",
       "      <td>3</td>\n",
       "    </tr>\n",
       "    <tr>\n",
       "      <th>e</th>\n",
       "      <td>3</td>\n",
       "      <td>4</td>\n",
       "    </tr>\n",
       "    <tr>\n",
       "      <th>f</th>\n",
       "      <td>3</td>\n",
       "      <td>5</td>\n",
       "    </tr>\n",
       "    <tr>\n",
       "      <th>g</th>\n",
       "      <td>3</td>\n",
       "      <td>6</td>\n",
       "    </tr>\n",
       "    <tr>\n",
       "      <th>h</th>\n",
       "      <td>3</td>\n",
       "      <td>7</td>\n",
       "    </tr>\n",
       "    <tr>\n",
       "      <th>i</th>\n",
       "      <td>3</td>\n",
       "      <td>8</td>\n",
       "    </tr>\n",
       "    <tr>\n",
       "      <th>j</th>\n",
       "      <td>3</td>\n",
       "      <td>9</td>\n",
       "    </tr>\n",
       "  </tbody>\n",
       "</table>\n",
       "</div>"
      ],
      "text/plain": [
       "   test  col\n",
       "a     3    0\n",
       "b     3    1\n",
       "c     3    2\n",
       "d     3    3\n",
       "e     3    4\n",
       "f     3    5\n",
       "g     3    6\n",
       "h     3    7\n",
       "i     3    8\n",
       "j     3    9"
      ]
     },
     "execution_count": 54,
     "metadata": {},
     "output_type": "execute_result"
    }
   ],
   "source": [
    "# selecting columns\n",
    "d_f[['test', 'col']]"
   ]
  },
  {
   "cell_type": "markdown",
   "metadata": {},
   "source": [
    "# conditional selection using rows and columns"
   ]
  },
  {
   "cell_type": "code",
   "execution_count": 51,
   "metadata": {
    "collapsed": true
   },
   "outputs": [
    {
     "data": {
      "text/plain": [
       "a    0\n",
       "b    1\n",
       "c    2\n",
       "Name: rev, dtype: int64"
      ]
     },
     "execution_count": 51,
     "metadata": {},
     "output_type": "execute_result"
    }
   ],
   "source": [
    "d_f.loc[d_f.index[0:3],'rev']"
   ]
  },
  {
   "cell_type": "code",
   "execution_count": 49,
   "metadata": {
    "collapsed": true
   },
   "outputs": [
    {
     "data": {
      "text/html": [
       "<div>\n",
       "<style scoped>\n",
       "    .dataframe tbody tr th:only-of-type {\n",
       "        vertical-align: middle;\n",
       "    }\n",
       "\n",
       "    .dataframe tbody tr th {\n",
       "        vertical-align: top;\n",
       "    }\n",
       "\n",
       "    .dataframe thead th {\n",
       "        text-align: right;\n",
       "    }\n",
       "</style>\n",
       "<table border=\"1\" class=\"dataframe\">\n",
       "  <thead>\n",
       "    <tr style=\"text-align: right;\">\n",
       "      <th></th>\n",
       "      <th>rev</th>\n",
       "      <th>newcol</th>\n",
       "      <th>test</th>\n",
       "      <th>col</th>\n",
       "    </tr>\n",
       "  </thead>\n",
       "  <tbody>\n",
       "    <tr>\n",
       "      <th>a</th>\n",
       "      <td>0</td>\n",
       "      <td>6</td>\n",
       "      <td>3</td>\n",
       "      <td>0</td>\n",
       "    </tr>\n",
       "    <tr>\n",
       "      <th>b</th>\n",
       "      <td>1</td>\n",
       "      <td>6</td>\n",
       "      <td>3</td>\n",
       "      <td>1</td>\n",
       "    </tr>\n",
       "    <tr>\n",
       "      <th>c</th>\n",
       "      <td>2</td>\n",
       "      <td>6</td>\n",
       "      <td>3</td>\n",
       "      <td>2</td>\n",
       "    </tr>\n",
       "    <tr>\n",
       "      <th>d</th>\n",
       "      <td>3</td>\n",
       "      <td>6</td>\n",
       "      <td>3</td>\n",
       "      <td>3</td>\n",
       "    </tr>\n",
       "    <tr>\n",
       "      <th>e</th>\n",
       "      <td>4</td>\n",
       "      <td>6</td>\n",
       "      <td>3</td>\n",
       "      <td>4</td>\n",
       "    </tr>\n",
       "    <tr>\n",
       "      <th>f</th>\n",
       "      <td>5</td>\n",
       "      <td>6</td>\n",
       "      <td>3</td>\n",
       "      <td>5</td>\n",
       "    </tr>\n",
       "    <tr>\n",
       "      <th>g</th>\n",
       "      <td>6</td>\n",
       "      <td>6</td>\n",
       "      <td>3</td>\n",
       "      <td>6</td>\n",
       "    </tr>\n",
       "    <tr>\n",
       "      <th>h</th>\n",
       "      <td>7</td>\n",
       "      <td>6</td>\n",
       "      <td>3</td>\n",
       "      <td>7</td>\n",
       "    </tr>\n",
       "    <tr>\n",
       "      <th>i</th>\n",
       "      <td>8</td>\n",
       "      <td>6</td>\n",
       "      <td>3</td>\n",
       "      <td>8</td>\n",
       "    </tr>\n",
       "    <tr>\n",
       "      <th>j</th>\n",
       "      <td>9</td>\n",
       "      <td>6</td>\n",
       "      <td>3</td>\n",
       "      <td>9</td>\n",
       "    </tr>\n",
       "  </tbody>\n",
       "</table>\n",
       "</div>"
      ],
      "text/plain": [
       "   rev  newcol  test  col\n",
       "a    0       6     3    0\n",
       "b    1       6     3    1\n",
       "c    2       6     3    2\n",
       "d    3       6     3    3\n",
       "e    4       6     3    4\n",
       "f    5       6     3    5\n",
       "g    6       6     3    6\n",
       "h    7       6     3    7\n",
       "i    8       6     3    8\n",
       "j    9       6     3    9"
      ]
     },
     "execution_count": 49,
     "metadata": {},
     "output_type": "execute_result"
    }
   ],
   "source": [
    "d_f"
   ]
  },
  {
   "cell_type": "code",
   "execution_count": 52,
   "metadata": {
    "collapsed": true
   },
   "outputs": [
    {
     "data": {
      "text/plain": [
       "f    5\n",
       "g    6\n",
       "h    7\n",
       "i    8\n",
       "j    9\n",
       "Name: col, dtype: int64"
      ]
     },
     "execution_count": 52,
     "metadata": {},
     "output_type": "execute_result"
    }
   ],
   "source": [
    "# we can select from index 5 and above\n",
    "d_f.loc[d_f.index[5:],'col']"
   ]
  },
  {
   "cell_type": "code",
   "execution_count": 54,
   "metadata": {
    "collapsed": true
   },
   "outputs": [
    {
     "data": {
      "text/html": [
       "<div>\n",
       "<style scoped>\n",
       "    .dataframe tbody tr th:only-of-type {\n",
       "        vertical-align: middle;\n",
       "    }\n",
       "\n",
       "    .dataframe tbody tr th {\n",
       "        vertical-align: top;\n",
       "    }\n",
       "\n",
       "    .dataframe thead th {\n",
       "        text-align: right;\n",
       "    }\n",
       "</style>\n",
       "<table border=\"1\" class=\"dataframe\">\n",
       "  <thead>\n",
       "    <tr style=\"text-align: right;\">\n",
       "      <th></th>\n",
       "      <th>col</th>\n",
       "      <th>test</th>\n",
       "    </tr>\n",
       "  </thead>\n",
       "  <tbody>\n",
       "    <tr>\n",
       "      <th>f</th>\n",
       "      <td>5</td>\n",
       "      <td>3</td>\n",
       "    </tr>\n",
       "    <tr>\n",
       "      <th>g</th>\n",
       "      <td>6</td>\n",
       "      <td>3</td>\n",
       "    </tr>\n",
       "    <tr>\n",
       "      <th>h</th>\n",
       "      <td>7</td>\n",
       "      <td>3</td>\n",
       "    </tr>\n",
       "    <tr>\n",
       "      <th>i</th>\n",
       "      <td>8</td>\n",
       "      <td>3</td>\n",
       "    </tr>\n",
       "    <tr>\n",
       "      <th>j</th>\n",
       "      <td>9</td>\n",
       "      <td>3</td>\n",
       "    </tr>\n",
       "  </tbody>\n",
       "</table>\n",
       "</div>"
      ],
      "text/plain": [
       "   col  test\n",
       "f    5     3\n",
       "g    6     3\n",
       "h    7     3\n",
       "i    8     3\n",
       "j    9     3"
      ]
     },
     "execution_count": 54,
     "metadata": {},
     "output_type": "execute_result"
    }
   ],
   "source": [
    "d_f.loc[d_f.index[5:],['col', 'test']] # multiple colunms has to be in square brackets"
   ]
  }
 ],
 "metadata": {
  "kernelspec": {
   "display_name": "Python 3 (ipykernel)",
   "language": "python",
   "name": "python3"
  },
  "language_info": {
   "codemirror_mode": {
    "name": "ipython",
    "version": 3
   },
   "file_extension": ".py",
   "mimetype": "text/x-python",
   "name": "python",
   "nbconvert_exporter": "python",
   "pygments_lexer": "ipython3",
   "version": "3.8.8"
  }
 },
 "nbformat": 4,
 "nbformat_minor": 2
}
