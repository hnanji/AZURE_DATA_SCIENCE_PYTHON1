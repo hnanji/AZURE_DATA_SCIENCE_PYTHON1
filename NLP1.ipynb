{
 "cells": [
  {
   "cell_type": "code",
   "execution_count": 4,
   "id": "f113c6f4",
   "metadata": {},
   "outputs": [],
   "source": [
    "#In Python, the module \"re\" is used to work with Regular Expressions"
   ]
  },
  {
   "cell_type": "code",
   "execution_count": 12,
   "id": "8ad89ded",
   "metadata": {},
   "outputs": [],
   "source": [
    "# import the re module\n",
    "\n",
    "import re\n",
    "\n",
    "my_string = \"Let's write RegEx!\"\n"
   ]
  },
  {
   "cell_type": "markdown",
   "id": "2f511731",
   "metadata": {},
   "source": [
    "# the findall finds all patterns in a string"
   ]
  },
  {
   "cell_type": "code",
   "execution_count": 19,
   "id": "b315d0be",
   "metadata": {},
   "outputs": [
    {
     "data": {
      "text/plain": [
       "['Let', 's', 'write', 'RegEx']"
      ]
     },
     "execution_count": 19,
     "metadata": {},
     "output_type": "execute_result"
    }
   ],
   "source": [
    "# finds word in a string\n",
    "re.findall(r\"\\w+\", my_string)"
   ]
  },
  {
   "cell_type": "code",
   "execution_count": 14,
   "id": "504a318b",
   "metadata": {},
   "outputs": [
    {
     "data": {
      "text/plain": [
       "[]"
      ]
     },
     "execution_count": 14,
     "metadata": {},
     "output_type": "execute_result"
    }
   ],
   "source": [
    "# finds digits in a string\n",
    "re.findall(r\"\\d\", my_string)"
   ]
  },
  {
   "cell_type": "code",
   "execution_count": 15,
   "id": "25fca0bb",
   "metadata": {},
   "outputs": [
    {
     "data": {
      "text/plain": [
       "[' ', ' ']"
      ]
     },
     "execution_count": 15,
     "metadata": {},
     "output_type": "execute_result"
    }
   ],
   "source": [
    "# finds space in a string\n",
    "re.findall(r\"\\s\", my_string)"
   ]
  },
  {
   "cell_type": "code",
   "execution_count": 18,
   "id": "40484382",
   "metadata": {},
   "outputs": [
    {
     "data": {
      "text/plain": [
       "[\"Let's write RegEx!\", '']"
      ]
     },
     "execution_count": 18,
     "metadata": {},
     "output_type": "execute_result"
    }
   ],
   "source": [
    "# finds any letter/symbol\n",
    "re.findall(r\".*\", my_string)"
   ]
  },
  {
   "cell_type": "markdown",
   "id": "1da807fc",
   "metadata": {},
   "source": [
    "# the match finds match in a string"
   ]
  },
  {
   "cell_type": "code",
   "execution_count": 35,
   "id": "dcea755b",
   "metadata": {},
   "outputs": [
    {
     "data": {
      "text/plain": [
       "<re.Match object; span=(0, 3), match='my_'>"
      ]
     },
     "execution_count": 35,
     "metadata": {},
     "output_type": "execute_result"
    }
   ],
   "source": [
    "# looks like this must be the first match\n",
    "re.match('my_', 'my_string')"
   ]
  },
  {
   "cell_type": "code",
   "execution_count": 36,
   "id": "45627eaa",
   "metadata": {},
   "outputs": [
    {
     "data": {
      "text/plain": [
       "<re.Match object; span=(0, 9), match='my_string'>"
      ]
     },
     "execution_count": 36,
     "metadata": {},
     "output_type": "execute_result"
    }
   ],
   "source": [
    "re.match(r\"\\w+\", 'my_string')"
   ]
  },
  {
   "cell_type": "code",
   "execution_count": 38,
   "id": "4e2b7adb",
   "metadata": {},
   "outputs": [],
   "source": [
    "re.match(r\"\\d\", 'my_string')"
   ]
  },
  {
   "cell_type": "markdown",
   "id": "1f888ec3",
   "metadata": {},
   "source": [
    "# \"\\n\" in Python is used to indicate a new line"
   ]
  },
  {
   "cell_type": "code",
   "execution_count": 39,
   "id": "fe01b873",
   "metadata": {},
   "outputs": [
    {
     "name": "stdout",
     "output_type": "stream",
     "text": [
      "[\"Let's write RegEx\", '']\n"
     ]
    }
   ],
   "source": [
    "# Write a pattern to match sentence endings: sentence_endings\n",
    "sentence_endings = r\"[.?!]\" # the square brackets here mean we want to match group of characters\n",
    "\n",
    "# Split my_string on sentence endings and print the result\n",
    "print(re.split(sentence_endings, my_string))"
   ]
  },
  {
   "cell_type": "code",
   "execution_count": null,
   "id": "b84792aa",
   "metadata": {},
   "outputs": [],
   "source": []
  },
  {
   "cell_type": "code",
   "execution_count": 41,
   "id": "dbf12aad",
   "metadata": {},
   "outputs": [
    {
     "name": "stdout",
     "output_type": "stream",
     "text": [
      "['Le', 'Re', 'Ex']\n"
     ]
    }
   ],
   "source": [
    "# Find all capitalized words in my_string and print the result\n",
    "capitalized_words = r\"[A-Z]\\w+\"\n",
    "print(re.findall(capitalized_words, my_string))\n",
    "# capitalized_words = r\"[A-Z]\\w+\"  if you try this, the results would be different"
   ]
  },
  {
   "cell_type": "code",
   "execution_count": 44,
   "id": "3895fc55",
   "metadata": {},
   "outputs": [
    {
     "name": "stdout",
     "output_type": "stream",
     "text": [
      "[\"Let's\", 'write', 'RegEx!']\n"
     ]
    }
   ],
   "source": [
    "# Split my_string on spaces and print the result\n",
    "spaces = r\"\\s+\"\n",
    "print(re.split(spaces, my_string))"
   ]
  },
  {
   "cell_type": "code",
   "execution_count": 45,
   "id": "81966cdb",
   "metadata": {},
   "outputs": [
    {
     "name": "stdout",
     "output_type": "stream",
     "text": [
      "[]\n"
     ]
    }
   ],
   "source": [
    "# Find all digits in my_string and print the result\n",
    "digits = r\"\\d+\"\n",
    "print(re.findall(digits, my_string))"
   ]
  },
  {
   "cell_type": "markdown",
   "id": "888a6cce",
   "metadata": {},
   "source": [
    "# Introduction to tokenization\n",
    "\n",
    "this is turning a string into documemnts or tokens(smaller chuncks) in preparation for NLP\n",
    "\n",
    "must install nltk\n",
    "need to install NumPy and Matplotlib for visualisation\n"
   ]
  },
  {
   "cell_type": "code",
   "execution_count": 62,
   "id": "777345b0",
   "metadata": {},
   "outputs": [
    {
     "name": "stdout",
     "output_type": "stream",
     "text": [
      "Requirement already satisfied: nltk in /Users/uczhn/opt/anaconda3/lib/python3.8/site-packages (3.6.2)\n",
      "Requirement already satisfied: joblib in /Users/uczhn/opt/anaconda3/lib/python3.8/site-packages (from nltk) (1.0.1)\n",
      "Requirement already satisfied: regex in /Users/uczhn/opt/anaconda3/lib/python3.8/site-packages (from nltk) (2021.8.3)\n",
      "Requirement already satisfied: tqdm in /Users/uczhn/opt/anaconda3/lib/python3.8/site-packages (from nltk) (4.62.2)\n",
      "Requirement already satisfied: click in /Users/uczhn/opt/anaconda3/lib/python3.8/site-packages (from nltk) (8.0.1)\n",
      "Note: you may need to restart the kernel to use updated packages.\n"
     ]
    }
   ],
   "source": [
    "pip install nltk"
   ]
  },
  {
   "cell_type": "code",
   "execution_count": 70,
   "id": "278bf74b",
   "metadata": {},
   "outputs": [],
   "source": [
    "# NLTK, or Natural Language Toolkit"
   ]
  },
  {
   "cell_type": "code",
   "execution_count": 82,
   "id": "38107d5e",
   "metadata": {},
   "outputs": [
    {
     "name": "stderr",
     "output_type": "stream",
     "text": [
      "[nltk_data] Downloading package punkt to /Users/uczhn/nltk_data...\n",
      "[nltk_data]   Unzipping tokenizers/punkt.zip.\n"
     ]
    },
    {
     "data": {
      "text/plain": [
       "True"
      ]
     },
     "execution_count": 82,
     "metadata": {},
     "output_type": "execute_result"
    }
   ],
   "source": [
    "# Import necessary modules ands libraries\n",
    "import nltk\n",
    "from nltk.tokenize import sent_tokenize\n",
    "from nltk.tokenize import word_tokenize\n",
    "import numpy as np\n",
    "import matplotlib.pyplot as plt\n",
    "nltk.download('punkt')"
   ]
  },
  {
   "cell_type": "markdown",
   "id": "e4e6d698",
   "metadata": {},
   "source": [
    "# Tokenixation could be by word or sentence\n",
    "Words are like the atoms of natural language.\n",
    "Tokenizing your text by word allows you to identify words that come up particularly often\n",
    "\n",
    "\n",
    "# Tokenizing by sentence: \n",
    "When you tokenize by sentence, you can analyze how those words relate to one another and see more context.\n",
    "Are there a lot of negative words around the word “Python” because the hiring manager doesn’t like Python? \n",
    "Are there more terms from the domain of herpetology than the domain of software development, \n",
    "suggesting that you may be dealing with an entirely different kind of python than you were expecting"
   ]
  },
  {
   "cell_type": "code",
   "execution_count": 85,
   "id": "ef3cba61",
   "metadata": {},
   "outputs": [],
   "source": [
    "example_string = \"\"\"\n",
    "... Muad'Dib learned rapidly because his first training was in how to learn.\n",
    "... And the first lesson of all was the basic trust that he could learn.\n",
    "... It's shocking to find how many people do not believe they can learn,\n",
    "... and how many more believe learning to be difficult.\"\"\""
   ]
  },
  {
   "cell_type": "code",
   "execution_count": null,
   "id": "85ae6470",
   "metadata": {},
   "outputs": [],
   "source": [
    "# split strings into sentences\n",
    "\n",
    "sent_tokenize(example_string)"
   ]
  },
  {
   "cell_type": "code",
   "execution_count": null,
   "id": "151c9306",
   "metadata": {},
   "outputs": [],
   "source": [
    "# tokenize by words\n",
    "word_tokenize(example_string1)"
   ]
  },
  {
   "cell_type": "markdown",
   "id": "6dfcf0af",
   "metadata": {},
   "source": [
    "# Filtering Stop Words\n",
    "Stop words are words that you want to ignore, so you filter them out of your text when you’re processing it. Very common words like 'in', 'is', and 'an' are often used as stop words since they don’t add a lot of meaning to a text in and of themselves"
   ]
  },
  {
   "cell_type": "code",
   "execution_count": 90,
   "id": "4942b2e1",
   "metadata": {},
   "outputs": [
    {
     "name": "stderr",
     "output_type": "stream",
     "text": [
      "[nltk_data] Downloading package stopwords to /Users/uczhn/nltk_data...\n",
      "[nltk_data]   Unzipping corpora/stopwords.zip.\n"
     ]
    }
   ],
   "source": [
    "nltk.download(\"stopwords\") # import stopwords from nltk library\n",
    "from nltk.corpus import stopwords\n"
   ]
  },
  {
   "cell_type": "code",
   "execution_count": null,
   "id": "37c36bd4",
   "metadata": {},
   "outputs": [],
   "source": [
    "worf_quote = \"Sir, I protest. I am not a merry man!\"\n",
    "\n",
    "# tokenize worf_quote by word and store the resulting list in words_in_quote:\n",
    "words_in_quote = word_tokenize(worf_quote)\n",
    "print(words_in_quote)\n",
    "# next  create a set of stop words to filter words_in_quote.\n",
    "\n",
    "stop_words = set(stopwords.words(\"english\")) # this focuses on stop words in english\n",
    "\n",
    "# the filtered_list, hold all the words in words_in_quote that aren’t stop words\n",
    "\n",
    "filtered_list = [] # create an empty list to hold the words that make it past the filter:\n",
    "\n",
    "for word in words_in_quote:\n",
    "# used .casefold() on word so you could ignore whether word is uppercase or lowercase.\n",
    "    if word.casefold() not in stop_words: \n",
    "         filtered_list.append(word)\n",
    "filtered_list"
   ]
  },
  {
   "cell_type": "markdown",
   "id": "40308dab",
   "metadata": {},
   "source": [
    "# Alternatively , using list comprehesion\n",
    "all of that above coulkd still be achieved using\n",
    "list comprehension where you define the list and its contents at the same time"
   ]
  },
  {
   "cell_type": "code",
   "execution_count": 102,
   "id": "d8aec57f",
   "metadata": {},
   "outputs": [
    {
     "data": {
      "text/plain": [
       "['Sir', ',', 'protest', '.', 'merry', 'man', '!']"
      ]
     },
     "execution_count": 102,
     "metadata": {},
     "output_type": "execute_result"
    }
   ],
   "source": [
    "words_in_quote = word_tokenize(worf_quote)\n",
    "stop_words = set(stopwords.words(\"english\")) # this focuses on stop words in english\n",
    "filtered_list1 = [\n",
    "    word for word in words_in_quote if word.casefold() not in stop_words\n",
    "]\n",
    "filtered_list1"
   ]
  },
  {
   "cell_type": "code",
   "execution_count": null,
   "id": "a229c00a",
   "metadata": {},
   "outputs": [],
   "source": [
    "# noticed that  'I' and 'not' can be important parts of a sentence and have been filtered out. \n",
    "# they may be relavnt to the content and context, so the stop list can be edited to omnit this"
   ]
  },
  {
   "cell_type": "markdown",
   "id": "765ff796",
   "metadata": {},
   "source": [
    "# Stemming\n",
    "Stemming is a text processing task in which you reduce words to their root, which is the core part of a word. For example, the words “helping” and “helper” share the root “help.” Stemming allows you to zero in on the basic meaning of a word rather than all the details of how it’s being used. NLTK has more than one stemmer, but you’ll be using the Porter stemmer."
   ]
  },
  {
   "cell_type": "code",
   "execution_count": 106,
   "id": "f540a5eb",
   "metadata": {},
   "outputs": [
    {
     "name": "stdout",
     "output_type": "stream",
     "text": [
      "['...', 'The', 'crew', 'of', 'the', 'USS', 'Discovery', 'discovered', 'many', 'discoveries', '.', '...', 'Discovering', 'is', 'what', 'explorers', 'do', '.']\n",
      "['...', 'the', 'crew', 'of', 'the', 'uss', 'discoveri', 'discov', 'mani', 'discoveri', '.', '...', 'discov', 'is', 'what', 'explor', 'do', '.']\n"
     ]
    }
   ],
   "source": [
    "from nltk.stem import PorterStemmer\n",
    "\n",
    "# create a stemmer with PorterStemmer():\n",
    "stemmer = PorterStemmer()\n",
    "\n",
    "# use/creat a stem of srings to use\n",
    "\n",
    "string_for_stemming = \"\"\"\n",
    "... The crew of the USS Discovery discovered many discoveries.\n",
    "... Discovering is what explorers do.\"\"\"\n",
    "\n",
    "# separate all words before stemming\n",
    "words = word_tokenize(string_for_stemming)\n",
    "print(words)\n",
    "\n",
    "# creat a stem version of the words\n",
    "stemmed_words = [stemmer.stem(word) for word in words]\n",
    "print(stemmed_words)\n"
   ]
  },
  {
   "cell_type": "markdown",
   "id": "76b1e988",
   "metadata": {},
   "source": [
    "notice how words have changed\n",
    "'Discovery'\t'discoveri'\n",
    " 'discovered'\t'discov'\n",
    " \n",
    "Understemming and overstemming are two ways stemming can go wrong:\n",
    "\n",
    "Understemming happens when two related words should be reduced to the same stem but aren’t. This is a false negative.\n",
    "Overstemming happens when two unrelated words are reduced to the same stem even though they shouldn’t be. This is a false positive."
   ]
  },
  {
   "cell_type": "markdown",
   "id": "70bbd586",
   "metadata": {},
   "source": [
    "# Tagging Parts of Speech\n",
    "Part of speech is a grammatical term that deals with the roles words play when you use them together in sentences. Tagging parts of speech, or POS tagging, is the task of labeling the words in your text according to their part of speech"
   ]
  },
  {
   "cell_type": "code",
   "execution_count": 110,
   "id": "04b5bc97",
   "metadata": {},
   "outputs": [
    {
     "name": "stderr",
     "output_type": "stream",
     "text": [
      "[nltk_data] Downloading package averaged_perceptron_tagger to\n",
      "[nltk_data]     /Users/uczhn/nltk_data...\n",
      "[nltk_data]   Unzipping taggers/averaged_perceptron_tagger.zip.\n"
     ]
    },
    {
     "data": {
      "text/plain": [
       "[('...', ':'),\n",
       " ('If', 'IN'),\n",
       " ('you', 'PRP'),\n",
       " ('wish', 'VBP'),\n",
       " ('to', 'TO'),\n",
       " ('make', 'VB'),\n",
       " ('an', 'DT'),\n",
       " ('apple', 'NN'),\n",
       " ('pie', 'NN'),\n",
       " ('from', 'IN'),\n",
       " ('scratch', 'NN'),\n",
       " (',', ','),\n",
       " ('...', ':'),\n",
       " ('you', 'PRP'),\n",
       " ('must', 'MD'),\n",
       " ('first', 'VB'),\n",
       " ('invent', 'VB'),\n",
       " ('the', 'DT'),\n",
       " ('universe', 'NN'),\n",
       " ('.', '.')]"
      ]
     },
     "execution_count": 110,
     "metadata": {},
     "output_type": "execute_result"
    }
   ],
   "source": [
    "nltk.download('averaged_perceptron_tagger') # needs to9 download averaged_perceptor_tagger\n",
    "from nltk.tokenize import word_tokenize\n",
    "\n",
    "\n",
    "# Now create some text to tag. You can use this Carl Sagan quote:\n",
    "\n",
    "sagan_quote = \"\"\"\n",
    "... If you wish to make an apple pie from scratch,\n",
    "... you must first invent the universe.\"\"\"\n",
    "\n",
    "words_in_sagan_quote = word_tokenize(sagan_quote)\n",
    "# Now call nltk.pos_tag() on your new list of words:\n",
    "\n",
    "import nltk\n",
    "\n",
    "nltk.pos_tag(words_in_sagan_quote)\n",
    "\n",
    "# results: All the words in the quote are now in a separate tuple, with a tag that represents their part of speech\n",
    "# 'pie' was tagged NN because it’s a singular noun"
   ]
  },
  {
   "cell_type": "code",
   "execution_count": 112,
   "id": "76c46f4b",
   "metadata": {},
   "outputs": [
    {
     "name": "stderr",
     "output_type": "stream",
     "text": [
      "[nltk_data] Downloading package tagsets to /Users/uczhn/nltk_data...\n"
     ]
    },
    {
     "name": "stdout",
     "output_type": "stream",
     "text": [
      "$: dollar\n",
      "    $ -$ --$ A$ C$ HK$ M$ NZ$ S$ U.S.$ US$\n",
      "'': closing quotation mark\n",
      "    ' ''\n",
      "(: opening parenthesis\n",
      "    ( [ {\n",
      "): closing parenthesis\n",
      "    ) ] }\n",
      ",: comma\n",
      "    ,\n",
      "--: dash\n",
      "    --\n",
      ".: sentence terminator\n",
      "    . ! ?\n",
      ":: colon or ellipsis\n",
      "    : ; ...\n",
      "CC: conjunction, coordinating\n",
      "    & 'n and both but either et for less minus neither nor or plus so\n",
      "    therefore times v. versus vs. whether yet\n",
      "CD: numeral, cardinal\n",
      "    mid-1890 nine-thirty forty-two one-tenth ten million 0.5 one forty-\n",
      "    seven 1987 twenty '79 zero two 78-degrees eighty-four IX '60s .025\n",
      "    fifteen 271,124 dozen quintillion DM2,000 ...\n",
      "DT: determiner\n",
      "    all an another any both del each either every half la many much nary\n",
      "    neither no some such that the them these this those\n",
      "EX: existential there\n",
      "    there\n",
      "FW: foreign word\n",
      "    gemeinschaft hund ich jeux habeas Haementeria Herr K'ang-si vous\n",
      "    lutihaw alai je jour objets salutaris fille quibusdam pas trop Monte\n",
      "    terram fiche oui corporis ...\n",
      "IN: preposition or conjunction, subordinating\n",
      "    astride among uppon whether out inside pro despite on by throughout\n",
      "    below within for towards near behind atop around if like until below\n",
      "    next into if beside ...\n",
      "JJ: adjective or numeral, ordinal\n",
      "    third ill-mannered pre-war regrettable oiled calamitous first separable\n",
      "    ectoplasmic battery-powered participatory fourth still-to-be-named\n",
      "    multilingual multi-disciplinary ...\n",
      "JJR: adjective, comparative\n",
      "    bleaker braver breezier briefer brighter brisker broader bumper busier\n",
      "    calmer cheaper choosier cleaner clearer closer colder commoner costlier\n",
      "    cozier creamier crunchier cuter ...\n",
      "JJS: adjective, superlative\n",
      "    calmest cheapest choicest classiest cleanest clearest closest commonest\n",
      "    corniest costliest crassest creepiest crudest cutest darkest deadliest\n",
      "    dearest deepest densest dinkiest ...\n",
      "LS: list item marker\n",
      "    A A. B B. C C. D E F First G H I J K One SP-44001 SP-44002 SP-44005\n",
      "    SP-44007 Second Third Three Two * a b c d first five four one six three\n",
      "    two\n",
      "MD: modal auxiliary\n",
      "    can cannot could couldn't dare may might must need ought shall should\n",
      "    shouldn't will would\n",
      "NN: noun, common, singular or mass\n",
      "    common-carrier cabbage knuckle-duster Casino afghan shed thermostat\n",
      "    investment slide humour falloff slick wind hyena override subhumanity\n",
      "    machinist ...\n",
      "NNP: noun, proper, singular\n",
      "    Motown Venneboerger Czestochwa Ranzer Conchita Trumplane Christos\n",
      "    Oceanside Escobar Kreisler Sawyer Cougar Yvette Ervin ODI Darryl CTCA\n",
      "    Shannon A.K.C. Meltex Liverpool ...\n",
      "NNPS: noun, proper, plural\n",
      "    Americans Americas Amharas Amityvilles Amusements Anarcho-Syndicalists\n",
      "    Andalusians Andes Andruses Angels Animals Anthony Antilles Antiques\n",
      "    Apache Apaches Apocrypha ...\n",
      "NNS: noun, common, plural\n",
      "    undergraduates scotches bric-a-brac products bodyguards facets coasts\n",
      "    divestitures storehouses designs clubs fragrances averages\n",
      "    subjectivists apprehensions muses factory-jobs ...\n",
      "PDT: pre-determiner\n",
      "    all both half many quite such sure this\n",
      "POS: genitive marker\n",
      "    ' 's\n",
      "PRP: pronoun, personal\n",
      "    hers herself him himself hisself it itself me myself one oneself ours\n",
      "    ourselves ownself self she thee theirs them themselves they thou thy us\n",
      "PRP$: pronoun, possessive\n",
      "    her his mine my our ours their thy your\n",
      "RB: adverb\n",
      "    occasionally unabatingly maddeningly adventurously professedly\n",
      "    stirringly prominently technologically magisterially predominately\n",
      "    swiftly fiscally pitilessly ...\n",
      "RBR: adverb, comparative\n",
      "    further gloomier grander graver greater grimmer harder harsher\n",
      "    healthier heavier higher however larger later leaner lengthier less-\n",
      "    perfectly lesser lonelier longer louder lower more ...\n",
      "RBS: adverb, superlative\n",
      "    best biggest bluntest earliest farthest first furthest hardest\n",
      "    heartiest highest largest least less most nearest second tightest worst\n",
      "RP: particle\n",
      "    aboard about across along apart around aside at away back before behind\n",
      "    by crop down ever fast for forth from go high i.e. in into just later\n",
      "    low more off on open out over per pie raising start teeth that through\n",
      "    under unto up up-pp upon whole with you\n",
      "SYM: symbol\n",
      "    % & ' '' ''. ) ). * + ,. < = > @ A[fj] U.S U.S.S.R * ** ***\n",
      "TO: \"to\" as preposition or infinitive marker\n",
      "    to\n",
      "UH: interjection\n",
      "    Goodbye Goody Gosh Wow Jeepers Jee-sus Hubba Hey Kee-reist Oops amen\n",
      "    huh howdy uh dammit whammo shucks heck anyways whodunnit honey golly\n",
      "    man baby diddle hush sonuvabitch ...\n",
      "VB: verb, base form\n",
      "    ask assemble assess assign assume atone attention avoid bake balkanize\n",
      "    bank begin behold believe bend benefit bevel beware bless boil bomb\n",
      "    boost brace break bring broil brush build ...\n",
      "VBD: verb, past tense\n",
      "    dipped pleaded swiped regummed soaked tidied convened halted registered\n",
      "    cushioned exacted snubbed strode aimed adopted belied figgered\n",
      "    speculated wore appreciated contemplated ...\n",
      "VBG: verb, present participle or gerund\n",
      "    telegraphing stirring focusing angering judging stalling lactating\n",
      "    hankerin' alleging veering capping approaching traveling besieging\n",
      "    encrypting interrupting erasing wincing ...\n",
      "VBN: verb, past participle\n",
      "    multihulled dilapidated aerosolized chaired languished panelized used\n",
      "    experimented flourished imitated reunifed factored condensed sheared\n",
      "    unsettled primed dubbed desired ...\n",
      "VBP: verb, present tense, not 3rd person singular\n",
      "    predominate wrap resort sue twist spill cure lengthen brush terminate\n",
      "    appear tend stray glisten obtain comprise detest tease attract\n",
      "    emphasize mold postpone sever return wag ...\n",
      "VBZ: verb, present tense, 3rd person singular\n",
      "    bases reconstructs marks mixes displeases seals carps weaves snatches\n",
      "    slumps stretches authorizes smolders pictures emerges stockpiles\n",
      "    seduces fizzes uses bolsters slaps speaks pleads ...\n",
      "WDT: WH-determiner\n",
      "    that what whatever which whichever\n",
      "WP: WH-pronoun\n",
      "    that what whatever whatsoever which who whom whosoever\n",
      "WP$: WH-pronoun, possessive\n",
      "    whose\n",
      "WRB: Wh-adverb\n",
      "    how however whence whenever where whereby whereever wherein whereof why\n",
      "``: opening quotation mark\n",
      "    ` ``\n"
     ]
    },
    {
     "name": "stderr",
     "output_type": "stream",
     "text": [
      "[nltk_data]   Unzipping help/tagsets.zip.\n"
     ]
    }
   ],
   "source": [
    "# Here’s how to get a list of tags and their meanings:\n",
    "nltk.download('tagsets')\n",
    "\n",
    "nltk.help.upenn_tagset()"
   ]
  },
  {
   "cell_type": "markdown",
   "id": "9bc5d537",
   "metadata": {},
   "source": [
    "# Lemmatizing\n",
    "lemmatizing reduces words to their core meaning, but it will give you a complete English word that makes sense on its own instead of just a fragment of a word like"
   ]
  },
  {
   "cell_type": "code",
   "execution_count": 117,
   "id": "de0f9fd0",
   "metadata": {},
   "outputs": [
    {
     "name": "stderr",
     "output_type": "stream",
     "text": [
      "[nltk_data] Downloading package wordnet to /Users/uczhn/nltk_data...\n",
      "[nltk_data]   Unzipping corpora/wordnet.zip.\n"
     ]
    }
   ],
   "source": [
    "nltk.download('wordnet') \n",
    "from nltk.stem import WordNetLemmatizer\n",
    "# Create a lemmatizer to use:\n",
    "lemmatizer = WordNetLemmatizer()"
   ]
  },
  {
   "cell_type": "code",
   "execution_count": 118,
   "id": "39c67dbd",
   "metadata": {},
   "outputs": [
    {
     "data": {
      "text/plain": [
       "'scarf'"
      ]
     },
     "execution_count": 118,
     "metadata": {},
     "output_type": "execute_result"
    }
   ],
   "source": [
    "#Let’s start with lemmatizing a plural noun:\n",
    "\n",
    "lemmatizer.lemmatize(\"scarves\")\n"
   ]
  },
  {
   "cell_type": "code",
   "execution_count": 119,
   "id": "9d56ae76",
   "metadata": {},
   "outputs": [
    {
     "data": {
      "text/plain": [
       "['The', 'friends', 'of', 'DeSoto', 'love', 'scarves', '.']"
      ]
     },
     "execution_count": 119,
     "metadata": {},
     "output_type": "execute_result"
    }
   ],
   "source": [
    "# create a string with more than one word to lemmatize:\n",
    "\n",
    "string_for_lemmatizing = \"The friends of DeSoto love scarves.\"\n",
    "# Now tokenize that string by word:\n",
    "words = word_tokenize(string_for_lemmatizing)\n",
    "words"
   ]
  },
  {
   "cell_type": "code",
   "execution_count": 120,
   "id": "5bd50c65",
   "metadata": {},
   "outputs": [
    {
     "data": {
      "text/plain": [
       "['The', 'friend', 'of', 'DeSoto', 'love', 'scarf', '.']"
      ]
     },
     "execution_count": 120,
     "metadata": {},
     "output_type": "execute_result"
    }
   ],
   "source": [
    "# Create a list containing all the words in words after they’ve been lemmatized:\n",
    "\n",
    "lemmatized_words = [lemmatizer.lemmatize(word) for word in words]\n",
    "lemmatized_words"
   ]
  },
  {
   "cell_type": "code",
   "execution_count": 121,
   "id": "adbb8828",
   "metadata": {},
   "outputs": [
    {
     "name": "stdout",
     "output_type": "stream",
     "text": [
      "worst\n",
      "bad\n"
     ]
    }
   ],
   "source": [
    "# you can lamentized a word and make it clear what you mean otherwsise you might get siomnething different\n",
    "print(lemmatizer.lemmatize(\"worst\"))\n",
    "print(lemmatizer.lemmatize(\"worst\", pos=\"a\")) # here specifying thatb worst is an adjective\n",
    "# The default parameter for pos is 'n' for noun, but you made sure that \"worst\" was treated as an adjective\n",
    "# by adding the parameter pos=\"a\""
   ]
  },
  {
   "cell_type": "markdown",
   "id": "92c2a59a",
   "metadata": {},
   "source": [
    "# Chunking\n",
    "While tokenizing allows you to identify words and sentences, chunking allows you to identify phrases\n",
    "Note: A phrase is a word or group of words that works as a single unit to perform a grammatical function. Noun phrases are built around a noun.\n",
    "\n",
    "Here are some examples:\n",
    "\n",
    "“A planet”\n",
    "“A tilting planet”\n",
    "“A swiftly tilting planet\n"
   ]
  },
  {
   "cell_type": "markdown",
   "id": "7312afa6",
   "metadata": {},
   "source": [
    "Before you can chunk, you need to make sure that the parts of \n",
    "speech in your text are tagged, so create a string for POS tagging. \n",
    "You can use this quote from The Lord of the Rings"
   ]
  },
  {
   "cell_type": "code",
   "execution_count": 122,
   "id": "25787b1e",
   "metadata": {},
   "outputs": [
    {
     "data": {
      "text/plain": [
       "['It',\n",
       " \"'s\",\n",
       " 'a',\n",
       " 'dangerous',\n",
       " 'business',\n",
       " ',',\n",
       " 'Frodo',\n",
       " ',',\n",
       " 'going',\n",
       " 'out',\n",
       " 'your',\n",
       " 'door',\n",
       " '.']"
      ]
     },
     "execution_count": 122,
     "metadata": {},
     "output_type": "execute_result"
    }
   ],
   "source": [
    "from nltk.tokenize import word_tokenize\n",
    "lotr_quote = \"It's a dangerous business, Frodo, going out your door.\"\n",
    "\n",
    "#Now tokenize that string by word:\n",
    "words_in_lotr_quote = word_tokenize(lotr_quote)\n",
    "words_in_lotr_quote"
   ]
  },
  {
   "cell_type": "code",
   "execution_count": 123,
   "id": "19e376c7",
   "metadata": {},
   "outputs": [
    {
     "name": "stderr",
     "output_type": "stream",
     "text": [
      "[nltk_data] Downloading package averaged_perceptron_tagger to\n",
      "[nltk_data]     /Users/uczhn/nltk_data...\n",
      "[nltk_data]   Package averaged_perceptron_tagger is already up-to-\n",
      "[nltk_data]       date!\n"
     ]
    },
    {
     "data": {
      "text/plain": [
       "[('It', 'PRP'),\n",
       " (\"'s\", 'VBZ'),\n",
       " ('a', 'DT'),\n",
       " ('dangerous', 'JJ'),\n",
       " ('business', 'NN'),\n",
       " (',', ','),\n",
       " ('Frodo', 'NNP'),\n",
       " (',', ','),\n",
       " ('going', 'VBG'),\n",
       " ('out', 'RP'),\n",
       " ('your', 'PRP$'),\n",
       " ('door', 'NN'),\n",
       " ('.', '.')]"
      ]
     },
     "execution_count": 123,
     "metadata": {},
     "output_type": "execute_result"
    }
   ],
   "source": [
    "#  next step is to tag those words by part of speech:\n",
    "nltk.download(\"averaged_perceptron_tagger\")\n",
    "lotr_pos_tags = nltk.pos_tag(words_in_lotr_quote)\n",
    "lotr_pos_tags"
   ]
  },
  {
   "cell_type": "code",
   "execution_count": null,
   "id": "3ba616e3",
   "metadata": {},
   "outputs": [],
   "source": [
    "#You’ve got a list of tuples of all the words in \n",
    "#the quote, along with their POS tag. In order to chunk, you first need to define a chunk grammar\n",
    "\n",
    "# A chunk grammar is a combination of rules on how sentences should be chunked. It often uses regular expressions, \n",
    "\n",
    "# or regexes.\n",
    "\n",
    "# Create a chunk grammar with one regular expression rule:"
   ]
  },
  {
   "cell_type": "code",
   "execution_count": null,
   "id": "4c533d95",
   "metadata": {},
   "outputs": [],
   "source": [
    "grammar = \"NP: {<DT>?<JJ>*<NN>}\"\n",
    "\n",
    "# According to the rule you created, your chunks:\n",
    "\n",
    "#Start with an optional (?) determiner ('DT')\n",
    "#Can have any number (*) of adjectives (JJ)\n",
    "#End with a noun (<NN>\n",
    "\n",
    "chunk_parser = nltk.RegexpParser(grammar) # Create a chunk parser with this grammar:\n",
    "\n",
    "tree = chunk_parser.parse(lotr_pos_tags)\n",
    "\n",
    "tree.draw()# ouput not shown, not sure why"
   ]
  },
  {
   "cell_type": "markdown",
   "id": "06b65160",
   "metadata": {},
   "source": [
    "# Chinking\n",
    "Chinking is used together with chunking, but while chunking is used to include a pattern, chinking is used to exclude a pattern."
   ]
  },
  {
   "cell_type": "markdown",
   "id": "90fa659b",
   "metadata": {},
   "source": [
    "# Using Named Entity Recognition (NER)\n",
    "Named entities are noun phrases that refer to specific locations, people, organizations, and so on. With named entity recognition, you can find the named entities in your texts and also determine what kind of named entity they are"
   ]
  },
  {
   "cell_type": "markdown",
   "id": "a800838f",
   "metadata": {},
   "source": [
    "# Getting Text to Analyze\n",
    " A group of texts is called a corpus. NLTK provides several corpora covering everything from novels hosted by Project Gutenberg to inaugural speeches by presidents of the United States.\n",
    "\n",
    "In order to analyze texts in NLTK, you first need to import them.\n",
    "This requires nltk.download(\"book\"), which is a pretty big download:"
   ]
  },
  {
   "cell_type": "markdown",
   "id": "6b2372ab",
   "metadata": {},
   "source": [
    "# Data  Camp Tutorial"
   ]
  },
  {
   "cell_type": "code",
   "execution_count": null,
   "id": "604e995b",
   "metadata": {},
   "outputs": [],
   "source": [
    "from nltk.tokenize import word_tokenize\n",
    "\n",
    "example_string = \"\"\"\n",
    "... Muad'Dib learned rapidly because his first training was in how to learn.\n",
    "... And the first lesson of all was the basic trust that he could learn.\n",
    "... It's shocking to find how many people do not believe they can learn,\n",
    "... and how many more believe learning to be difficult.\"\"\"\n"
   ]
  },
  {
   "cell_type": "code",
   "execution_count": null,
   "id": "703594ff",
   "metadata": {},
   "outputs": [],
   "source": [
    "# Split quote into sentences: sentences\n",
    "#quote  = sent_tokenize(example_string)\n",
    "sent_tokenize(example_string)\n"
   ]
  },
  {
   "cell_type": "code",
   "execution_count": null,
   "id": "5f06acfd",
   "metadata": {},
   "outputs": [],
   "source": []
  },
  {
   "cell_type": "code",
   "execution_count": null,
   "id": "a8a7296d",
   "metadata": {},
   "outputs": [],
   "source": []
  }
 ],
 "metadata": {
  "kernelspec": {
   "display_name": "Python 3 (ipykernel)",
   "language": "python",
   "name": "python3"
  },
  "language_info": {
   "codemirror_mode": {
    "name": "ipython",
    "version": 3
   },
   "file_extension": ".py",
   "mimetype": "text/x-python",
   "name": "python",
   "nbconvert_exporter": "python",
   "pygments_lexer": "ipython3",
   "version": "3.8.8"
  }
 },
 "nbformat": 4,
 "nbformat_minor": 5
}
