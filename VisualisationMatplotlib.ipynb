{
 "cells": [
  {
   "cell_type": "code",
   "execution_count": null,
   "metadata": {},
   "outputs": [],
   "source": [
    "\n",
    "# http://index-of.co.uk/Tutorials/Matplotlib%20for%20Python%20Developers.pdf\n",
    "\n",
    "\n",
    "# NumPy has to be available to use Matplotlib.\n",
    "# on cmd shell run this code: easy_install matplotlib\n",
    "# check if installed: issue the following list of commands\n",
    "# python\n",
    "#import numpy\n",
    "#print(numpy.__version__)\n",
    "#import matplotlib\n",
    "#print(matplotlib.__version__) if no errors, means it has properly installed\n",
    "\n",
    "#from IPython.core.interactiveshell import InteractiveShell\n",
    "#InteractiveShell.ast_node_interactivity = \"all\""
   ]
  },
  {
   "cell_type": "code",
   "execution_count": 28,
   "metadata": {
    "collapsed": true
   },
   "outputs": [
    {
     "name": "stdout",
     "output_type": "stream",
     "text": [
      "Requirement already satisfied: matplotlib in /Users/uczhn/opt/anaconda3/lib/python3.8/site-packages (3.3.4)\n",
      "Requirement already satisfied: pillow>=6.2.0 in /Users/uczhn/opt/anaconda3/lib/python3.8/site-packages (from matplotlib) (8.2.0)\n",
      "Requirement already satisfied: python-dateutil>=2.1 in /Users/uczhn/opt/anaconda3/lib/python3.8/site-packages (from matplotlib) (2.8.1)\n",
      "Requirement already satisfied: cycler>=0.10 in /Users/uczhn/opt/anaconda3/lib/python3.8/site-packages (from matplotlib) (0.10.0)\n",
      "Requirement already satisfied: kiwisolver>=1.0.1 in /Users/uczhn/opt/anaconda3/lib/python3.8/site-packages (from matplotlib) (1.3.1)\n",
      "Requirement already satisfied: pyparsing!=2.0.4,!=2.1.2,!=2.1.6,>=2.0.3 in /Users/uczhn/opt/anaconda3/lib/python3.8/site-packages (from matplotlib) (2.4.7)\n",
      "Requirement already satisfied: numpy>=1.15 in /Users/uczhn/opt/anaconda3/lib/python3.8/site-packages (from matplotlib) (1.20.1)\n",
      "Requirement already satisfied: six in /Users/uczhn/opt/anaconda3/lib/python3.8/site-packages (from cycler>=0.10->matplotlib) (1.15.0)\n"
     ]
    }
   ],
   "source": [
    "!pip install matplotlib"
   ]
  },
  {
   "cell_type": "code",
   "execution_count": 29,
   "metadata": {},
   "outputs": [
    {
     "data": {
      "image/png": "[encoded data removed]",
      "text/plain": [
       "<Figure size 432x288 with 1 Axes>"
      ]
     },
     "metadata": {
      "needs_background": "light"
     },
     "output_type": "display_data"
    }
   ],
   "source": [
    "# Import the matplotlib.pyplot submodule and name it plt\n",
    "# The pyplot module is a submodule of the matplotlib\n",
    "\n",
    "\n",
    "import matplotlib.pyplot as plt\n",
    "\n",
    "# Create a Figure and an Axes with plt.subplots\n",
    "fig, ax = plt.subplots()\n",
    "\n",
    "# Call the show function to show the result\n",
    "plt.show()"
   ]
  },
  {
   "cell_type": "markdown",
   "metadata": {},
   "source": [
    "# Adding data"
   ]
  },
  {
   "cell_type": "code",
   "execution_count": 30,
   "metadata": {},
   "outputs": [
    {
     "data": {
      "text/html": [
       "<div>\n",
       "<style scoped>\n",
       "    .dataframe tbody tr th:only-of-type {\n",
       "        vertical-align: middle;\n",
       "    }\n",
       "\n",
       "    .dataframe tbody tr th {\n",
       "        vertical-align: top;\n",
       "    }\n",
       "\n",
       "    .dataframe thead th {\n",
       "        text-align: right;\n",
       "    }\n",
       "</style>\n",
       "<table border=\"1\" class=\"dataframe\">\n",
       "  <thead>\n",
       "    <tr style=\"text-align: right;\">\n",
       "      <th></th>\n",
       "      <th>name</th>\n",
       "      <th>births</th>\n",
       "      <th>Births1</th>\n",
       "    </tr>\n",
       "  </thead>\n",
       "  <tbody>\n",
       "    <tr>\n",
       "      <th>0</th>\n",
       "      <td>bob</td>\n",
       "      <td>966</td>\n",
       "      <td>809</td>\n",
       "    </tr>\n",
       "    <tr>\n",
       "      <th>1</th>\n",
       "      <td>jessica</td>\n",
       "      <td>155</td>\n",
       "      <td>133</td>\n",
       "    </tr>\n",
       "    <tr>\n",
       "      <th>2</th>\n",
       "      <td>mary</td>\n",
       "      <td>77</td>\n",
       "      <td>66</td>\n",
       "    </tr>\n",
       "    <tr>\n",
       "      <th>3</th>\n",
       "      <td>john</td>\n",
       "      <td>578</td>\n",
       "      <td>489</td>\n",
       "    </tr>\n",
       "    <tr>\n",
       "      <th>4</th>\n",
       "      <td>mel</td>\n",
       "      <td>973</td>\n",
       "      <td>787</td>\n",
       "    </tr>\n",
       "  </tbody>\n",
       "</table>\n",
       "</div>"
      ],
      "text/plain": [
       "      name  births  Births1\n",
       "0      bob     966      809\n",
       "1  jessica     155      133\n",
       "2     mary      77       66\n",
       "3     john     578      489\n",
       "4      mel     973      787"
      ]
     },
     "execution_count": 30,
     "metadata": {},
     "output_type": "execute_result"
    }
   ],
   "source": [
    "import pandas as pd\n",
    "data = pd.read_csv('/Users/uczhn/Documents/AZURE_DATA_SCIENCE_PYTHON/Data/birthsdf.csv', index_col = 0)\n",
    "data"
   ]
  },
  {
   "cell_type": "code",
   "execution_count": 31,
   "metadata": {},
   "outputs": [
    {
     "data": {
      "image/png": "[encoded data removed]",
      "text/plain": [
       "<Figure size 432x288 with 1 Axes>"
      ]
     },
     "metadata": {
      "needs_background": "light"
     },
     "output_type": "display_data"
    }
   ],
   "source": [
    "# Import the matplotlib.pyplot submodule and name it plt\n",
    "import matplotlib.pyplot as plt\n",
    "\n",
    "# Create a Figure and an Axes with plt.subplots\n",
    "fig, ax = plt.subplots()\n",
    "\n",
    "# Plot name vs births\n",
    "ax.plot(data[\"name\"], data[\"births\"])\n",
    "\n",
    "# Plot name vs births1\n",
    "ax.plot(data[\"name\"], data[\"Births1\"])\n",
    "\n",
    "# Call the show function\n",
    "plt.show()"
   ]
  },
  {
   "cell_type": "code",
   "execution_count": null,
   "metadata": {},
   "outputs": [],
   "source": [
    "# CUSTOMIZING YOUR PLOT"
   ]
  },
  {
   "cell_type": "code",
   "execution_count": 32,
   "metadata": {},
   "outputs": [
    {
     "data": {
      "text/plain": [
       "Text(0.5, 1.0, 'pattern of births for each baby')"
      ]
     },
     "execution_count": 32,
     "metadata": {},
     "output_type": "execute_result"
    },
    {
     "data": {
      "image/png": "[encoded data removed]",
      "text/plain": [
       "<Figure size 432x288 with 1 Axes>"
      ]
     },
     "metadata": {
      "needs_background": "light"
     },
     "output_type": "display_data"
    }
   ],
   "source": [
    "# Create a Figure and an Axes with plt.subplots\n",
    "# checkf for more different color, marker and linestyle options\n",
    "fig, ax = plt.subplots()\n",
    "ax.plot(data[\"name\"], data[\"births\"], color='r', marker='o', linestyle='-')\n",
    "ax.plot(data[\"name\"], data[\"Births1\"], color='b', marker='v', linestyle='--')\n",
    "# Customize the x-axis label\n",
    "ax.set_xlabel(\"Names\")\n",
    "# Customize the y-axis label\n",
    "ax.set_ylabel(\"Number of births\")\n",
    "# Add the title\n",
    "ax.set_title(\"pattern of births for each baby\")"
   ]
  },
  {
   "cell_type": "markdown",
   "metadata": {},
   "source": [
    " # SMALL MULTIPLES= SUBPLOTS"
   ]
  },
  {
   "cell_type": "code",
   "execution_count": 33,
   "metadata": {},
   "outputs": [
    {
     "data": {
      "text/plain": [
       "Text(0.5, 1.0, 'pattern of births for each baby')"
      ]
     },
     "execution_count": 33,
     "metadata": {},
     "output_type": "execute_result"
    },
    {
     "data": {
      "image/png": "[encoded data removed]",
      "text/plain": [
       "<Figure size 432x288 with 2 Axes>"
      ]
     },
     "metadata": {
      "needs_background": "light"
     },
     "output_type": "display_data"
    }
   ],
   "source": [
    "# Create a Figure and an array of subplots with 2 rows and 1 columns because we have just two plots to show\n",
    "fig, ax = plt.subplots(2,1, sharey = True) # sharey=TRUE ensures axis share common values and can be comparable\n",
    "ax[0].plot(data[\"name\"], data[\"births\"], color='r', marker='o', linestyle='-')\n",
    "ax[1].plot(data[\"name\"], data[\"Births1\"], color='b', marker='v', linestyle='--')\n",
    "# Customize the x-axis label\n",
    "ax[0].set_xlabel(\"Names\")\n",
    "ax[1].set_xlabel(\"Names\")\n",
    "# Customize the y-axis label\n",
    "ax[0].set_ylabel(\"Number of births\")\n",
    "ax[1].set_ylabel(\"Number of births\")\n",
    "# Add the title\n",
    "ax[0].set_title(\"pattern of births for each baby\")\n",
    "ax[1].set_title(\"pattern of births for each baby\")\n",
    "# if we had like 4 plots, axis indexing will change like so ax[0,0] etc"
   ]
  },
  {
   "cell_type": "markdown",
   "metadata": {},
   "source": [
    "# BAR PLOTS"
   ]
  },
  {
   "cell_type": "code",
   "execution_count": 52,
   "metadata": {},
   "outputs": [
    {
     "data": {
      "text/html": [
       "<div>\n",
       "<style scoped>\n",
       "    .dataframe tbody tr th:only-of-type {\n",
       "        vertical-align: middle;\n",
       "    }\n",
       "\n",
       "    .dataframe tbody tr th {\n",
       "        vertical-align: top;\n",
       "    }\n",
       "\n",
       "    .dataframe thead th {\n",
       "        text-align: right;\n",
       "    }\n",
       "</style>\n",
       "<table border=\"1\" class=\"dataframe\">\n",
       "  <thead>\n",
       "    <tr style=\"text-align: right;\">\n",
       "      <th></th>\n",
       "      <th>hours_stdied</th>\n",
       "      <th>test_grade</th>\n",
       "      <th>country</th>\n",
       "      <th>test_gold</th>\n",
       "      <th>test_silver</th>\n",
       "      <th>test_bronze</th>\n",
       "      <th>test_height</th>\n",
       "      <th>gender</th>\n",
       "    </tr>\n",
       "  </thead>\n",
       "  <tbody>\n",
       "    <tr>\n",
       "      <th>0</th>\n",
       "      <td>2</td>\n",
       "      <td>57</td>\n",
       "      <td>A</td>\n",
       "      <td>34</td>\n",
       "      <td>57</td>\n",
       "      <td>66</td>\n",
       "      <td>57</td>\n",
       "      <td>M</td>\n",
       "    </tr>\n",
       "    <tr>\n",
       "      <th>1</th>\n",
       "      <td>3</td>\n",
       "      <td>66</td>\n",
       "      <td>B</td>\n",
       "      <td>23</td>\n",
       "      <td>34</td>\n",
       "      <td>44</td>\n",
       "      <td>34</td>\n",
       "      <td>F</td>\n",
       "    </tr>\n",
       "    <tr>\n",
       "      <th>2</th>\n",
       "      <td>4</td>\n",
       "      <td>73</td>\n",
       "      <td>C</td>\n",
       "      <td>43</td>\n",
       "      <td>23</td>\n",
       "      <td>34</td>\n",
       "      <td>23</td>\n",
       "      <td>M</td>\n",
       "    </tr>\n",
       "    <tr>\n",
       "      <th>3</th>\n",
       "      <td>5</td>\n",
       "      <td>76</td>\n",
       "      <td>D</td>\n",
       "      <td>12</td>\n",
       "      <td>24</td>\n",
       "      <td>45</td>\n",
       "      <td>24</td>\n",
       "      <td>M</td>\n",
       "    </tr>\n",
       "    <tr>\n",
       "      <th>4</th>\n",
       "      <td>6</td>\n",
       "      <td>79</td>\n",
       "      <td>E</td>\n",
       "      <td>26</td>\n",
       "      <td>56</td>\n",
       "      <td>34</td>\n",
       "      <td>56</td>\n",
       "      <td>M</td>\n",
       "    </tr>\n",
       "    <tr>\n",
       "      <th>5</th>\n",
       "      <td>7</td>\n",
       "      <td>81</td>\n",
       "      <td>F</td>\n",
       "      <td>14</td>\n",
       "      <td>44</td>\n",
       "      <td>17</td>\n",
       "      <td>44</td>\n",
       "      <td>M</td>\n",
       "    </tr>\n",
       "    <tr>\n",
       "      <th>6</th>\n",
       "      <td>8</td>\n",
       "      <td>90</td>\n",
       "      <td>G</td>\n",
       "      <td>7</td>\n",
       "      <td>23</td>\n",
       "      <td>23</td>\n",
       "      <td>23</td>\n",
       "      <td>F</td>\n",
       "    </tr>\n",
       "    <tr>\n",
       "      <th>7</th>\n",
       "      <td>9</td>\n",
       "      <td>96</td>\n",
       "      <td>H</td>\n",
       "      <td>9</td>\n",
       "      <td>12</td>\n",
       "      <td>34</td>\n",
       "      <td>12</td>\n",
       "      <td>F</td>\n",
       "    </tr>\n",
       "    <tr>\n",
       "      <th>8</th>\n",
       "      <td>10</td>\n",
       "      <td>100</td>\n",
       "      <td>I</td>\n",
       "      <td>4</td>\n",
       "      <td>67</td>\n",
       "      <td>53</td>\n",
       "      <td>67</td>\n",
       "      <td>F</td>\n",
       "    </tr>\n",
       "  </tbody>\n",
       "</table>\n",
       "</div>"
      ],
      "text/plain": [
       "   hours_stdied  test_grade country  test_gold  test_silver  test_bronze  \\\n",
       "0             2          57       A         34           57           66   \n",
       "1             3          66       B         23           34           44   \n",
       "2             4          73       C         43           23           34   \n",
       "3             5          76       D         12           24           45   \n",
       "4             6          79       E         26           56           34   \n",
       "5             7          81       F         14           44           17   \n",
       "6             8          90       G          7           23           23   \n",
       "7             9          96       H          9           12           34   \n",
       "8            10         100       I          4           67           53   \n",
       "\n",
       "   test_height gender  \n",
       "0           57      M  \n",
       "1           34      F  \n",
       "2           23      M  \n",
       "3           24      M  \n",
       "4           56      M  \n",
       "5           44      M  \n",
       "6           23      F  \n",
       "7           12      F  \n",
       "8           67      F  "
      ]
     },
     "execution_count": 52,
     "metadata": {},
     "output_type": "execute_result"
    }
   ],
   "source": [
    "import pandas as pd\n",
    "data = pd.read_csv('/Users/uczhn/Documents/AZURE_DATA_SCIENCE_PYTHON/Data/medals1.csv')\n",
    "data"
   ]
  },
  {
   "cell_type": "code",
   "execution_count": 45,
   "metadata": {},
   "outputs": [
    {
     "name": "stderr",
     "output_type": "stream",
     "text": [
      "<ipython-input-45-9c41a2be17dd>:9: UserWarning: FixedFormatter should only be used together with FixedLocator\n",
      "  ax.set_xticklabels(data.country, rotation=90)\n"
     ]
    },
    {
     "data": {
      "image/png": "[encoded data removed]",
      "text/plain": [
       "<Figure size 432x288 with 1 Axes>"
      ]
     },
     "metadata": {
      "needs_background": "light"
     },
     "output_type": "display_data"
    }
   ],
   "source": [
    "# Import the matplotlib.pyplot submodule and name it plt\n",
    "import matplotlib.pyplot as plt\n",
    "fig, ax = plt.subplots()\n",
    "\n",
    "# Plot a bar-chart of sex medals as a function of team\n",
    "ax.bar(data.country, data[\"test_grade\"])\n",
    "\n",
    "# Set the x-axis tick labels to the country names\n",
    "ax.set_xticklabels(data.country, rotation=90)\n",
    "\n",
    "# Set the y-axis label\n",
    "ax.set_ylabel(\"TEST GRADE\")\n",
    "\n",
    "plt.show()"
   ]
  },
  {
   "cell_type": "markdown",
   "metadata": {},
   "source": [
    "# stacked bar chart"
   ]
  },
  {
   "cell_type": "code",
   "execution_count": null,
   "metadata": {},
   "outputs": [],
   "source": []
  },
  {
   "cell_type": "code",
   "execution_count": 51,
   "metadata": {},
   "outputs": [
    {
     "data": {
      "image/png": "[encoded data removed]",
      "text/plain": [
       "<Figure size 432x288 with 1 Axes>"
      ]
     },
     "metadata": {
      "needs_background": "light"
     },
     "output_type": "display_data"
    }
   ],
   "source": [
    "import matplotlib.pyplot as plt\n",
    "fig, ax = plt.subplots()\n",
    "# Add bars for \"Gold\" with the label \"Gold\"\n",
    "ax.bar(data.country, data[\"test_gold\"], label=\"Gold\")\n",
    "\n",
    "# Stack bars for \"Silver\" on top with label \"Silver\"\n",
    "ax.bar(data.country, data[\"test_silver\"], bottom=data[\"test_gold\"], label=\"Silver\")\n",
    "\n",
    "# Stack bars for \"Bronze\" on top of that with label \"Bronze\"\n",
    "ax.bar(data.country, data[\"test_bronze\"], bottom=data[\"test_gold\"] + data[\"test_silver\"], label=\"Bronze\")\n",
    "\n",
    "# Display the legend\n",
    "ax.legend()\n",
    "\n",
    "plt.show()"
   ]
  },
  {
   "cell_type": "markdown",
   "metadata": {},
   "source": [
    "# HISTOGRAMS"
   ]
  },
  {
   "cell_type": "code",
   "execution_count": 58,
   "metadata": {},
   "outputs": [
    {
     "data": {
      "text/html": [
       "<div>\n",
       "<style scoped>\n",
       "    .dataframe tbody tr th:only-of-type {\n",
       "        vertical-align: middle;\n",
       "    }\n",
       "\n",
       "    .dataframe tbody tr th {\n",
       "        vertical-align: top;\n",
       "    }\n",
       "\n",
       "    .dataframe thead th {\n",
       "        text-align: right;\n",
       "    }\n",
       "</style>\n",
       "<table border=\"1\" class=\"dataframe\">\n",
       "  <thead>\n",
       "    <tr style=\"text-align: right;\">\n",
       "      <th></th>\n",
       "      <th>patientid</th>\n",
       "      <th>diseaase_prog_new</th>\n",
       "      <th>disease_mortality_new</th>\n",
       "      <th>d_ipf</th>\n",
       "      <th>disease_PROG</th>\n",
       "      <th>disease_MORTcens</th>\n",
       "      <th>DOD</th>\n",
       "      <th>censordate</th>\n",
       "      <th>d_v1date</th>\n",
       "      <th>bmi</th>\n",
       "      <th>...</th>\n",
       "      <th>base_ace</th>\n",
       "      <th>base_rf</th>\n",
       "      <th>base_alb</th>\n",
       "      <th>base_na</th>\n",
       "      <th>base_visit_ca125</th>\n",
       "      <th>base_visit_ca199</th>\n",
       "      <th>base_visit_cea</th>\n",
       "      <th>base_visit_mmp7mean</th>\n",
       "      <th>delta_fvc</th>\n",
       "      <th>fibro_6m</th>\n",
       "    </tr>\n",
       "  </thead>\n",
       "  <tbody>\n",
       "    <tr>\n",
       "      <th>0</th>\n",
       "      <td>PRO043</td>\n",
       "      <td>0.0</td>\n",
       "      <td>0.0</td>\n",
       "      <td>1.0</td>\n",
       "      <td>0.0</td>\n",
       "      <td>0.0</td>\n",
       "      <td>NaN</td>\n",
       "      <td>31-Mar-16</td>\n",
       "      <td>23-Nov-11</td>\n",
       "      <td>17.06766</td>\n",
       "      <td>...</td>\n",
       "      <td>NaN</td>\n",
       "      <td>NaN</td>\n",
       "      <td>NaN</td>\n",
       "      <td>NaN</td>\n",
       "      <td>NaN</td>\n",
       "      <td>NaN</td>\n",
       "      <td>NaN</td>\n",
       "      <td>NaN</td>\n",
       "      <td>0.025955</td>\n",
       "      <td>0.5390</td>\n",
       "    </tr>\n",
       "    <tr>\n",
       "      <th>1</th>\n",
       "      <td>PRO044</td>\n",
       "      <td>1.0</td>\n",
       "      <td>0.0</td>\n",
       "      <td>0.0</td>\n",
       "      <td>1.0</td>\n",
       "      <td>0.0</td>\n",
       "      <td>NaN</td>\n",
       "      <td>31-Mar-16</td>\n",
       "      <td>24-Nov-11</td>\n",
       "      <td>33.36718</td>\n",
       "      <td>...</td>\n",
       "      <td>NaN</td>\n",
       "      <td>NaN</td>\n",
       "      <td>NaN</td>\n",
       "      <td>NaN</td>\n",
       "      <td>NaN</td>\n",
       "      <td>NaN</td>\n",
       "      <td>NaN</td>\n",
       "      <td>NaN</td>\n",
       "      <td>NaN</td>\n",
       "      <td>10.2000</td>\n",
       "    </tr>\n",
       "    <tr>\n",
       "      <th>2</th>\n",
       "      <td>PRO045</td>\n",
       "      <td>1.0</td>\n",
       "      <td>0.0</td>\n",
       "      <td>1.0</td>\n",
       "      <td>1.0</td>\n",
       "      <td>0.0</td>\n",
       "      <td>NaN</td>\n",
       "      <td>31-Mar-16</td>\n",
       "      <td>15-Dec-11</td>\n",
       "      <td>25.69731</td>\n",
       "      <td>...</td>\n",
       "      <td>NaN</td>\n",
       "      <td>NaN</td>\n",
       "      <td>NaN</td>\n",
       "      <td>NaN</td>\n",
       "      <td>NaN</td>\n",
       "      <td>NaN</td>\n",
       "      <td>NaN</td>\n",
       "      <td>NaN</td>\n",
       "      <td>-0.028283</td>\n",
       "      <td>0.5585</td>\n",
       "    </tr>\n",
       "    <tr>\n",
       "      <th>3</th>\n",
       "      <td>PRO047</td>\n",
       "      <td>0.0</td>\n",
       "      <td>0.0</td>\n",
       "      <td>1.0</td>\n",
       "      <td>0.0</td>\n",
       "      <td>0.0</td>\n",
       "      <td>NaN</td>\n",
       "      <td>31-Mar-16</td>\n",
       "      <td>03-Feb-12</td>\n",
       "      <td>24.79339</td>\n",
       "      <td>...</td>\n",
       "      <td>NaN</td>\n",
       "      <td>NaN</td>\n",
       "      <td>NaN</td>\n",
       "      <td>NaN</td>\n",
       "      <td>NaN</td>\n",
       "      <td>NaN</td>\n",
       "      <td>NaN</td>\n",
       "      <td>NaN</td>\n",
       "      <td>-0.031383</td>\n",
       "      <td>10.6100</td>\n",
       "    </tr>\n",
       "    <tr>\n",
       "      <th>4</th>\n",
       "      <td>PRO048</td>\n",
       "      <td>0.0</td>\n",
       "      <td>0.0</td>\n",
       "      <td>1.0</td>\n",
       "      <td>1.0</td>\n",
       "      <td>0.0</td>\n",
       "      <td>NaN</td>\n",
       "      <td>31-Mar-16</td>\n",
       "      <td>08-Feb-12</td>\n",
       "      <td>30.49149</td>\n",
       "      <td>...</td>\n",
       "      <td>NaN</td>\n",
       "      <td>NaN</td>\n",
       "      <td>NaN</td>\n",
       "      <td>NaN</td>\n",
       "      <td>NaN</td>\n",
       "      <td>NaN</td>\n",
       "      <td>NaN</td>\n",
       "      <td>NaN</td>\n",
       "      <td>-0.036052</td>\n",
       "      <td>5.8250</td>\n",
       "    </tr>\n",
       "    <tr>\n",
       "      <th>...</th>\n",
       "      <td>...</td>\n",
       "      <td>...</td>\n",
       "      <td>...</td>\n",
       "      <td>...</td>\n",
       "      <td>...</td>\n",
       "      <td>...</td>\n",
       "      <td>...</td>\n",
       "      <td>...</td>\n",
       "      <td>...</td>\n",
       "      <td>...</td>\n",
       "      <td>...</td>\n",
       "      <td>...</td>\n",
       "      <td>...</td>\n",
       "      <td>...</td>\n",
       "      <td>...</td>\n",
       "      <td>...</td>\n",
       "      <td>...</td>\n",
       "      <td>...</td>\n",
       "      <td>...</td>\n",
       "      <td>...</td>\n",
       "      <td>...</td>\n",
       "    </tr>\n",
       "    <tr>\n",
       "      <th>125</th>\n",
       "      <td>PROC02M-041</td>\n",
       "      <td>NaN</td>\n",
       "      <td>NaN</td>\n",
       "      <td>NaN</td>\n",
       "      <td>NaN</td>\n",
       "      <td>NaN</td>\n",
       "      <td>NaN</td>\n",
       "      <td>NaN</td>\n",
       "      <td>NaN</td>\n",
       "      <td>NaN</td>\n",
       "      <td>...</td>\n",
       "      <td>NaN</td>\n",
       "      <td>NaN</td>\n",
       "      <td>NaN</td>\n",
       "      <td>NaN</td>\n",
       "      <td>NaN</td>\n",
       "      <td>NaN</td>\n",
       "      <td>NaN</td>\n",
       "      <td>NaN</td>\n",
       "      <td>NaN</td>\n",
       "      <td>NaN</td>\n",
       "    </tr>\n",
       "    <tr>\n",
       "      <th>126</th>\n",
       "      <td>PROC02M-042</td>\n",
       "      <td>NaN</td>\n",
       "      <td>NaN</td>\n",
       "      <td>NaN</td>\n",
       "      <td>NaN</td>\n",
       "      <td>NaN</td>\n",
       "      <td>NaN</td>\n",
       "      <td>NaN</td>\n",
       "      <td>NaN</td>\n",
       "      <td>NaN</td>\n",
       "      <td>...</td>\n",
       "      <td>NaN</td>\n",
       "      <td>NaN</td>\n",
       "      <td>NaN</td>\n",
       "      <td>NaN</td>\n",
       "      <td>NaN</td>\n",
       "      <td>NaN</td>\n",
       "      <td>NaN</td>\n",
       "      <td>NaN</td>\n",
       "      <td>NaN</td>\n",
       "      <td>NaN</td>\n",
       "    </tr>\n",
       "    <tr>\n",
       "      <th>127</th>\n",
       "      <td>PROC02M-043</td>\n",
       "      <td>NaN</td>\n",
       "      <td>NaN</td>\n",
       "      <td>NaN</td>\n",
       "      <td>NaN</td>\n",
       "      <td>NaN</td>\n",
       "      <td>NaN</td>\n",
       "      <td>NaN</td>\n",
       "      <td>NaN</td>\n",
       "      <td>NaN</td>\n",
       "      <td>...</td>\n",
       "      <td>NaN</td>\n",
       "      <td>NaN</td>\n",
       "      <td>NaN</td>\n",
       "      <td>NaN</td>\n",
       "      <td>NaN</td>\n",
       "      <td>NaN</td>\n",
       "      <td>NaN</td>\n",
       "      <td>NaN</td>\n",
       "      <td>NaN</td>\n",
       "      <td>NaN</td>\n",
       "    </tr>\n",
       "    <tr>\n",
       "      <th>128</th>\n",
       "      <td>PROCO2F-076</td>\n",
       "      <td>NaN</td>\n",
       "      <td>NaN</td>\n",
       "      <td>NaN</td>\n",
       "      <td>NaN</td>\n",
       "      <td>NaN</td>\n",
       "      <td>NaN</td>\n",
       "      <td>NaN</td>\n",
       "      <td>NaN</td>\n",
       "      <td>NaN</td>\n",
       "      <td>...</td>\n",
       "      <td>NaN</td>\n",
       "      <td>NaN</td>\n",
       "      <td>NaN</td>\n",
       "      <td>NaN</td>\n",
       "      <td>NaN</td>\n",
       "      <td>NaN</td>\n",
       "      <td>NaN</td>\n",
       "      <td>NaN</td>\n",
       "      <td>NaN</td>\n",
       "      <td>NaN</td>\n",
       "    </tr>\n",
       "    <tr>\n",
       "      <th>129</th>\n",
       "      <td>PROCO2F-077</td>\n",
       "      <td>NaN</td>\n",
       "      <td>NaN</td>\n",
       "      <td>NaN</td>\n",
       "      <td>NaN</td>\n",
       "      <td>NaN</td>\n",
       "      <td>NaN</td>\n",
       "      <td>NaN</td>\n",
       "      <td>NaN</td>\n",
       "      <td>NaN</td>\n",
       "      <td>...</td>\n",
       "      <td>NaN</td>\n",
       "      <td>NaN</td>\n",
       "      <td>NaN</td>\n",
       "      <td>NaN</td>\n",
       "      <td>NaN</td>\n",
       "      <td>NaN</td>\n",
       "      <td>NaN</td>\n",
       "      <td>NaN</td>\n",
       "      <td>NaN</td>\n",
       "      <td>NaN</td>\n",
       "    </tr>\n",
       "  </tbody>\n",
       "</table>\n",
       "<p>130 rows × 44 columns</p>\n",
       "</div>"
      ],
      "text/plain": [
       "       patientid  diseaase_prog_new  disease_mortality_new  d_ipf  \\\n",
       "0         PRO043                0.0                    0.0    1.0   \n",
       "1         PRO044                1.0                    0.0    0.0   \n",
       "2         PRO045                1.0                    0.0    1.0   \n",
       "3         PRO047                0.0                    0.0    1.0   \n",
       "4         PRO048                0.0                    0.0    1.0   \n",
       "..           ...                ...                    ...    ...   \n",
       "125  PROC02M-041                NaN                    NaN    NaN   \n",
       "126  PROC02M-042                NaN                    NaN    NaN   \n",
       "127  PROC02M-043                NaN                    NaN    NaN   \n",
       "128  PROCO2F-076                NaN                    NaN    NaN   \n",
       "129  PROCO2F-077                NaN                    NaN    NaN   \n",
       "\n",
       "     disease_PROG  disease_MORTcens  DOD censordate   d_v1date       bmi  ...  \\\n",
       "0             0.0               0.0  NaN  31-Mar-16  23-Nov-11  17.06766  ...   \n",
       "1             1.0               0.0  NaN  31-Mar-16  24-Nov-11  33.36718  ...   \n",
       "2             1.0               0.0  NaN  31-Mar-16  15-Dec-11  25.69731  ...   \n",
       "3             0.0               0.0  NaN  31-Mar-16  03-Feb-12  24.79339  ...   \n",
       "4             1.0               0.0  NaN  31-Mar-16  08-Feb-12  30.49149  ...   \n",
       "..            ...               ...  ...        ...        ...       ...  ...   \n",
       "125           NaN               NaN  NaN        NaN        NaN       NaN  ...   \n",
       "126           NaN               NaN  NaN        NaN        NaN       NaN  ...   \n",
       "127           NaN               NaN  NaN        NaN        NaN       NaN  ...   \n",
       "128           NaN               NaN  NaN        NaN        NaN       NaN  ...   \n",
       "129           NaN               NaN  NaN        NaN        NaN       NaN  ...   \n",
       "\n",
       "     base_ace  base_rf  base_alb  base_na  base_visit_ca125  base_visit_ca199  \\\n",
       "0         NaN      NaN       NaN      NaN               NaN               NaN   \n",
       "1         NaN      NaN       NaN      NaN               NaN               NaN   \n",
       "2         NaN      NaN       NaN      NaN               NaN               NaN   \n",
       "3         NaN      NaN       NaN      NaN               NaN               NaN   \n",
       "4         NaN      NaN       NaN      NaN               NaN               NaN   \n",
       "..        ...      ...       ...      ...               ...               ...   \n",
       "125       NaN      NaN       NaN      NaN               NaN               NaN   \n",
       "126       NaN      NaN       NaN      NaN               NaN               NaN   \n",
       "127       NaN      NaN       NaN      NaN               NaN               NaN   \n",
       "128       NaN      NaN       NaN      NaN               NaN               NaN   \n",
       "129       NaN      NaN       NaN      NaN               NaN               NaN   \n",
       "\n",
       "     base_visit_cea  base_visit_mmp7mean  delta_fvc  fibro_6m  \n",
       "0               NaN                  NaN   0.025955    0.5390  \n",
       "1               NaN                  NaN        NaN   10.2000  \n",
       "2               NaN                  NaN  -0.028283    0.5585  \n",
       "3               NaN                  NaN  -0.031383   10.6100  \n",
       "4               NaN                  NaN  -0.036052    5.8250  \n",
       "..              ...                  ...        ...       ...  \n",
       "125             NaN                  NaN        NaN       NaN  \n",
       "126             NaN                  NaN        NaN       NaN  \n",
       "127             NaN                  NaN        NaN       NaN  \n",
       "128             NaN                  NaN        NaN       NaN  \n",
       "129             NaN                  NaN        NaN       NaN  \n",
       "\n",
       "[130 rows x 44 columns]"
      ]
     },
     "execution_count": 58,
     "metadata": {},
     "output_type": "execute_result"
    }
   ],
   "source": [
    "import pandas as pd\n",
    "data = pd.read_csv('/Users/uczhn/Documents/AZURE_DATA_SCIENCE_PYTHON/Data/fibro_dataset.csv')\n",
    "data"
   ]
  },
  {
   "cell_type": "code",
   "execution_count": 66,
   "metadata": {},
   "outputs": [
    {
     "data": {
      "text/html": [
       "<div>\n",
       "<style scoped>\n",
       "    .dataframe tbody tr th:only-of-type {\n",
       "        vertical-align: middle;\n",
       "    }\n",
       "\n",
       "    .dataframe tbody tr th {\n",
       "        vertical-align: top;\n",
       "    }\n",
       "\n",
       "    .dataframe thead th {\n",
       "        text-align: right;\n",
       "    }\n",
       "</style>\n",
       "<table border=\"1\" class=\"dataframe\">\n",
       "  <thead>\n",
       "    <tr style=\"text-align: right;\">\n",
       "      <th></th>\n",
       "      <th>patientid</th>\n",
       "      <th>diseaase_prog_new</th>\n",
       "      <th>disease_mortality_new</th>\n",
       "      <th>d_ipf</th>\n",
       "      <th>disease_PROG</th>\n",
       "      <th>disease_MORTcens</th>\n",
       "      <th>DOD</th>\n",
       "      <th>censordate</th>\n",
       "      <th>d_v1date</th>\n",
       "      <th>bmi</th>\n",
       "      <th>...</th>\n",
       "      <th>base_ace</th>\n",
       "      <th>base_rf</th>\n",
       "      <th>base_alb</th>\n",
       "      <th>base_na</th>\n",
       "      <th>base_visit_ca125</th>\n",
       "      <th>base_visit_ca199</th>\n",
       "      <th>base_visit_cea</th>\n",
       "      <th>base_visit_mmp7mean</th>\n",
       "      <th>delta_fvc</th>\n",
       "      <th>fibro_6m</th>\n",
       "    </tr>\n",
       "  </thead>\n",
       "  <tbody>\n",
       "    <tr>\n",
       "      <th>1</th>\n",
       "      <td>PRO044</td>\n",
       "      <td>1.0</td>\n",
       "      <td>0.0</td>\n",
       "      <td>0.0</td>\n",
       "      <td>1.0</td>\n",
       "      <td>0.0</td>\n",
       "      <td>NaN</td>\n",
       "      <td>31-Mar-16</td>\n",
       "      <td>24-Nov-11</td>\n",
       "      <td>33.36718</td>\n",
       "      <td>...</td>\n",
       "      <td>NaN</td>\n",
       "      <td>NaN</td>\n",
       "      <td>NaN</td>\n",
       "      <td>NaN</td>\n",
       "      <td>NaN</td>\n",
       "      <td>NaN</td>\n",
       "      <td>NaN</td>\n",
       "      <td>NaN</td>\n",
       "      <td>NaN</td>\n",
       "      <td>10.2000</td>\n",
       "    </tr>\n",
       "    <tr>\n",
       "      <th>12</th>\n",
       "      <td>PRO057</td>\n",
       "      <td>0.0</td>\n",
       "      <td>0.0</td>\n",
       "      <td>0.0</td>\n",
       "      <td>0.0</td>\n",
       "      <td>0.0</td>\n",
       "      <td>NaN</td>\n",
       "      <td>31-Mar-16</td>\n",
       "      <td>03-Jul-12</td>\n",
       "      <td>22.14533</td>\n",
       "      <td>...</td>\n",
       "      <td>NaN</td>\n",
       "      <td>0.0</td>\n",
       "      <td>37.0</td>\n",
       "      <td>140.0</td>\n",
       "      <td>NaN</td>\n",
       "      <td>NaN</td>\n",
       "      <td>NaN</td>\n",
       "      <td>NaN</td>\n",
       "      <td>0.030214</td>\n",
       "      <td>9.7050</td>\n",
       "    </tr>\n",
       "    <tr>\n",
       "      <th>13</th>\n",
       "      <td>PRO058</td>\n",
       "      <td>1.0</td>\n",
       "      <td>0.0</td>\n",
       "      <td>0.0</td>\n",
       "      <td>1.0</td>\n",
       "      <td>0.0</td>\n",
       "      <td>NaN</td>\n",
       "      <td>31-Mar-16</td>\n",
       "      <td>17-Jul-12</td>\n",
       "      <td>41.80839</td>\n",
       "      <td>...</td>\n",
       "      <td>NaN</td>\n",
       "      <td>NaN</td>\n",
       "      <td>32.0</td>\n",
       "      <td>NaN</td>\n",
       "      <td>NaN</td>\n",
       "      <td>NaN</td>\n",
       "      <td>NaN</td>\n",
       "      <td>NaN</td>\n",
       "      <td>-0.021477</td>\n",
       "      <td>6.4000</td>\n",
       "    </tr>\n",
       "    <tr>\n",
       "      <th>17</th>\n",
       "      <td>PRO062</td>\n",
       "      <td>0.0</td>\n",
       "      <td>0.0</td>\n",
       "      <td>0.0</td>\n",
       "      <td>1.0</td>\n",
       "      <td>0.0</td>\n",
       "      <td>NaN</td>\n",
       "      <td>31-Mar-16</td>\n",
       "      <td>20-Aug-12</td>\n",
       "      <td>25.49383</td>\n",
       "      <td>...</td>\n",
       "      <td>NaN</td>\n",
       "      <td>NaN</td>\n",
       "      <td>36.0</td>\n",
       "      <td>142.0</td>\n",
       "      <td>NaN</td>\n",
       "      <td>NaN</td>\n",
       "      <td>NaN</td>\n",
       "      <td>NaN</td>\n",
       "      <td>-0.055703</td>\n",
       "      <td>0.6255</td>\n",
       "    </tr>\n",
       "    <tr>\n",
       "      <th>37</th>\n",
       "      <td>PROB009</td>\n",
       "      <td>1.0</td>\n",
       "      <td>1.0</td>\n",
       "      <td>0.0</td>\n",
       "      <td>1.0</td>\n",
       "      <td>1.0</td>\n",
       "      <td>15/04/2014</td>\n",
       "      <td>31-Mar-16</td>\n",
       "      <td>19-Jul-12</td>\n",
       "      <td>44.04479</td>\n",
       "      <td>...</td>\n",
       "      <td>NaN</td>\n",
       "      <td>NaN</td>\n",
       "      <td>41.0</td>\n",
       "      <td>139.0</td>\n",
       "      <td>NaN</td>\n",
       "      <td>NaN</td>\n",
       "      <td>NaN</td>\n",
       "      <td>NaN</td>\n",
       "      <td>-0.036152</td>\n",
       "      <td>11.1000</td>\n",
       "    </tr>\n",
       "    <tr>\n",
       "      <th>42</th>\n",
       "      <td>PROB014</td>\n",
       "      <td>1.0</td>\n",
       "      <td>1.0</td>\n",
       "      <td>0.0</td>\n",
       "      <td>1.0</td>\n",
       "      <td>1.0</td>\n",
       "      <td>29/03/2015</td>\n",
       "      <td>31-Mar-16</td>\n",
       "      <td>11-Dec-12</td>\n",
       "      <td>25.75717</td>\n",
       "      <td>...</td>\n",
       "      <td>NaN</td>\n",
       "      <td>NaN</td>\n",
       "      <td>NaN</td>\n",
       "      <td>NaN</td>\n",
       "      <td>NaN</td>\n",
       "      <td>NaN</td>\n",
       "      <td>NaN</td>\n",
       "      <td>NaN</td>\n",
       "      <td>-0.082556</td>\n",
       "      <td>23.0000</td>\n",
       "    </tr>\n",
       "    <tr>\n",
       "      <th>70</th>\n",
       "      <td>PRODB003</td>\n",
       "      <td>NaN</td>\n",
       "      <td>0.0</td>\n",
       "      <td>0.0</td>\n",
       "      <td>1.0</td>\n",
       "      <td>0.0</td>\n",
       "      <td>NaN</td>\n",
       "      <td>31-Mar-16</td>\n",
       "      <td>14-Nov-12</td>\n",
       "      <td>33.74653</td>\n",
       "      <td>...</td>\n",
       "      <td>NaN</td>\n",
       "      <td>NaN</td>\n",
       "      <td>34.0</td>\n",
       "      <td>139.0</td>\n",
       "      <td>NaN</td>\n",
       "      <td>NaN</td>\n",
       "      <td>NaN</td>\n",
       "      <td>NaN</td>\n",
       "      <td>-0.020453</td>\n",
       "      <td>7.4250</td>\n",
       "    </tr>\n",
       "    <tr>\n",
       "      <th>75</th>\n",
       "      <td>PROK031</td>\n",
       "      <td>1.0</td>\n",
       "      <td>1.0</td>\n",
       "      <td>0.0</td>\n",
       "      <td>0.0</td>\n",
       "      <td>1.0</td>\n",
       "      <td>10/11/2013</td>\n",
       "      <td>31-Mar-16</td>\n",
       "      <td>14-Mar-12</td>\n",
       "      <td>31.75971</td>\n",
       "      <td>...</td>\n",
       "      <td>NaN</td>\n",
       "      <td>NaN</td>\n",
       "      <td>NaN</td>\n",
       "      <td>NaN</td>\n",
       "      <td>NaN</td>\n",
       "      <td>NaN</td>\n",
       "      <td>NaN</td>\n",
       "      <td>NaN</td>\n",
       "      <td>-0.075591</td>\n",
       "      <td>24.1000</td>\n",
       "    </tr>\n",
       "    <tr>\n",
       "      <th>78</th>\n",
       "      <td>PROK034</td>\n",
       "      <td>0.0</td>\n",
       "      <td>0.0</td>\n",
       "      <td>0.0</td>\n",
       "      <td>0.0</td>\n",
       "      <td>0.0</td>\n",
       "      <td>NaN</td>\n",
       "      <td>31-Mar-16</td>\n",
       "      <td>15-Jun-12</td>\n",
       "      <td>29.20617</td>\n",
       "      <td>...</td>\n",
       "      <td>NaN</td>\n",
       "      <td>0.0</td>\n",
       "      <td>NaN</td>\n",
       "      <td>NaN</td>\n",
       "      <td>NaN</td>\n",
       "      <td>NaN</td>\n",
       "      <td>NaN</td>\n",
       "      <td>NaN</td>\n",
       "      <td>0.121647</td>\n",
       "      <td>3.3450</td>\n",
       "    </tr>\n",
       "    <tr>\n",
       "      <th>79</th>\n",
       "      <td>PROK036</td>\n",
       "      <td>0.0</td>\n",
       "      <td>0.0</td>\n",
       "      <td>0.0</td>\n",
       "      <td>0.0</td>\n",
       "      <td>0.0</td>\n",
       "      <td>NaN</td>\n",
       "      <td>31-Mar-16</td>\n",
       "      <td>03-Aug-12</td>\n",
       "      <td>25.70934</td>\n",
       "      <td>...</td>\n",
       "      <td>NaN</td>\n",
       "      <td>0.0</td>\n",
       "      <td>36.0</td>\n",
       "      <td>NaN</td>\n",
       "      <td>NaN</td>\n",
       "      <td>NaN</td>\n",
       "      <td>NaN</td>\n",
       "      <td>NaN</td>\n",
       "      <td>-0.006108</td>\n",
       "      <td>3.2500</td>\n",
       "    </tr>\n",
       "    <tr>\n",
       "      <th>80</th>\n",
       "      <td>PROK037</td>\n",
       "      <td>0.0</td>\n",
       "      <td>0.0</td>\n",
       "      <td>0.0</td>\n",
       "      <td>0.0</td>\n",
       "      <td>0.0</td>\n",
       "      <td>NaN</td>\n",
       "      <td>31-Mar-16</td>\n",
       "      <td>06-Sep-12</td>\n",
       "      <td>27.58726</td>\n",
       "      <td>...</td>\n",
       "      <td>NaN</td>\n",
       "      <td>NaN</td>\n",
       "      <td>38.0</td>\n",
       "      <td>NaN</td>\n",
       "      <td>NaN</td>\n",
       "      <td>NaN</td>\n",
       "      <td>NaN</td>\n",
       "      <td>NaN</td>\n",
       "      <td>-0.035744</td>\n",
       "      <td>1.8700</td>\n",
       "    </tr>\n",
       "    <tr>\n",
       "      <th>81</th>\n",
       "      <td>PROK038</td>\n",
       "      <td>1.0</td>\n",
       "      <td>1.0</td>\n",
       "      <td>0.0</td>\n",
       "      <td>1.0</td>\n",
       "      <td>1.0</td>\n",
       "      <td>25/10/2015</td>\n",
       "      <td>31-Mar-16</td>\n",
       "      <td>28-Sep-12</td>\n",
       "      <td>36.16042</td>\n",
       "      <td>...</td>\n",
       "      <td>NaN</td>\n",
       "      <td>0.0</td>\n",
       "      <td>35.0</td>\n",
       "      <td>NaN</td>\n",
       "      <td>NaN</td>\n",
       "      <td>NaN</td>\n",
       "      <td>NaN</td>\n",
       "      <td>NaN</td>\n",
       "      <td>-0.046649</td>\n",
       "      <td>9.4450</td>\n",
       "    </tr>\n",
       "    <tr>\n",
       "      <th>87</th>\n",
       "      <td>PROK045</td>\n",
       "      <td>1.0</td>\n",
       "      <td>1.0</td>\n",
       "      <td>0.0</td>\n",
       "      <td>1.0</td>\n",
       "      <td>1.0</td>\n",
       "      <td>16/08/2014</td>\n",
       "      <td>31-Mar-16</td>\n",
       "      <td>19-Feb-13</td>\n",
       "      <td>32.80864</td>\n",
       "      <td>...</td>\n",
       "      <td>NaN</td>\n",
       "      <td>0.0</td>\n",
       "      <td>42.0</td>\n",
       "      <td>NaN</td>\n",
       "      <td>NaN</td>\n",
       "      <td>NaN</td>\n",
       "      <td>NaN</td>\n",
       "      <td>NaN</td>\n",
       "      <td>NaN</td>\n",
       "      <td>5.7450</td>\n",
       "    </tr>\n",
       "    <tr>\n",
       "      <th>88</th>\n",
       "      <td>PROK046</td>\n",
       "      <td>0.0</td>\n",
       "      <td>0.0</td>\n",
       "      <td>0.0</td>\n",
       "      <td>0.0</td>\n",
       "      <td>0.0</td>\n",
       "      <td>NaN</td>\n",
       "      <td>31-Mar-16</td>\n",
       "      <td>22-Feb-13</td>\n",
       "      <td>28.44291</td>\n",
       "      <td>...</td>\n",
       "      <td>NaN</td>\n",
       "      <td>NaN</td>\n",
       "      <td>37.0</td>\n",
       "      <td>NaN</td>\n",
       "      <td>NaN</td>\n",
       "      <td>NaN</td>\n",
       "      <td>NaN</td>\n",
       "      <td>NaN</td>\n",
       "      <td>0.000000</td>\n",
       "      <td>1.3000</td>\n",
       "    </tr>\n",
       "    <tr>\n",
       "      <th>90</th>\n",
       "      <td>PROK048</td>\n",
       "      <td>0.0</td>\n",
       "      <td>0.0</td>\n",
       "      <td>0.0</td>\n",
       "      <td>0.0</td>\n",
       "      <td>0.0</td>\n",
       "      <td>NaN</td>\n",
       "      <td>31-Mar-16</td>\n",
       "      <td>07-Mar-13</td>\n",
       "      <td>25.43969</td>\n",
       "      <td>...</td>\n",
       "      <td>NaN</td>\n",
       "      <td>0.0</td>\n",
       "      <td>42.0</td>\n",
       "      <td>NaN</td>\n",
       "      <td>NaN</td>\n",
       "      <td>NaN</td>\n",
       "      <td>NaN</td>\n",
       "      <td>NaN</td>\n",
       "      <td>0.051125</td>\n",
       "      <td>NaN</td>\n",
       "    </tr>\n",
       "    <tr>\n",
       "      <th>93</th>\n",
       "      <td>PROK051</td>\n",
       "      <td>1.0</td>\n",
       "      <td>1.0</td>\n",
       "      <td>0.0</td>\n",
       "      <td>1.0</td>\n",
       "      <td>1.0</td>\n",
       "      <td>01/02/2014</td>\n",
       "      <td>31-Mar-16</td>\n",
       "      <td>10-May-13</td>\n",
       "      <td>28.50175</td>\n",
       "      <td>...</td>\n",
       "      <td>NaN</td>\n",
       "      <td>0.0</td>\n",
       "      <td>36.0</td>\n",
       "      <td>NaN</td>\n",
       "      <td>NaN</td>\n",
       "      <td>NaN</td>\n",
       "      <td>NaN</td>\n",
       "      <td>NaN</td>\n",
       "      <td>-0.093012</td>\n",
       "      <td>NaN</td>\n",
       "    </tr>\n",
       "    <tr>\n",
       "      <th>102</th>\n",
       "      <td>PROL010</td>\n",
       "      <td>0.0</td>\n",
       "      <td>0.0</td>\n",
       "      <td>0.0</td>\n",
       "      <td>0.0</td>\n",
       "      <td>0.0</td>\n",
       "      <td>NaN</td>\n",
       "      <td>31-Mar-16</td>\n",
       "      <td>18-Sep-12</td>\n",
       "      <td>28.84529</td>\n",
       "      <td>...</td>\n",
       "      <td>NaN</td>\n",
       "      <td>104.0</td>\n",
       "      <td>37.0</td>\n",
       "      <td>130.0</td>\n",
       "      <td>NaN</td>\n",
       "      <td>NaN</td>\n",
       "      <td>NaN</td>\n",
       "      <td>NaN</td>\n",
       "      <td>0.110723</td>\n",
       "      <td>NaN</td>\n",
       "    </tr>\n",
       "  </tbody>\n",
       "</table>\n",
       "<p>17 rows × 44 columns</p>\n",
       "</div>"
      ],
      "text/plain": [
       "    patientid  diseaase_prog_new  disease_mortality_new  d_ipf  disease_PROG  \\\n",
       "1      PRO044                1.0                    0.0    0.0           1.0   \n",
       "12     PRO057                0.0                    0.0    0.0           0.0   \n",
       "13     PRO058                1.0                    0.0    0.0           1.0   \n",
       "17     PRO062                0.0                    0.0    0.0           1.0   \n",
       "37    PROB009                1.0                    1.0    0.0           1.0   \n",
       "42    PROB014                1.0                    1.0    0.0           1.0   \n",
       "70   PRODB003                NaN                    0.0    0.0           1.0   \n",
       "75    PROK031                1.0                    1.0    0.0           0.0   \n",
       "78    PROK034                0.0                    0.0    0.0           0.0   \n",
       "79    PROK036                0.0                    0.0    0.0           0.0   \n",
       "80    PROK037                0.0                    0.0    0.0           0.0   \n",
       "81    PROK038                1.0                    1.0    0.0           1.0   \n",
       "87    PROK045                1.0                    1.0    0.0           1.0   \n",
       "88    PROK046                0.0                    0.0    0.0           0.0   \n",
       "90    PROK048                0.0                    0.0    0.0           0.0   \n",
       "93    PROK051                1.0                    1.0    0.0           1.0   \n",
       "102   PROL010                0.0                    0.0    0.0           0.0   \n",
       "\n",
       "     disease_MORTcens         DOD censordate   d_v1date       bmi  ...  \\\n",
       "1                 0.0         NaN  31-Mar-16  24-Nov-11  33.36718  ...   \n",
       "12                0.0         NaN  31-Mar-16  03-Jul-12  22.14533  ...   \n",
       "13                0.0         NaN  31-Mar-16  17-Jul-12  41.80839  ...   \n",
       "17                0.0         NaN  31-Mar-16  20-Aug-12  25.49383  ...   \n",
       "37                1.0  15/04/2014  31-Mar-16  19-Jul-12  44.04479  ...   \n",
       "42                1.0  29/03/2015  31-Mar-16  11-Dec-12  25.75717  ...   \n",
       "70                0.0         NaN  31-Mar-16  14-Nov-12  33.74653  ...   \n",
       "75                1.0  10/11/2013  31-Mar-16  14-Mar-12  31.75971  ...   \n",
       "78                0.0         NaN  31-Mar-16  15-Jun-12  29.20617  ...   \n",
       "79                0.0         NaN  31-Mar-16  03-Aug-12  25.70934  ...   \n",
       "80                0.0         NaN  31-Mar-16  06-Sep-12  27.58726  ...   \n",
       "81                1.0  25/10/2015  31-Mar-16  28-Sep-12  36.16042  ...   \n",
       "87                1.0  16/08/2014  31-Mar-16  19-Feb-13  32.80864  ...   \n",
       "88                0.0         NaN  31-Mar-16  22-Feb-13  28.44291  ...   \n",
       "90                0.0         NaN  31-Mar-16  07-Mar-13  25.43969  ...   \n",
       "93                1.0  01/02/2014  31-Mar-16  10-May-13  28.50175  ...   \n",
       "102               0.0         NaN  31-Mar-16  18-Sep-12  28.84529  ...   \n",
       "\n",
       "     base_ace  base_rf  base_alb  base_na  base_visit_ca125  base_visit_ca199  \\\n",
       "1         NaN      NaN       NaN      NaN               NaN               NaN   \n",
       "12        NaN      0.0      37.0    140.0               NaN               NaN   \n",
       "13        NaN      NaN      32.0      NaN               NaN               NaN   \n",
       "17        NaN      NaN      36.0    142.0               NaN               NaN   \n",
       "37        NaN      NaN      41.0    139.0               NaN               NaN   \n",
       "42        NaN      NaN       NaN      NaN               NaN               NaN   \n",
       "70        NaN      NaN      34.0    139.0               NaN               NaN   \n",
       "75        NaN      NaN       NaN      NaN               NaN               NaN   \n",
       "78        NaN      0.0       NaN      NaN               NaN               NaN   \n",
       "79        NaN      0.0      36.0      NaN               NaN               NaN   \n",
       "80        NaN      NaN      38.0      NaN               NaN               NaN   \n",
       "81        NaN      0.0      35.0      NaN               NaN               NaN   \n",
       "87        NaN      0.0      42.0      NaN               NaN               NaN   \n",
       "88        NaN      NaN      37.0      NaN               NaN               NaN   \n",
       "90        NaN      0.0      42.0      NaN               NaN               NaN   \n",
       "93        NaN      0.0      36.0      NaN               NaN               NaN   \n",
       "102       NaN    104.0      37.0    130.0               NaN               NaN   \n",
       "\n",
       "     base_visit_cea  base_visit_mmp7mean  delta_fvc  fibro_6m  \n",
       "1               NaN                  NaN        NaN   10.2000  \n",
       "12              NaN                  NaN   0.030214    9.7050  \n",
       "13              NaN                  NaN  -0.021477    6.4000  \n",
       "17              NaN                  NaN  -0.055703    0.6255  \n",
       "37              NaN                  NaN  -0.036152   11.1000  \n",
       "42              NaN                  NaN  -0.082556   23.0000  \n",
       "70              NaN                  NaN  -0.020453    7.4250  \n",
       "75              NaN                  NaN  -0.075591   24.1000  \n",
       "78              NaN                  NaN   0.121647    3.3450  \n",
       "79              NaN                  NaN  -0.006108    3.2500  \n",
       "80              NaN                  NaN  -0.035744    1.8700  \n",
       "81              NaN                  NaN  -0.046649    9.4450  \n",
       "87              NaN                  NaN        NaN    5.7450  \n",
       "88              NaN                  NaN   0.000000    1.3000  \n",
       "90              NaN                  NaN   0.051125       NaN  \n",
       "93              NaN                  NaN  -0.093012       NaN  \n",
       "102             NaN                  NaN   0.110723       NaN  \n",
       "\n",
       "[17 rows x 44 columns]"
      ]
     },
     "execution_count": 66,
     "metadata": {},
     "output_type": "execute_result"
    }
   ],
   "source": [
    "# create a subset of the data for males and females\n",
    "\n",
    "d_ipf_1 = data[data['d_ipf'] == 1]\n",
    "\n",
    "d_ipf_0 = data[data['d_ipf'] == 0]"
   ]
  },
  {
   "cell_type": "code",
   "execution_count": 67,
   "metadata": {},
   "outputs": [
    {
     "data": {
      "image/png": "[encoded data removed]",
      "text/plain": [
       "<Figure size 432x288 with 1 Axes>"
      ]
     },
     "metadata": {
      "needs_background": "light"
     },
     "output_type": "display_data"
    }
   ],
   "source": [
    "fig, ax = plt.subplots()\n",
    "# Plot a histogram of \"delta_fvc\" for grp 1\n",
    "ax.hist(d_ipf_1[\"delta_fvc\"])\n",
    "\n",
    "# Compare to histogram of \"delta_fvc\" for group 0\n",
    "ax.hist(d_ipf_0[\"delta_fvc\"])\n",
    "\n",
    "# Set the x-axis label to \"Weight (kg)\"\n",
    "ax.set_xlabel(\"fvc (m)\")\n",
    "\n",
    "# Set the y-axis label to \"# of observations\"\n",
    "ax.set_ylabel(\"# of observations\")\n",
    "\n",
    "plt.show()"
   ]
  },
  {
   "cell_type": "code",
   "execution_count": 69,
   "metadata": {},
   "outputs": [
    {
     "data": {
      "image/png": "[encoded data removed]",
      "text/plain": [
       "<Figure size 432x288 with 1 Axes>"
      ]
     },
     "metadata": {
      "needs_background": "light"
     },
     "output_type": "display_data"
    }
   ],
   "source": [
    "# the step functin simplly makes values for the two graphs more distinct\n",
    "\n",
    "fig, ax = plt.subplots()\n",
    "# Plot a histogram of \"delta_fvc\" for grp 1\n",
    "ax.hist(d_ipf_1[\"delta_fvc\"],  histtype='step', label=\"idp = 1\", bins=5)\n",
    "\n",
    "# Compare to histogram of \"delta_fvc\" for group 0\n",
    "ax.hist(d_ipf_0[\"delta_fvc\"],  histtype='step', label=\"idp = 0\", bins=5)\n",
    "\n",
    "# Set the x-axis label to \"Weight (kg)\"\n",
    "ax.set_xlabel(\"fvc (m)\")\n",
    "\n",
    "# Set the y-axis label to \"# of observations\"\n",
    "ax.set_ylabel(\"# of observations\")\n",
    "\n",
    "# Add the legend and show the Figure\n",
    "ax.legend()\n",
    "plt.show()"
   ]
  },
  {
   "cell_type": "markdown",
   "metadata": {},
   "source": [
    "# Adding error-bars to a bar chart"
   ]
  },
  {
   "cell_type": "code",
   "execution_count": 73,
   "metadata": {},
   "outputs": [
    {
     "data": {
      "image/png": "[encoded data removed]",
      "text/plain": [
       "<Figure size 432x288 with 1 Axes>"
      ]
     },
     "metadata": {
      "needs_background": "light"
     },
     "output_type": "display_data"
    }
   ],
   "source": [
    "fig, ax = plt.subplots()\n",
    "\n",
    "# Add a bar for the idp=1 for \"fvc\" column mean/std\n",
    "ax.bar(\"Idp= 1\", d_ipf_1[\"delta_fvc\"].mean(), yerr=d_ipf_1[\"delta_fvc\"].std())\n",
    "\n",
    "# Add a bar foridp=0 for \"fvc\" column mean/std\n",
    "ax.bar(\"idp=0\", d_ipf_0[\"delta_fvc\"].mean(), yerr=d_ipf_0[\"delta_fvc\"].std())\n",
    "\n",
    "# Label the y-axis\n",
    "ax.set_ylabel(\"fvc (cm)\")\n",
    "\n",
    "plt.show()"
   ]
  },
  {
   "cell_type": "markdown",
   "metadata": {},
   "source": [
    "# this is how you would add error bars tine plot"
   ]
  },
  {
   "cell_type": "markdown",
   "metadata": {},
   "source": [
    " NB you haved to calculate a columns showing the standard deviation for each  month  in your own  data set\n",
    "this data already has the stdev column calculated, MLY-TAVG-STDDEV\"\n",
    "\n",
    "fig, ax = plt.subplots()\n",
    "\n",
    "#Add the Seattle temperature data in each month with standard deviation error bars\n",
    "\n",
    "ax.errorbar(seattle_weather[\"MONTH\"], seattle_weather[\"MLY-TAVG-NORMAL\"], yerr=seattle_weather[\"MLY-TAVG-STDDEV\"])\n",
    "\n",
    "#Add the Austin temperature data in each month with standard deviation error bars\n",
    "ax.errorbar(austin_weather[\"MONTH\"], austin_weather[\"MLY-TAVG-NORMAL\"], yerr=austin_weather[\"MLY-TAVG-STDDEV\"])\n",
    "\n",
    "\n",
    "Set the y-axis label\n",
    "ax.set_ylabel(\"Temperature (Fahrenheit)\")\n",
    "\n",
    "plt.show()"
   ]
  },
  {
   "cell_type": "markdown",
   "metadata": {},
   "source": [
    "# Creating boxplots"
   ]
  },
  {
   "cell_type": "code",
   "execution_count": 77,
   "metadata": {},
   "outputs": [
    {
     "data": {
      "image/png": "[encoded data removed]",
      "text/plain": [
       "<Figure size 432x288 with 1 Axes>"
      ]
     },
     "metadata": {
      "needs_background": "light"
     },
     "output_type": "display_data"
    }
   ],
   "source": [
    "import matplotlib.pyplot as plt\n",
    "fig, ax = plt.subplots()\n",
    "\n",
    "# Add a boxplot for the \"bmi\" column in the DataFrames\n",
    "ax.boxplot([d_ipf_1[\"bmi\"], d_ipf_0[\"bmi\"]])\n",
    "\n",
    "\n",
    "# Add x-axis tick labels:\n",
    "ax.set_xticklabels([\"idp=1\", \"idp=0\"])\n",
    "\n",
    "# Add a y-axis label\n",
    "ax.set_ylabel(\"bmi\")\n",
    "\n",
    "plt.show()"
   ]
  },
  {
   "cell_type": "markdown",
   "metadata": {},
   "source": [
    "# scatter plots"
   ]
  },
  {
   "cell_type": "code",
   "execution_count": 78,
   "metadata": {},
   "outputs": [
    {
     "data": {
      "image/png": "[encoded data removed]",
      "text/plain": [
       "<Figure size 432x288 with 1 Axes>"
      ]
     },
     "metadata": {
      "needs_background": "light"
     },
     "output_type": "display_data"
    }
   ],
   "source": [
    "fig, ax = plt.subplots()\n",
    "\n",
    "# plotting delta_fvc vs fibro_6m\n",
    "ax.scatter(data[\"delta_fvc\"], data[\"fibro_6m\"])\n",
    "\n",
    "# Set the x-axis label to \"CO2 (ppm)\"\n",
    "ax.set_xlabel(\"delta_fvc\")\n",
    "\n",
    "# Set the y-axis label to \"Relative temperature (C)\"\n",
    "ax.set_ylabel(\"fibro_6m\")\n",
    "\n",
    "plt.show()"
   ]
  },
  {
   "cell_type": "markdown",
   "metadata": {},
   "source": [
    "# we can add the third dimension using colour\n",
    "\n",
    "# This code doesnt work,. need to convert date in thge right format\n",
    "\n",
    "fig, ax = plt.subplots()\n",
    "ax.scatter(data[\"delta_fvc\"], data[\"fibro_6m\"], c =data.d_v1date) # the data has to be in the right format \n",
    "\n",
    "ax.set_xlabel(\"delta_fvc\")\n",
    "\n",
    "# Set the y-axis label to \"Relative temperature (C)\"\n",
    "ax.set_ylabel(\"fibro_6m\")\n",
    "\n",
    "plt.show()"
   ]
  },
  {
   "cell_type": "markdown",
   "metadata": {},
   "source": [
    "# changing styles and sharing results\n"
   ]
  },
  {
   "cell_type": "code",
   "execution_count": 82,
   "metadata": {},
   "outputs": [],
   "source": [
    "import pandas as pd\n",
    "data = pd.read_csv('/Users/uczhn/Documents/AZURE_DATA_SCIENCE_PYTHON/Data/birthsdf.csv', index_col = 0)\n"
   ]
  },
  {
   "cell_type": "code",
   "execution_count": 83,
   "metadata": {},
   "outputs": [
    {
     "data": {
      "image/png": "[encoded data removed]",
      "text/plain": [
       "<Figure size 432x288 with 1 Axes>"
      ]
     },
     "metadata": {},
     "output_type": "display_data"
    }
   ],
   "source": [
    "plt.style.use('ggplot') # notice the grey style ggplot background\n",
    "import matplotlib.pyplot as plt\n",
    "\n",
    "# Create a Figure and an Axes with plt.subplots\n",
    "fig, ax = plt.subplots()\n",
    "\n",
    "# Plot name vs births\n",
    "ax.plot(data[\"name\"], data[\"births\"])\n",
    "\n",
    "# Plot name vs births1\n",
    "ax.plot(data[\"name\"], data[\"Births1\"])\n",
    "\n",
    "# Call the show function\n",
    "plt.show()\n"
   ]
  },
  {
   "cell_type": "code",
   "execution_count": 84,
   "metadata": {},
   "outputs": [
    {
     "data": {
      "image/png": "[encoded data removed]",
      "text/plain": [
       "<Figure size 432x288 with 1 Axes>"
      ]
     },
     "metadata": {},
     "output_type": "display_data"
    }
   ],
   "source": [
    "plt.style.use('Solarize_Light2')\n",
    "# Create a Figure and an Axes with plt.subplots\n",
    "fig, ax = plt.subplots()\n",
    "\n",
    "# Plot name vs births\n",
    "ax.plot(data[\"name\"], data[\"births\"])\n",
    "\n",
    "# Plot name vs births1\n",
    "ax.plot(data[\"name\"], data[\"Births1\"])\n",
    "\n",
    "# Call the show function\n",
    "plt.show()"
   ]
  },
  {
   "cell_type": "code",
   "execution_count": 85,
   "metadata": {},
   "outputs": [
    {
     "data": {
      "image/png": "[encoded data removed]",
      "text/plain": [
       "<Figure size 432x288 with 1 Axes>"
      ]
     },
     "metadata": {},
     "output_type": "display_data"
    }
   ],
   "source": [
    "plt.style.use('tableau-colorblind10')\n",
    "# Create a Figure and an Axes with plt.subplots\n",
    "fig, ax = plt.subplots()\n",
    "\n",
    "# Plot name vs births\n",
    "ax.plot(data[\"name\"], data[\"births\"])\n",
    "\n",
    "# Plot name vs births1\n",
    "ax.plot(data[\"name\"], data[\"Births1\"])\n",
    "\n",
    "# Call the show function\n",
    "plt.show()"
   ]
  },
  {
   "cell_type": "markdown",
   "metadata": {},
   "source": [
    "# saving plots"
   ]
  },
  {
   "cell_type": "code",
   "execution_count": 86,
   "metadata": {},
   "outputs": [
    {
     "data": {
      "image/png": "[encoded data removed]",
      "text/plain": [
       "<Figure size 432x288 with 1 Axes>"
      ]
     },
     "metadata": {},
     "output_type": "display_data"
    }
   ],
   "source": [
    "plt.style.use('tableau-colorblind10')\n",
    "# Create a Figure and an Axes with plt.subplots\n",
    "fig, ax = plt.subplots()\n",
    "\n",
    "# Plot name vs births\n",
    "ax.plot(data[\"name\"], data[\"births\"])\n",
    "\n",
    "# Plot name vs births1\n",
    "ax.plot(data[\"name\"], data[\"Births1\"])\n",
    "fig.savefig('/Users/uczhn/Documents/AZURE_DATA_SCIENCE_PYTHON/fig_out/my_figure.png')\n",
    "# name of file that would be saved is my_figure\n",
    "# Save as a PNG file with 300 dpi\n",
    "# fig.savefig('my_figure_300dpi.png', dpi=300)\n",
    "# Set figure dimensions and save as a PNG\n",
    "#fig.set_size_inches([3, 5])\n",
    "#fig.savefig('figure_3_5.png')"
   ]
  },
  {
   "cell_type": "markdown",
   "metadata": {},
   "source": [
    "# Automating figures from data"
   ]
  },
  {
   "cell_type": "code",
   "execution_count": 87,
   "metadata": {},
   "outputs": [
    {
     "data": {
      "text/html": [
       "<div>\n",
       "<style scoped>\n",
       "    .dataframe tbody tr th:only-of-type {\n",
       "        vertical-align: middle;\n",
       "    }\n",
       "\n",
       "    .dataframe tbody tr th {\n",
       "        vertical-align: top;\n",
       "    }\n",
       "\n",
       "    .dataframe thead th {\n",
       "        text-align: right;\n",
       "    }\n",
       "</style>\n",
       "<table border=\"1\" class=\"dataframe\">\n",
       "  <thead>\n",
       "    <tr style=\"text-align: right;\">\n",
       "      <th></th>\n",
       "      <th>name</th>\n",
       "      <th>births</th>\n",
       "      <th>Births1</th>\n",
       "    </tr>\n",
       "  </thead>\n",
       "  <tbody>\n",
       "    <tr>\n",
       "      <th>0</th>\n",
       "      <td>bob</td>\n",
       "      <td>966</td>\n",
       "      <td>809</td>\n",
       "    </tr>\n",
       "    <tr>\n",
       "      <th>1</th>\n",
       "      <td>jessica</td>\n",
       "      <td>155</td>\n",
       "      <td>133</td>\n",
       "    </tr>\n",
       "    <tr>\n",
       "      <th>2</th>\n",
       "      <td>mary</td>\n",
       "      <td>77</td>\n",
       "      <td>66</td>\n",
       "    </tr>\n",
       "    <tr>\n",
       "      <th>3</th>\n",
       "      <td>john</td>\n",
       "      <td>578</td>\n",
       "      <td>489</td>\n",
       "    </tr>\n",
       "    <tr>\n",
       "      <th>4</th>\n",
       "      <td>mel</td>\n",
       "      <td>973</td>\n",
       "      <td>787</td>\n",
       "    </tr>\n",
       "  </tbody>\n",
       "</table>\n",
       "</div>"
      ],
      "text/plain": [
       "      name  births  Births1\n",
       "0      bob     966      809\n",
       "1  jessica     155      133\n",
       "2     mary      77       66\n",
       "3     john     578      489\n",
       "4      mel     973      787"
      ]
     },
     "execution_count": 87,
     "metadata": {},
     "output_type": "execute_result"
    }
   ],
   "source": [
    "data"
   ]
  },
  {
   "cell_type": "code",
   "execution_count": 89,
   "metadata": {},
   "outputs": [
    {
     "name": "stdout",
     "output_type": "stream",
     "text": [
      "['bob' 'jessica' 'mary' 'john' 'mel']\n"
     ]
    }
   ],
   "source": [
    "# Visualisations can be automated that adapt to the data provided\n",
    "# This will creat a bar plot depoending on the number of categoiries of names\n",
    "\n",
    "# Extract the \"name\" column\n",
    "name_column = data[\"name\"]\n",
    "\n",
    "# Find the unique values of the \"names\" column\n",
    "names = name_column.unique()\n",
    "\n",
    "# Print out the unique sports values\n",
    "print(names)"
   ]
  },
  {
   "cell_type": "code",
   "execution_count": 93,
   "metadata": {},
   "outputs": [
    {
     "name": "stderr",
     "output_type": "stream",
     "text": [
      "<ipython-input-93-05ed5aecb643>:11: UserWarning: FixedFormatter should only be used together with FixedLocator\n",
      "  ax.set_xticklabels(names, rotation=90)\n"
     ]
    },
    {
     "data": {
      "image/png": "[encoded data removed]",
      "text/plain": [
       "<Figure size 432x288 with 1 Axes>"
      ]
     },
     "metadata": {},
     "output_type": "display_data"
    }
   ],
   "source": [
    "fig, ax = plt.subplots()\n",
    "\n",
    "# Loop over the different names branches\n",
    "for name in names:\n",
    "  # Extract the rows only for this name\n",
    "  name_df = data[data[\"name\"] == name]\n",
    "  # Add a bar for the \"birhs\" mean with std y error bar\n",
    "  ax.bar(name, name_df[\"births\"].mean(), yerr=name_df[\"births\"].std())\n",
    "\n",
    "ax.set_ylabel(\"births\")\n",
    "ax.set_xticklabels(names, rotation=90)\n",
    "\n",
    "plt.show()\n"
   ]
  },
  {
   "cell_type": "code",
   "execution_count": null,
   "metadata": {},
   "outputs": [],
   "source": [
    "fig, ax = plt.subplots()\n",
    "\n",
    "# Loop over the different sports branches\n",
    "for sport in sports:\n",
    "  # Extract the rows only for this sport\n",
    "  sport_df = summer_2016_medals[summer_2016_medals[\"Sport\"] == sport]\n",
    "  # Add a bar for the \"Weight\" mean with std y error bar\n",
    "  ax.bar(sport, sport_df[\"Weight\"].mean(), yerr=sport_df[\"Weight\"].std())\n",
    "\n",
    "ax.set_ylabel(\"Weight\")\n",
    "ax.set_xticklabels(sports, rotation=90)\n",
    "\n",
    "# Save the figure to file\n",
    "fig.savefig(\"sports_weights.png\")"
   ]
  },
  {
   "cell_type": "markdown",
   "metadata": {},
   "source": [
    "# Multiline plots"
   ]
  },
  {
   "cell_type": "code",
   "execution_count": 8,
   "metadata": {},
   "outputs": [],
   "source": [
    "# we cab plot all the lines we want before showing the plot"
   ]
  },
  {
   "cell_type": "code",
   "execution_count": 22,
   "metadata": {
    "collapsed": true
   },
   "outputs": [
    {
     "data": {
      "image/png": "[encoded data removed]",
      "text/plain": [
       "<Figure size 432x288 with 1 Axes>"
      ]
     },
     "metadata": {
      "needs_background": "light"
     },
     "output_type": "display_data"
    }
   ],
   "source": [
    " import matplotlib.pyplot as plt\n",
    "x = range(1, 5)\n",
    "plt.plot(x, [xi*1.5 for xi in x])\n",
    "plt.plot(x, [xi*3.0 for xi in x])\n",
    "plt.plot(x, [xi/3.0 for xi in x])\n",
    "plt.show()"
   ]
  },
  {
   "cell_type": "code",
   "execution_count": 24,
   "metadata": {},
   "outputs": [
    {
     "data": {
      "image/png": "[encoded data removed]",
      "text/plain": [
       "<Figure size 432x288 with 1 Axes>"
      ]
     },
     "metadata": {
      "needs_background": "light"
     },
     "output_type": "display_data"
    }
   ],
   "source": [
    "plt.plot(x, [xi*1.5 for xi in x], x, [xi*3.0 for xi in x], x,[xi/3.0 for xi in x])\n",
    "plt.grid(True)\n",
    "plt.show()"
   ]
  },
  {
   "cell_type": "markdown",
   "metadata": {},
   "source": [
    "# suppressing function outout"
   ]
  },
  {
   "cell_type": "code",
   "execution_count": null,
   "metadata": {},
   "outputs": [],
   "source": [
    "# just by adding a ; at the end of the plt.plot() suppresses the output lines not needed\n",
    "\n",
    "import matplotlib.pyplot as plt\n",
    "plt.plot([1, 2])\n",
    "\n",
    "plt.plot([2,1]);  "
   ]
  },
  {
   "cell_type": "markdown",
   "metadata": {},
   "source": [
    "# decorate Graphs"
   ]
  },
  {
   "cell_type": "code",
   "execution_count": null,
   "metadata": {},
   "outputs": [],
   "source": [
    "# plot() supports an optional third argument that contains a format string for each pair of X, Y arguments in the form of:\n",
    "# plt.plot(X, Y, '<format>', ...)\n",
    "# There are three levels of customization:\n",
    "# Colors\n",
    "# Line styles\n",
    "# Marker styles"
   ]
  },
  {
   "cell_type": "code",
   "execution_count": 48,
   "metadata": {},
   "outputs": [
    {
     "data": {
      "image/png": "[encoded data removed]",
      "text/plain": [
       "<Figure size 432x288 with 1 Axes>"
      ]
     },
     "metadata": {
      "needs_background": "light"
     },
     "output_type": "display_data"
    }
   ],
   "source": [
    "import matplotlib.pyplot as plt\n",
    "import numpy as np\n",
    "y = np.arange(1, 3)\n",
    "plt.plot(y, 'y');  # y yellow, m= mangenta and c= cyan colour lines from top to bottom , check other colour abbreviations\n",
    "plt.plot(y+1, 'm');\n",
    "plt.plot(y+2, 'c');\n",
    "plt.show()"
   ]
  },
  {
   "cell_type": "markdown",
   "metadata": {},
   "source": [
    "# Controlling line style"
   ]
  },
  {
   "cell_type": "code",
   "execution_count": null,
   "metadata": {},
   "outputs": [],
   "source": [
    "# Indeed, the plot() syntax can be expanded as:\n",
    "# plt.plot(x1, y1, fmt1, x2, y2, fmt2, ...) to include line format\n"
   ]
  },
  {
   "cell_type": "code",
   "execution_count": 49,
   "metadata": {},
   "outputs": [
    {
     "data": {
      "image/png": "[encoded data removed]",
      "text/plain": [
       "<Figure size 432x288 with 1 Axes>"
      ]
     },
     "metadata": {
      "needs_background": "light"
     },
     "output_type": "display_data"
    }
   ],
   "source": [
    "import matplotlib.pyplot as plt\n",
    "import numpy as np\n",
    "y = np.arange(1, 3)\n",
    "plt.plot(y, '--', y+1, '-.', y+2, ':');  # -- dashed lines, - solid line, -. dashed dotted lines : dotted lines\n",
    "plt.show()"
   ]
  },
  {
   "cell_type": "code",
   "execution_count": 50,
   "metadata": {},
   "outputs": [
    {
     "data": {
      "image/png": "[encoded data removed]",
      "text/plain": [
       "<Figure size 432x288 with 1 Axes>"
      ]
     },
     "metadata": {
      "needs_background": "light"
     },
     "output_type": "display_data"
    }
   ],
   "source": [
    "# controlling market style\n",
    "import matplotlib.pyplot as plt\n",
    "import numpy as np\n",
    "y = np.arange(1, 3, 0.2)\n",
    "plt.plot(y, 'x', y+0.5, 'o', y+1, 'D', y+1.5, '^', y+2, 's');\n",
    "plt.show()"
   ]
  },
  {
   "cell_type": "markdown",
   "metadata": {},
   "source": [
    "# Histogram charts"
   ]
  },
  {
   "cell_type": "code",
   "execution_count": 52,
   "metadata": {},
   "outputs": [
    {
     "data": {
      "image/png": "[encoded data removed]",
      "text/plain": [
       "<Figure size 432x288 with 1 Axes>"
      ]
     },
     "metadata": {
      "needs_background": "light"
     },
     "output_type": "display_data"
    }
   ],
   "source": [
    "import matplotlib.pyplot as plt\n",
    "import numpy as np\n",
    "y = np.random.randn(1000)\n",
    "plt.hist(y);\n",
    "plt.show()"
   ]
  },
  {
   "cell_type": "code",
   "execution_count": 53,
   "metadata": {},
   "outputs": [
    {
     "data": {
      "image/png": "[encoded data removed]",
      "text/plain": [
       "<Figure size 432x288 with 1 Axes>"
      ]
     },
     "metadata": {
      "needs_background": "light"
     },
     "output_type": "display_data"
    }
   ],
   "source": [
    "# by default, only 10 bins are shown, se we can customise it like so\n",
    "import matplotlib.pyplot as plt\n",
    "import numpy as np\n",
    "y = np.random.randn(1000)\n",
    "plt.hist(y, 25); # 25bins\n",
    "plt.show()\n"
   ]
  },
  {
   "cell_type": "code",
   "execution_count": 54,
   "metadata": {},
   "outputs": [
    {
     "data": {
      "image/png": "[encoded data removed]",
      "text/plain": [
       "<Figure size 432x288 with 1 Axes>"
      ]
     },
     "metadata": {
      "needs_background": "light"
     },
     "output_type": "display_data"
    }
   ],
   "source": [
    "# Error bars :  errorbar() function\n",
    "\n",
    "import matplotlib.pyplot as plt\n",
    "import numpy as np\n",
    "x = np.arange(0, 4, 0.2)\n",
    "y = np.exp(-x)\n",
    "e1 = 0.1 * np.abs(np.random.randn(len(y)))\n",
    "plt.errorbar(x, y, yerr=e1, fmt='.-');  # we can use xerr for horizontal error bars\n",
    "plt.show()"
   ]
  },
  {
   "cell_type": "markdown",
   "metadata": {},
   "source": [
    "# Bar charts"
   ]
  },
  {
   "cell_type": "code",
   "execution_count": 55,
   "metadata": {},
   "outputs": [
    {
     "data": {
      "image/png": "[encoded data removed]",
      "text/plain": [
       "<Figure size 432x288 with 1 Axes>"
      ]
     },
     "metadata": {
      "needs_background": "light"
     },
     "output_type": "display_data"
    }
   ],
   "source": [
    "import matplotlib.pyplot as plt\n",
    "plt.bar([1, 2, 3], [3, 2, 5]);\n",
    "plt.show()"
   ]
  },
  {
   "cell_type": "code",
   "execution_count": null,
   "metadata": {},
   "outputs": [],
   "source": [
    "# other plots\n",
    "\n",
    "# plt.pie(x)\n",
    "\n",
    "# plt,scatter(x,y)"
   ]
  },
  {
   "cell_type": "markdown",
   "metadata": {},
   "source": [
    "# Annotations"
   ]
  },
  {
   "cell_type": "code",
   "execution_count": null,
   "metadata": {},
   "outputs": [],
   "source": [
    "# check text()  and annotations9) , plt.arrow() functions for details on how to do this"
   ]
  },
  {
   "cell_type": "markdown",
   "metadata": {},
   "source": [
    "# Using the movies data set"
   ]
  },
  {
   "cell_type": "code",
   "execution_count": 57,
   "metadata": {},
   "outputs": [],
   "source": [
    "import pandas as pd\n",
    "movies = pd.read_csv('IMDB-Movie-Data.csv',index_col = \"Title\" )"
   ]
  },
  {
   "cell_type": "code",
   "execution_count": 58,
   "metadata": {},
   "outputs": [
    {
     "data": {
      "text/plain": [
       "Index(['Rank', 'Genre', 'Description', 'Director', 'Actors', 'Year',\n",
       "       'Runtime (Minutes)', 'Rating', 'Votes', 'Revenue (Millions)',\n",
       "       'Metascore'],\n",
       "      dtype='object')"
      ]
     },
     "execution_count": 58,
     "metadata": {},
     "output_type": "execute_result"
    }
   ],
   "source": [
    "movies.columns"
   ]
  },
  {
   "cell_type": "code",
   "execution_count": 60,
   "metadata": {},
   "outputs": [
    {
     "data": {
      "image/png": "[encoded data removed]",
      "text/plain": [
       "<Figure size 432x288 with 1 Axes>"
      ]
     },
     "metadata": {
      "needs_background": "light"
     },
     "output_type": "display_data"
    }
   ],
   "source": [
    "movies['Rating'].plot(kind='hist', title='Rating');"
   ]
  },
  {
   "cell_type": "code",
   "execution_count": 62,
   "metadata": {},
   "outputs": [
    {
     "data": {
      "image/png": "[encoded data removed]",
      "text/plain": [
       "<Figure size 432x288 with 1 Axes>"
      ]
     },
     "metadata": {
      "needs_background": "light"
     },
     "output_type": "display_data"
    }
   ],
   "source": [
    "movies.plot(kind='scatter', x='Rating', y='C);"
   ]
  },
  {
   "cell_type": "code",
   "execution_count": 63,
   "metadata": {},
   "outputs": [
    {
     "data": {
      "image/png": "[encoded data removed]",
      "text/plain": [
       "<Figure size 432x288 with 1 Axes>"
      ]
     },
     "metadata": {
      "needs_background": "light"
     },
     "output_type": "display_data"
    }
   ],
   "source": [
    "movies['Rating'].plot(kind=\"box\");"
   ]
  },
  {
   "cell_type": "code",
   "execution_count": 68,
   "metadata": {},
   "outputs": [
    {
     "data": {
      "text/plain": [
       "<matplotlib.axes._subplots.AxesSubplot at 0x285cbe9aec8>"
      ]
     },
     "execution_count": 68,
     "metadata": {},
     "output_type": "execute_result"
    },
    {
     "data": {
      "image/png": "[encoded data removed]",
      "text/plain": [
       "<Figure size 432x288 with 1 Axes>"
      ]
     },
     "metadata": {
      "needs_background": "light"
     },
     "output_type": "display_data"
    }
   ],
   "source": [
    "movies.boxplot(column='Revenue (Millions)', by='Rank')"
   ]
  },
  {
   "cell_type": "code",
   "execution_count": null,
   "metadata": {},
   "outputs": [],
   "source": []
  }
 ],
 "metadata": {
  "kernelspec": {
   "display_name": "Python 3 (ipykernel)",
   "language": "python",
   "name": "python3"
  },
  "language_info": {
   "codemirror_mode": {
    "name": "ipython",
    "version": 3
   },
   "file_extension": ".py",
   "mimetype": "text/x-python",
   "name": "python",
   "nbconvert_exporter": "python",
   "pygments_lexer": "ipython3",
   "version": "3.8.8"
  }
 },
 "nbformat": 4,
 "nbformat_minor": 4
}
